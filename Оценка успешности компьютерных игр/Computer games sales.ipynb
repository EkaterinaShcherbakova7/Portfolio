{
 "cells": [
  {
   "cell_type": "markdown",
   "metadata": {},
   "source": [
    "# Оценка успешности компьютерных игр\n",
    "\n",
    "**Цель исследования:** на основании данных из открытых источников о продажах игр, оценках пользователей и экспертов, жанров и платформ (например, Xbox или PlayStation) выявить определяющие успешность игры закономерности для выбора потенциально популярных продуктов и планирования рекламной кампании.\n",
    "\n",
    "Для исследования будет использованы данные до 2016 года. Нужно спланировать кампанию на следующий год.\n",
    "\n",
    "План работы:\n",
    "\n",
    "1. Получение и изучение данных\n",
    "2. Предобработка данных\n",
    "3. Исследовательский анализ данных\n",
    "4. Составление портрета пользователя каждого региона\n",
    "5. Проверка гипотез\n",
    "6. Оформление результатов\n",
    "7. Вывод"
   ]
  },
  {
   "cell_type": "markdown",
   "metadata": {},
   "source": [
    "## Получение и изучение данных"
   ]
  },
  {
   "cell_type": "code",
   "execution_count": 1,
   "metadata": {},
   "outputs": [],
   "source": [
    "import pandas as pd\n",
    "from matplotlib import pyplot as plt\n",
    "import numpy as np\n",
    "import seaborn\n",
    "from scipy import stats as st"
   ]
  },
  {
   "cell_type": "markdown",
   "metadata": {},
   "source": [
    "откроем файл и посмотрим на данные"
   ]
  },
  {
   "cell_type": "code",
   "execution_count": 2,
   "metadata": {},
   "outputs": [
    {
     "data": {
      "text/html": [
       "<div>\n",
       "<style scoped>\n",
       "    .dataframe tbody tr th:only-of-type {\n",
       "        vertical-align: middle;\n",
       "    }\n",
       "\n",
       "    .dataframe tbody tr th {\n",
       "        vertical-align: top;\n",
       "    }\n",
       "\n",
       "    .dataframe thead th {\n",
       "        text-align: right;\n",
       "    }\n",
       "</style>\n",
       "<table border=\"1\" class=\"dataframe\">\n",
       "  <thead>\n",
       "    <tr style=\"text-align: right;\">\n",
       "      <th></th>\n",
       "      <th>Name</th>\n",
       "      <th>Platform</th>\n",
       "      <th>Year_of_Release</th>\n",
       "      <th>Genre</th>\n",
       "      <th>NA_sales</th>\n",
       "      <th>EU_sales</th>\n",
       "      <th>JP_sales</th>\n",
       "      <th>Other_sales</th>\n",
       "      <th>Critic_Score</th>\n",
       "      <th>User_Score</th>\n",
       "      <th>Rating</th>\n",
       "    </tr>\n",
       "  </thead>\n",
       "  <tbody>\n",
       "    <tr>\n",
       "      <th>0</th>\n",
       "      <td>Wii Sports</td>\n",
       "      <td>Wii</td>\n",
       "      <td>2006.0</td>\n",
       "      <td>Sports</td>\n",
       "      <td>41.36</td>\n",
       "      <td>28.96</td>\n",
       "      <td>3.77</td>\n",
       "      <td>8.45</td>\n",
       "      <td>76.0</td>\n",
       "      <td>8</td>\n",
       "      <td>E</td>\n",
       "    </tr>\n",
       "    <tr>\n",
       "      <th>1</th>\n",
       "      <td>Super Mario Bros.</td>\n",
       "      <td>NES</td>\n",
       "      <td>1985.0</td>\n",
       "      <td>Platform</td>\n",
       "      <td>29.08</td>\n",
       "      <td>3.58</td>\n",
       "      <td>6.81</td>\n",
       "      <td>0.77</td>\n",
       "      <td>NaN</td>\n",
       "      <td>NaN</td>\n",
       "      <td>NaN</td>\n",
       "    </tr>\n",
       "    <tr>\n",
       "      <th>2</th>\n",
       "      <td>Mario Kart Wii</td>\n",
       "      <td>Wii</td>\n",
       "      <td>2008.0</td>\n",
       "      <td>Racing</td>\n",
       "      <td>15.68</td>\n",
       "      <td>12.76</td>\n",
       "      <td>3.79</td>\n",
       "      <td>3.29</td>\n",
       "      <td>82.0</td>\n",
       "      <td>8.3</td>\n",
       "      <td>E</td>\n",
       "    </tr>\n",
       "    <tr>\n",
       "      <th>3</th>\n",
       "      <td>Wii Sports Resort</td>\n",
       "      <td>Wii</td>\n",
       "      <td>2009.0</td>\n",
       "      <td>Sports</td>\n",
       "      <td>15.61</td>\n",
       "      <td>10.93</td>\n",
       "      <td>3.28</td>\n",
       "      <td>2.95</td>\n",
       "      <td>80.0</td>\n",
       "      <td>8</td>\n",
       "      <td>E</td>\n",
       "    </tr>\n",
       "    <tr>\n",
       "      <th>4</th>\n",
       "      <td>Pokemon Red/Pokemon Blue</td>\n",
       "      <td>GB</td>\n",
       "      <td>1996.0</td>\n",
       "      <td>Role-Playing</td>\n",
       "      <td>11.27</td>\n",
       "      <td>8.89</td>\n",
       "      <td>10.22</td>\n",
       "      <td>1.00</td>\n",
       "      <td>NaN</td>\n",
       "      <td>NaN</td>\n",
       "      <td>NaN</td>\n",
       "    </tr>\n",
       "    <tr>\n",
       "      <th>5</th>\n",
       "      <td>Tetris</td>\n",
       "      <td>GB</td>\n",
       "      <td>1989.0</td>\n",
       "      <td>Puzzle</td>\n",
       "      <td>23.20</td>\n",
       "      <td>2.26</td>\n",
       "      <td>4.22</td>\n",
       "      <td>0.58</td>\n",
       "      <td>NaN</td>\n",
       "      <td>NaN</td>\n",
       "      <td>NaN</td>\n",
       "    </tr>\n",
       "    <tr>\n",
       "      <th>6</th>\n",
       "      <td>New Super Mario Bros.</td>\n",
       "      <td>DS</td>\n",
       "      <td>2006.0</td>\n",
       "      <td>Platform</td>\n",
       "      <td>11.28</td>\n",
       "      <td>9.14</td>\n",
       "      <td>6.50</td>\n",
       "      <td>2.88</td>\n",
       "      <td>89.0</td>\n",
       "      <td>8.5</td>\n",
       "      <td>E</td>\n",
       "    </tr>\n",
       "    <tr>\n",
       "      <th>7</th>\n",
       "      <td>Wii Play</td>\n",
       "      <td>Wii</td>\n",
       "      <td>2006.0</td>\n",
       "      <td>Misc</td>\n",
       "      <td>13.96</td>\n",
       "      <td>9.18</td>\n",
       "      <td>2.93</td>\n",
       "      <td>2.84</td>\n",
       "      <td>58.0</td>\n",
       "      <td>6.6</td>\n",
       "      <td>E</td>\n",
       "    </tr>\n",
       "    <tr>\n",
       "      <th>8</th>\n",
       "      <td>New Super Mario Bros. Wii</td>\n",
       "      <td>Wii</td>\n",
       "      <td>2009.0</td>\n",
       "      <td>Platform</td>\n",
       "      <td>14.44</td>\n",
       "      <td>6.94</td>\n",
       "      <td>4.70</td>\n",
       "      <td>2.24</td>\n",
       "      <td>87.0</td>\n",
       "      <td>8.4</td>\n",
       "      <td>E</td>\n",
       "    </tr>\n",
       "    <tr>\n",
       "      <th>9</th>\n",
       "      <td>Duck Hunt</td>\n",
       "      <td>NES</td>\n",
       "      <td>1984.0</td>\n",
       "      <td>Shooter</td>\n",
       "      <td>26.93</td>\n",
       "      <td>0.63</td>\n",
       "      <td>0.28</td>\n",
       "      <td>0.47</td>\n",
       "      <td>NaN</td>\n",
       "      <td>NaN</td>\n",
       "      <td>NaN</td>\n",
       "    </tr>\n",
       "  </tbody>\n",
       "</table>\n",
       "</div>"
      ],
      "text/plain": [
       "                        Name Platform  Year_of_Release         Genre  \\\n",
       "0                 Wii Sports      Wii           2006.0        Sports   \n",
       "1          Super Mario Bros.      NES           1985.0      Platform   \n",
       "2             Mario Kart Wii      Wii           2008.0        Racing   \n",
       "3          Wii Sports Resort      Wii           2009.0        Sports   \n",
       "4   Pokemon Red/Pokemon Blue       GB           1996.0  Role-Playing   \n",
       "5                     Tetris       GB           1989.0        Puzzle   \n",
       "6      New Super Mario Bros.       DS           2006.0      Platform   \n",
       "7                   Wii Play      Wii           2006.0          Misc   \n",
       "8  New Super Mario Bros. Wii      Wii           2009.0      Platform   \n",
       "9                  Duck Hunt      NES           1984.0       Shooter   \n",
       "\n",
       "   NA_sales  EU_sales  JP_sales  Other_sales  Critic_Score User_Score Rating  \n",
       "0     41.36     28.96      3.77         8.45          76.0          8      E  \n",
       "1     29.08      3.58      6.81         0.77           NaN        NaN    NaN  \n",
       "2     15.68     12.76      3.79         3.29          82.0        8.3      E  \n",
       "3     15.61     10.93      3.28         2.95          80.0          8      E  \n",
       "4     11.27      8.89     10.22         1.00           NaN        NaN    NaN  \n",
       "5     23.20      2.26      4.22         0.58           NaN        NaN    NaN  \n",
       "6     11.28      9.14      6.50         2.88          89.0        8.5      E  \n",
       "7     13.96      9.18      2.93         2.84          58.0        6.6      E  \n",
       "8     14.44      6.94      4.70         2.24          87.0        8.4      E  \n",
       "9     26.93      0.63      0.28         0.47           NaN        NaN    NaN  "
      ]
     },
     "metadata": {},
     "output_type": "display_data"
    },
    {
     "name": "stdout",
     "output_type": "stream",
     "text": [
      "<class 'pandas.core.frame.DataFrame'>\n",
      "RangeIndex: 16715 entries, 0 to 16714\n",
      "Data columns (total 11 columns):\n",
      " #   Column           Non-Null Count  Dtype  \n",
      "---  ------           --------------  -----  \n",
      " 0   Name             16713 non-null  object \n",
      " 1   Platform         16715 non-null  object \n",
      " 2   Year_of_Release  16446 non-null  float64\n",
      " 3   Genre            16713 non-null  object \n",
      " 4   NA_sales         16715 non-null  float64\n",
      " 5   EU_sales         16715 non-null  float64\n",
      " 6   JP_sales         16715 non-null  float64\n",
      " 7   Other_sales      16715 non-null  float64\n",
      " 8   Critic_Score     8137 non-null   float64\n",
      " 9   User_Score       10014 non-null  object \n",
      " 10  Rating           9949 non-null   object \n",
      "dtypes: float64(6), object(5)\n",
      "memory usage: 1.4+ MB\n"
     ]
    }
   ],
   "source": [
    "data = pd.read_csv('/datasets/games.csv')\n",
    "    \n",
    "display (data.head(10)) \n",
    "data.info() "
   ]
  },
  {
   "cell_type": "markdown",
   "metadata": {},
   "source": [
    "построю общую гистограмму для всех числовых столбцов таблицы"
   ]
  },
  {
   "cell_type": "code",
   "execution_count": 3,
   "metadata": {},
   "outputs": [
    {
     "data": {
      "image/png": "[encoded data removed]",
      "text/plain": [
       "<Figure size 720x720 with 6 Axes>"
      ]
     },
     "metadata": {
      "needs_background": "light"
     },
     "output_type": "display_data"
    }
   ],
   "source": [
    "data.hist(figsize=(10, 10));"
   ]
  },
  {
   "cell_type": "markdown",
   "metadata": {},
   "source": [
    "Заключение по шагу 1: Перед проведением анализа данные требуют предобработки - заполнения или удаления пропусков, преобразования типов данных, возможно, устранения дубликатов."
   ]
  },
  {
   "cell_type": "markdown",
   "metadata": {},
   "source": [
    "## Предобработка данных"
   ]
  },
  {
   "cell_type": "markdown",
   "metadata": {},
   "source": [
    "приведем названия столбцов к нижнему регистру"
   ]
  },
  {
   "cell_type": "code",
   "execution_count": 4,
   "metadata": {},
   "outputs": [],
   "source": [
    "data.columns = data.columns.str.lower()\n",
    "#data.info()#проверим результат"
   ]
  },
  {
   "cell_type": "markdown",
   "metadata": {},
   "source": [
    "выведем количество пропусков для каждого столбца"
   ]
  },
  {
   "cell_type": "code",
   "execution_count": 5,
   "metadata": {},
   "outputs": [
    {
     "data": {
      "text/html": [
       "<style  type=\"text/css\" >\n",
       "#T_c5a03_row0_col0,#T_c5a03_row1_col0,#T_c5a03_row3_col0,#T_c5a03_row4_col0,#T_c5a03_row5_col0,#T_c5a03_row6_col0,#T_c5a03_row7_col0{\n",
       "            background-color:  #fff7fb;\n",
       "            color:  #000000;\n",
       "        }#T_c5a03_row2_col0{\n",
       "            background-color:  #faf3f9;\n",
       "            color:  #000000;\n",
       "        }#T_c5a03_row8_col0{\n",
       "            background-color:  #023858;\n",
       "            color:  #f1f1f1;\n",
       "        }#T_c5a03_row9_col0{\n",
       "            background-color:  #056ba7;\n",
       "            color:  #f1f1f1;\n",
       "        }#T_c5a03_row10_col0{\n",
       "            background-color:  #0569a5;\n",
       "            color:  #f1f1f1;\n",
       "        }</style><table id=\"T_c5a03_\" ><thead>    <tr>        <th class=\"blank level0\" ></th>        <th class=\"col_heading level0 col0\" >0</th>    </tr></thead><tbody>\n",
       "                <tr>\n",
       "                        <th id=\"T_c5a03_level0_row0\" class=\"row_heading level0 row0\" >name</th>\n",
       "                        <td id=\"T_c5a03_row0_col0\" class=\"data row0 col0\" >2</td>\n",
       "            </tr>\n",
       "            <tr>\n",
       "                        <th id=\"T_c5a03_level0_row1\" class=\"row_heading level0 row1\" >platform</th>\n",
       "                        <td id=\"T_c5a03_row1_col0\" class=\"data row1 col0\" >0</td>\n",
       "            </tr>\n",
       "            <tr>\n",
       "                        <th id=\"T_c5a03_level0_row2\" class=\"row_heading level0 row2\" >year_of_release</th>\n",
       "                        <td id=\"T_c5a03_row2_col0\" class=\"data row2 col0\" >269</td>\n",
       "            </tr>\n",
       "            <tr>\n",
       "                        <th id=\"T_c5a03_level0_row3\" class=\"row_heading level0 row3\" >genre</th>\n",
       "                        <td id=\"T_c5a03_row3_col0\" class=\"data row3 col0\" >2</td>\n",
       "            </tr>\n",
       "            <tr>\n",
       "                        <th id=\"T_c5a03_level0_row4\" class=\"row_heading level0 row4\" >na_sales</th>\n",
       "                        <td id=\"T_c5a03_row4_col0\" class=\"data row4 col0\" >0</td>\n",
       "            </tr>\n",
       "            <tr>\n",
       "                        <th id=\"T_c5a03_level0_row5\" class=\"row_heading level0 row5\" >eu_sales</th>\n",
       "                        <td id=\"T_c5a03_row5_col0\" class=\"data row5 col0\" >0</td>\n",
       "            </tr>\n",
       "            <tr>\n",
       "                        <th id=\"T_c5a03_level0_row6\" class=\"row_heading level0 row6\" >jp_sales</th>\n",
       "                        <td id=\"T_c5a03_row6_col0\" class=\"data row6 col0\" >0</td>\n",
       "            </tr>\n",
       "            <tr>\n",
       "                        <th id=\"T_c5a03_level0_row7\" class=\"row_heading level0 row7\" >other_sales</th>\n",
       "                        <td id=\"T_c5a03_row7_col0\" class=\"data row7 col0\" >0</td>\n",
       "            </tr>\n",
       "            <tr>\n",
       "                        <th id=\"T_c5a03_level0_row8\" class=\"row_heading level0 row8\" >critic_score</th>\n",
       "                        <td id=\"T_c5a03_row8_col0\" class=\"data row8 col0\" >8578</td>\n",
       "            </tr>\n",
       "            <tr>\n",
       "                        <th id=\"T_c5a03_level0_row9\" class=\"row_heading level0 row9\" >user_score</th>\n",
       "                        <td id=\"T_c5a03_row9_col0\" class=\"data row9 col0\" >6701</td>\n",
       "            </tr>\n",
       "            <tr>\n",
       "                        <th id=\"T_c5a03_level0_row10\" class=\"row_heading level0 row10\" >rating</th>\n",
       "                        <td id=\"T_c5a03_row10_col0\" class=\"data row10 col0\" >6766</td>\n",
       "            </tr>\n",
       "    </tbody></table>"
      ],
      "text/plain": [
       "<pandas.io.formats.style.Styler at 0x7ff4f0c5b250>"
      ]
     },
     "execution_count": 5,
     "metadata": {},
     "output_type": "execute_result"
    }
   ],
   "source": [
    "data.isna().sum().to_frame().style.background_gradient()"
   ]
  },
  {
   "cell_type": "markdown",
   "metadata": {},
   "source": [
    "проведем поиск явных дубликатов во всем датафрейме"
   ]
  },
  {
   "cell_type": "code",
   "execution_count": 6,
   "metadata": {},
   "outputs": [
    {
     "name": "stdout",
     "output_type": "stream",
     "text": [
      "0\n"
     ]
    }
   ],
   "source": [
    "print (data.duplicated().sum()) #0"
   ]
  },
  {
   "cell_type": "markdown",
   "metadata": {},
   "source": [
    "посмотрим, есть ли игры с одинаковым названием, выпущенные в один год. Если выпущены в разные года - скорее всего разные игры, а в один могли и продублироваться"
   ]
  },
  {
   "cell_type": "code",
   "execution_count": 7,
   "metadata": {},
   "outputs": [
    {
     "data": {
      "text/html": [
       "<div>\n",
       "<style scoped>\n",
       "    .dataframe tbody tr th:only-of-type {\n",
       "        vertical-align: middle;\n",
       "    }\n",
       "\n",
       "    .dataframe tbody tr th {\n",
       "        vertical-align: top;\n",
       "    }\n",
       "\n",
       "    .dataframe thead th {\n",
       "        text-align: right;\n",
       "    }\n",
       "</style>\n",
       "<table border=\"1\" class=\"dataframe\">\n",
       "  <thead>\n",
       "    <tr style=\"text-align: right;\">\n",
       "      <th></th>\n",
       "      <th>count</th>\n",
       "      <th>unique</th>\n",
       "      <th>top</th>\n",
       "      <th>freq</th>\n",
       "    </tr>\n",
       "    <tr>\n",
       "      <th>year_of_release</th>\n",
       "      <th></th>\n",
       "      <th></th>\n",
       "      <th></th>\n",
       "      <th></th>\n",
       "    </tr>\n",
       "  </thead>\n",
       "  <tbody>\n",
       "    <tr>\n",
       "      <th>1980.0</th>\n",
       "      <td>9</td>\n",
       "      <td>9</td>\n",
       "      <td>Freeway</td>\n",
       "      <td>1</td>\n",
       "    </tr>\n",
       "    <tr>\n",
       "      <th>1981.0</th>\n",
       "      <td>46</td>\n",
       "      <td>46</td>\n",
       "      <td>Laser Blast</td>\n",
       "      <td>1</td>\n",
       "    </tr>\n",
       "    <tr>\n",
       "      <th>1982.0</th>\n",
       "      <td>36</td>\n",
       "      <td>36</td>\n",
       "      <td>Bump 'n' Jump</td>\n",
       "      <td>1</td>\n",
       "    </tr>\n",
       "    <tr>\n",
       "      <th>1983.0</th>\n",
       "      <td>17</td>\n",
       "      <td>17</td>\n",
       "      <td>Frostbite</td>\n",
       "      <td>1</td>\n",
       "    </tr>\n",
       "    <tr>\n",
       "      <th>1984.0</th>\n",
       "      <td>14</td>\n",
       "      <td>14</td>\n",
       "      <td>Duck Hunt</td>\n",
       "      <td>1</td>\n",
       "    </tr>\n",
       "    <tr>\n",
       "      <th>1985.0</th>\n",
       "      <td>14</td>\n",
       "      <td>14</td>\n",
       "      <td>Gyromite</td>\n",
       "      <td>1</td>\n",
       "    </tr>\n",
       "    <tr>\n",
       "      <th>1986.0</th>\n",
       "      <td>21</td>\n",
       "      <td>21</td>\n",
       "      <td>Rad Racer</td>\n",
       "      <td>1</td>\n",
       "    </tr>\n",
       "    <tr>\n",
       "      <th>1987.0</th>\n",
       "      <td>16</td>\n",
       "      <td>16</td>\n",
       "      <td>Dragon Warrior II</td>\n",
       "      <td>1</td>\n",
       "    </tr>\n",
       "    <tr>\n",
       "      <th>1988.0</th>\n",
       "      <td>15</td>\n",
       "      <td>15</td>\n",
       "      <td>Final Fantasy II</td>\n",
       "      <td>1</td>\n",
       "    </tr>\n",
       "    <tr>\n",
       "      <th>1989.0</th>\n",
       "      <td>17</td>\n",
       "      <td>17</td>\n",
       "      <td>Double Dragon</td>\n",
       "      <td>1</td>\n",
       "    </tr>\n",
       "    <tr>\n",
       "      <th>1990.0</th>\n",
       "      <td>16</td>\n",
       "      <td>16</td>\n",
       "      <td>Teenage Mutant Ninja Turtles II: The Arcade Game</td>\n",
       "      <td>1</td>\n",
       "    </tr>\n",
       "    <tr>\n",
       "      <th>1991.0</th>\n",
       "      <td>41</td>\n",
       "      <td>40</td>\n",
       "      <td>Yoshi</td>\n",
       "      <td>2</td>\n",
       "    </tr>\n",
       "    <tr>\n",
       "      <th>1992.0</th>\n",
       "      <td>43</td>\n",
       "      <td>41</td>\n",
       "      <td>Yoshi's Cookie</td>\n",
       "      <td>2</td>\n",
       "    </tr>\n",
       "    <tr>\n",
       "      <th>1993.0</th>\n",
       "      <td>60</td>\n",
       "      <td>59</td>\n",
       "      <td>Super Street Fighter II</td>\n",
       "      <td>2</td>\n",
       "    </tr>\n",
       "    <tr>\n",
       "      <th>1994.0</th>\n",
       "      <td>121</td>\n",
       "      <td>117</td>\n",
       "      <td>Disney's The Lion King</td>\n",
       "      <td>2</td>\n",
       "    </tr>\n",
       "    <tr>\n",
       "      <th>1995.0</th>\n",
       "      <td>219</td>\n",
       "      <td>215</td>\n",
       "      <td>Mobile Suit Gundam</td>\n",
       "      <td>2</td>\n",
       "    </tr>\n",
       "    <tr>\n",
       "      <th>1996.0</th>\n",
       "      <td>263</td>\n",
       "      <td>258</td>\n",
       "      <td>Mortal Kombat Trilogy</td>\n",
       "      <td>2</td>\n",
       "    </tr>\n",
       "    <tr>\n",
       "      <th>1997.0</th>\n",
       "      <td>289</td>\n",
       "      <td>282</td>\n",
       "      <td>Riven: The Sequel to Myst</td>\n",
       "      <td>2</td>\n",
       "    </tr>\n",
       "    <tr>\n",
       "      <th>1998.0</th>\n",
       "      <td>379</td>\n",
       "      <td>364</td>\n",
       "      <td>Ojyousama Express</td>\n",
       "      <td>2</td>\n",
       "    </tr>\n",
       "    <tr>\n",
       "      <th>1999.0</th>\n",
       "      <td>338</td>\n",
       "      <td>326</td>\n",
       "      <td>Gex 3: Deep Cover Gecko</td>\n",
       "      <td>2</td>\n",
       "    </tr>\n",
       "    <tr>\n",
       "      <th>2000.0</th>\n",
       "      <td>350</td>\n",
       "      <td>325</td>\n",
       "      <td>Madden NFL 2001</td>\n",
       "      <td>3</td>\n",
       "    </tr>\n",
       "    <tr>\n",
       "      <th>2001.0</th>\n",
       "      <td>482</td>\n",
       "      <td>428</td>\n",
       "      <td>Madden NFL 2002</td>\n",
       "      <td>5</td>\n",
       "    </tr>\n",
       "    <tr>\n",
       "      <th>2002.0</th>\n",
       "      <td>829</td>\n",
       "      <td>631</td>\n",
       "      <td>Harry Potter and the Chamber of Secrets</td>\n",
       "      <td>6</td>\n",
       "    </tr>\n",
       "    <tr>\n",
       "      <th>2003.0</th>\n",
       "      <td>775</td>\n",
       "      <td>546</td>\n",
       "      <td>Need for Speed Underground</td>\n",
       "      <td>5</td>\n",
       "    </tr>\n",
       "    <tr>\n",
       "      <th>2004.0</th>\n",
       "      <td>762</td>\n",
       "      <td>550</td>\n",
       "      <td>Madden NFL 2005</td>\n",
       "      <td>5</td>\n",
       "    </tr>\n",
       "    <tr>\n",
       "      <th>2005.0</th>\n",
       "      <td>939</td>\n",
       "      <td>657</td>\n",
       "      <td>Need for Speed: Most Wanted</td>\n",
       "      <td>7</td>\n",
       "    </tr>\n",
       "    <tr>\n",
       "      <th>2006.0</th>\n",
       "      <td>1006</td>\n",
       "      <td>773</td>\n",
       "      <td>LEGO Star Wars II: The Original Trilogy</td>\n",
       "      <td>8</td>\n",
       "    </tr>\n",
       "    <tr>\n",
       "      <th>2007.0</th>\n",
       "      <td>1197</td>\n",
       "      <td>884</td>\n",
       "      <td>Ratatouille</td>\n",
       "      <td>9</td>\n",
       "    </tr>\n",
       "    <tr>\n",
       "      <th>2008.0</th>\n",
       "      <td>1427</td>\n",
       "      <td>1039</td>\n",
       "      <td>Need For Speed: Undercover</td>\n",
       "      <td>7</td>\n",
       "    </tr>\n",
       "    <tr>\n",
       "      <th>2009.0</th>\n",
       "      <td>1426</td>\n",
       "      <td>1001</td>\n",
       "      <td>Harry Potter and the Half-Blood Prince</td>\n",
       "      <td>7</td>\n",
       "    </tr>\n",
       "    <tr>\n",
       "      <th>2010.0</th>\n",
       "      <td>1255</td>\n",
       "      <td>900</td>\n",
       "      <td>FIFA Soccer 11</td>\n",
       "      <td>7</td>\n",
       "    </tr>\n",
       "    <tr>\n",
       "      <th>2011.0</th>\n",
       "      <td>1136</td>\n",
       "      <td>779</td>\n",
       "      <td>FIFA 12</td>\n",
       "      <td>7</td>\n",
       "    </tr>\n",
       "    <tr>\n",
       "      <th>2012.0</th>\n",
       "      <td>653</td>\n",
       "      <td>446</td>\n",
       "      <td>FIFA Soccer 13</td>\n",
       "      <td>8</td>\n",
       "    </tr>\n",
       "    <tr>\n",
       "      <th>2013.0</th>\n",
       "      <td>544</td>\n",
       "      <td>335</td>\n",
       "      <td>LEGO Marvel Super Heroes</td>\n",
       "      <td>9</td>\n",
       "    </tr>\n",
       "    <tr>\n",
       "      <th>2014.0</th>\n",
       "      <td>581</td>\n",
       "      <td>319</td>\n",
       "      <td>Lego Batman 3: Beyond Gotham</td>\n",
       "      <td>8</td>\n",
       "    </tr>\n",
       "    <tr>\n",
       "      <th>2015.0</th>\n",
       "      <td>606</td>\n",
       "      <td>362</td>\n",
       "      <td>LEGO Jurassic World</td>\n",
       "      <td>8</td>\n",
       "    </tr>\n",
       "    <tr>\n",
       "      <th>2016.0</th>\n",
       "      <td>502</td>\n",
       "      <td>297</td>\n",
       "      <td>LEGO Marvel's Avengers</td>\n",
       "      <td>7</td>\n",
       "    </tr>\n",
       "  </tbody>\n",
       "</table>\n",
       "</div>"
      ],
      "text/plain": [
       "                count unique  \\\n",
       "year_of_release                \n",
       "1980.0              9      9   \n",
       "1981.0             46     46   \n",
       "1982.0             36     36   \n",
       "1983.0             17     17   \n",
       "1984.0             14     14   \n",
       "1985.0             14     14   \n",
       "1986.0             21     21   \n",
       "1987.0             16     16   \n",
       "1988.0             15     15   \n",
       "1989.0             17     17   \n",
       "1990.0             16     16   \n",
       "1991.0             41     40   \n",
       "1992.0             43     41   \n",
       "1993.0             60     59   \n",
       "1994.0            121    117   \n",
       "1995.0            219    215   \n",
       "1996.0            263    258   \n",
       "1997.0            289    282   \n",
       "1998.0            379    364   \n",
       "1999.0            338    326   \n",
       "2000.0            350    325   \n",
       "2001.0            482    428   \n",
       "2002.0            829    631   \n",
       "2003.0            775    546   \n",
       "2004.0            762    550   \n",
       "2005.0            939    657   \n",
       "2006.0           1006    773   \n",
       "2007.0           1197    884   \n",
       "2008.0           1427   1039   \n",
       "2009.0           1426   1001   \n",
       "2010.0           1255    900   \n",
       "2011.0           1136    779   \n",
       "2012.0            653    446   \n",
       "2013.0            544    335   \n",
       "2014.0            581    319   \n",
       "2015.0            606    362   \n",
       "2016.0            502    297   \n",
       "\n",
       "                                                              top freq  \n",
       "year_of_release                                                         \n",
       "1980.0                                                    Freeway    1  \n",
       "1981.0                                                Laser Blast    1  \n",
       "1982.0                                              Bump 'n' Jump    1  \n",
       "1983.0                                                  Frostbite    1  \n",
       "1984.0                                                  Duck Hunt    1  \n",
       "1985.0                                                   Gyromite    1  \n",
       "1986.0                                                  Rad Racer    1  \n",
       "1987.0                                          Dragon Warrior II    1  \n",
       "1988.0                                           Final Fantasy II    1  \n",
       "1989.0                                              Double Dragon    1  \n",
       "1990.0           Teenage Mutant Ninja Turtles II: The Arcade Game    1  \n",
       "1991.0                                                      Yoshi    2  \n",
       "1992.0                                             Yoshi's Cookie    2  \n",
       "1993.0                                    Super Street Fighter II    2  \n",
       "1994.0                                     Disney's The Lion King    2  \n",
       "1995.0                                         Mobile Suit Gundam    2  \n",
       "1996.0                                      Mortal Kombat Trilogy    2  \n",
       "1997.0                                  Riven: The Sequel to Myst    2  \n",
       "1998.0                                          Ojyousama Express    2  \n",
       "1999.0                                    Gex 3: Deep Cover Gecko    2  \n",
       "2000.0                                            Madden NFL 2001    3  \n",
       "2001.0                                            Madden NFL 2002    5  \n",
       "2002.0                    Harry Potter and the Chamber of Secrets    6  \n",
       "2003.0                                 Need for Speed Underground    5  \n",
       "2004.0                                            Madden NFL 2005    5  \n",
       "2005.0                                Need for Speed: Most Wanted    7  \n",
       "2006.0                    LEGO Star Wars II: The Original Trilogy    8  \n",
       "2007.0                                                Ratatouille    9  \n",
       "2008.0                                 Need For Speed: Undercover    7  \n",
       "2009.0                     Harry Potter and the Half-Blood Prince    7  \n",
       "2010.0                                             FIFA Soccer 11    7  \n",
       "2011.0                                                    FIFA 12    7  \n",
       "2012.0                                             FIFA Soccer 13    8  \n",
       "2013.0                                   LEGO Marvel Super Heroes    9  \n",
       "2014.0                               Lego Batman 3: Beyond Gotham    8  \n",
       "2015.0                                        LEGO Jurassic World    8  \n",
       "2016.0                                     LEGO Marvel's Avengers    7  "
      ]
     },
     "execution_count": 7,
     "metadata": {},
     "output_type": "execute_result"
    }
   ],
   "source": [
    "data.groupby('year_of_release')['name'].describe()"
   ]
  },
  {
   "cell_type": "markdown",
   "metadata": {},
   "source": [
    "посмотрим, правда ли это дубликаты?\n",
    "\n",
    "Нет, это игра, выпущенная на разных платформах, так что и анализировать эти строки надо отдельно"
   ]
  },
  {
   "cell_type": "code",
   "execution_count": 8,
   "metadata": {},
   "outputs": [
    {
     "name": "stdout",
     "output_type": "stream",
     "text": [
      "         name platform  year_of_release   genre  na_sales  eu_sales  jp_sales  \\\n",
      "126   FIFA 14      PS3           2013.0  Sports      0.78      4.24      0.07   \n",
      "271   FIFA 14     X360           2013.0  Sports      0.92      2.89      0.01   \n",
      "469   FIFA 14      PS4           2013.0  Sports      0.61      1.85      0.11   \n",
      "1753  FIFA 14     XOne           2013.0  Sports      0.41      0.66      0.00   \n",
      "4699  FIFA 14      PSV           2013.0  Sports      0.08      0.23      0.01   \n",
      "4809  FIFA 14       PC           2013.0  Sports      0.01      0.36      0.00   \n",
      "4985  FIFA 14      Wii           2013.0  Sports      0.00      0.36      0.00   \n",
      "6871  FIFA 14      3DS           2013.0  Sports      0.00      0.22      0.00   \n",
      "7875  FIFA 14      PSP           2013.0  Sports      0.00      0.15      0.00   \n",
      "\n",
      "      other_sales  critic_score user_score rating  \n",
      "126          1.37          86.0        4.3      E  \n",
      "271          0.40          84.0        4.2      E  \n",
      "469          0.44          87.0        6.3      E  \n",
      "1753         0.09          88.0        5.8      E  \n",
      "4699         0.09           NaN        1.8      E  \n",
      "4809         0.03          87.0        4.6      E  \n",
      "4985         0.02           NaN        4.3      E  \n",
      "6871         0.01           NaN        NaN    NaN  \n",
      "7875         0.04           NaN        3.4      E  \n"
     ]
    }
   ],
   "source": [
    "print(data.loc[data['name'] == 'FIFA 14'])"
   ]
  },
  {
   "cell_type": "markdown",
   "metadata": {},
   "source": [
    "удалим строки с отсутствующими названиями и жанрами, их всего 2 или 4, не повлияет на датафрейм. Также удалю строки, где неизвестен год выпуска игры, они бесполезны для нашего анализа и их всего 269, что меньше 2% всех данных"
   ]
  },
  {
   "cell_type": "code",
   "execution_count": 9,
   "metadata": {},
   "outputs": [
    {
     "data": {
      "text/plain": [
       "name                  0\n",
       "platform              0\n",
       "year_of_release       0\n",
       "genre                 0\n",
       "na_sales              0\n",
       "eu_sales              0\n",
       "jp_sales              0\n",
       "other_sales           0\n",
       "critic_score       8461\n",
       "user_score         6605\n",
       "rating             6676\n",
       "dtype: int64"
      ]
     },
     "execution_count": 9,
     "metadata": {},
     "output_type": "execute_result"
    }
   ],
   "source": [
    "data = data.dropna(subset=['name', 'genre', 'year_of_release'])\n",
    "data.isna().sum() #проверим результат"
   ]
  },
  {
   "cell_type": "markdown",
   "metadata": {},
   "source": [
    "Пропуски в столбцах year_of_release,critic_score, user_score заполнять числовыми значениями  не буду, тк \n",
    "это повлияет на результаты анализа. \n",
    "\n",
    "заполню пропуски в столбце rating 'unknown', тк там нечисловые значения и это пригодится в дальнейшем\n",
    "\n",
    "учитывая большое количество пропусков в столбцах рейтингов, предположу, что не все платформы собирали эти оценки"
   ]
  },
  {
   "cell_type": "code",
   "execution_count": 10,
   "metadata": {},
   "outputs": [],
   "source": [
    "data['rating'] = data['rating'].fillna('unknown')\n",
    "#data.isna().sum()"
   ]
  },
  {
   "cell_type": "markdown",
   "metadata": {},
   "source": [
    "Обратите внимание на аббревиатуру 'tbd' в столбце с оценкой пользователей. Отдельно разберите это значение и опишите, как его обработать;\n",
    "\n",
    "TBD в этом случае расшифровывается как \"to be determined\", то есть информации для анализа не несет. Считаю разумным заменить на Nan"
   ]
  },
  {
   "cell_type": "code",
   "execution_count": 11,
   "metadata": {},
   "outputs": [
    {
     "name": "stdout",
     "output_type": "stream",
     "text": [
      "<class 'pandas.core.frame.DataFrame'>\n",
      "Int64Index: 16444 entries, 0 to 16714\n",
      "Data columns (total 11 columns):\n",
      " #   Column           Non-Null Count  Dtype  \n",
      "---  ------           --------------  -----  \n",
      " 0   name             16444 non-null  object \n",
      " 1   platform         16444 non-null  object \n",
      " 2   year_of_release  16444 non-null  float64\n",
      " 3   genre            16444 non-null  object \n",
      " 4   na_sales         16444 non-null  float64\n",
      " 5   eu_sales         16444 non-null  float64\n",
      " 6   jp_sales         16444 non-null  float64\n",
      " 7   other_sales      16444 non-null  float64\n",
      " 8   critic_score     7983 non-null   float64\n",
      " 9   user_score       7463 non-null   object \n",
      " 10  rating           16444 non-null  object \n",
      "dtypes: float64(6), object(5)\n",
      "memory usage: 1.5+ MB\n"
     ]
    }
   ],
   "source": [
    "data.loc[(data['user_score'] == 'tbd'), 'user_score'].count() #2424 строки с этим значением\n",
    "data.loc[(data['user_score'] == 'tbd'), 'user_score']= np.nan\n",
    "data.info()"
   ]
  },
  {
   "cell_type": "markdown",
   "metadata": {},
   "source": [
    "Изменим типы данных там, где нужно\n",
    "\n",
    "0   Name             16713 non-null  object - строка это объект, оставим\n",
    "\n",
    " 1   Platform         16715 non-null  object - строка это объект, оставим\n",
    " \n",
    " 2   Year_of_Release  16446 non-null  float64 - можно изменить на int, в колонке целые числа. Но я оставила пропуски, поэтому изменить не смогла\n",
    " \n",
    " 3   Genre            16713 non-null  object - строка это объект, оставим\n",
    " \n",
    " 4   NA_sales         16715 non-null  float64 - оставим float, в колонке дроби\n",
    " \n",
    " 5   EU_sales         16715 non-null  float64 - оставим float, в колонке дроби\n",
    " \n",
    " 6   JP_sales         16715 non-null  float64 - оставим float, в колонке дроби\n",
    " \n",
    " 7   Other_sales      16715 non-null  float64 - оставим float, в колонке дроби\n",
    " \n",
    " 8   Critic_Score     8137 non-null   float64 - можно изменить на int, в колонке целые числа. Но я оставила пропуски , поэтому изменить не смогла\n",
    " \n",
    " 9   User_Score       10014 non-null  object - **нужен тип float, в колонке дроби**\n",
    " \n",
    " 10  Rating           9949 non-null   object - строка это объект, оставим\n"
   ]
  },
  {
   "cell_type": "code",
   "execution_count": 12,
   "metadata": {},
   "outputs": [
    {
     "name": "stdout",
     "output_type": "stream",
     "text": [
      "<class 'pandas.core.frame.DataFrame'>\n",
      "Int64Index: 16444 entries, 0 to 16714\n",
      "Data columns (total 11 columns):\n",
      " #   Column           Non-Null Count  Dtype  \n",
      "---  ------           --------------  -----  \n",
      " 0   name             16444 non-null  object \n",
      " 1   platform         16444 non-null  object \n",
      " 2   year_of_release  16444 non-null  float64\n",
      " 3   genre            16444 non-null  object \n",
      " 4   na_sales         16444 non-null  float64\n",
      " 5   eu_sales         16444 non-null  float64\n",
      " 6   jp_sales         16444 non-null  float64\n",
      " 7   other_sales      16444 non-null  float64\n",
      " 8   critic_score     7983 non-null   float64\n",
      " 9   user_score       7463 non-null   float64\n",
      " 10  rating           16444 non-null  object \n",
      "dtypes: float64(7), object(4)\n",
      "memory usage: 1.5+ MB\n"
     ]
    }
   ],
   "source": [
    "data['user_score']= pd.to_numeric(data['user_score'])\n",
    "data.info()"
   ]
  },
  {
   "cell_type": "markdown",
   "metadata": {},
   "source": [
    "Посчитайте суммарные продажи во всех регионах и запишите их в отдельный столбец.\n",
    "\n",
    "создадим столбец global_sales - суммарные продажи во всех регионах (миллионы проданных копий)"
   ]
  },
  {
   "cell_type": "code",
   "execution_count": 13,
   "metadata": {},
   "outputs": [
    {
     "data": {
      "text/html": [
       "<div>\n",
       "<style scoped>\n",
       "    .dataframe tbody tr th:only-of-type {\n",
       "        vertical-align: middle;\n",
       "    }\n",
       "\n",
       "    .dataframe tbody tr th {\n",
       "        vertical-align: top;\n",
       "    }\n",
       "\n",
       "    .dataframe thead th {\n",
       "        text-align: right;\n",
       "    }\n",
       "</style>\n",
       "<table border=\"1\" class=\"dataframe\">\n",
       "  <thead>\n",
       "    <tr style=\"text-align: right;\">\n",
       "      <th></th>\n",
       "      <th>name</th>\n",
       "      <th>platform</th>\n",
       "      <th>year_of_release</th>\n",
       "      <th>genre</th>\n",
       "      <th>na_sales</th>\n",
       "      <th>eu_sales</th>\n",
       "      <th>jp_sales</th>\n",
       "      <th>other_sales</th>\n",
       "      <th>critic_score</th>\n",
       "      <th>user_score</th>\n",
       "      <th>rating</th>\n",
       "      <th>global_sales</th>\n",
       "    </tr>\n",
       "  </thead>\n",
       "  <tbody>\n",
       "    <tr>\n",
       "      <th>0</th>\n",
       "      <td>Wii Sports</td>\n",
       "      <td>Wii</td>\n",
       "      <td>2006.0</td>\n",
       "      <td>Sports</td>\n",
       "      <td>41.36</td>\n",
       "      <td>28.96</td>\n",
       "      <td>3.77</td>\n",
       "      <td>8.45</td>\n",
       "      <td>76.0</td>\n",
       "      <td>8.0</td>\n",
       "      <td>E</td>\n",
       "      <td>82.54</td>\n",
       "    </tr>\n",
       "    <tr>\n",
       "      <th>1</th>\n",
       "      <td>Super Mario Bros.</td>\n",
       "      <td>NES</td>\n",
       "      <td>1985.0</td>\n",
       "      <td>Platform</td>\n",
       "      <td>29.08</td>\n",
       "      <td>3.58</td>\n",
       "      <td>6.81</td>\n",
       "      <td>0.77</td>\n",
       "      <td>NaN</td>\n",
       "      <td>NaN</td>\n",
       "      <td>unknown</td>\n",
       "      <td>40.24</td>\n",
       "    </tr>\n",
       "    <tr>\n",
       "      <th>2</th>\n",
       "      <td>Mario Kart Wii</td>\n",
       "      <td>Wii</td>\n",
       "      <td>2008.0</td>\n",
       "      <td>Racing</td>\n",
       "      <td>15.68</td>\n",
       "      <td>12.76</td>\n",
       "      <td>3.79</td>\n",
       "      <td>3.29</td>\n",
       "      <td>82.0</td>\n",
       "      <td>8.3</td>\n",
       "      <td>E</td>\n",
       "      <td>35.52</td>\n",
       "    </tr>\n",
       "    <tr>\n",
       "      <th>3</th>\n",
       "      <td>Wii Sports Resort</td>\n",
       "      <td>Wii</td>\n",
       "      <td>2009.0</td>\n",
       "      <td>Sports</td>\n",
       "      <td>15.61</td>\n",
       "      <td>10.93</td>\n",
       "      <td>3.28</td>\n",
       "      <td>2.95</td>\n",
       "      <td>80.0</td>\n",
       "      <td>8.0</td>\n",
       "      <td>E</td>\n",
       "      <td>32.77</td>\n",
       "    </tr>\n",
       "    <tr>\n",
       "      <th>4</th>\n",
       "      <td>Pokemon Red/Pokemon Blue</td>\n",
       "      <td>GB</td>\n",
       "      <td>1996.0</td>\n",
       "      <td>Role-Playing</td>\n",
       "      <td>11.27</td>\n",
       "      <td>8.89</td>\n",
       "      <td>10.22</td>\n",
       "      <td>1.00</td>\n",
       "      <td>NaN</td>\n",
       "      <td>NaN</td>\n",
       "      <td>unknown</td>\n",
       "      <td>31.38</td>\n",
       "    </tr>\n",
       "    <tr>\n",
       "      <th>5</th>\n",
       "      <td>Tetris</td>\n",
       "      <td>GB</td>\n",
       "      <td>1989.0</td>\n",
       "      <td>Puzzle</td>\n",
       "      <td>23.20</td>\n",
       "      <td>2.26</td>\n",
       "      <td>4.22</td>\n",
       "      <td>0.58</td>\n",
       "      <td>NaN</td>\n",
       "      <td>NaN</td>\n",
       "      <td>unknown</td>\n",
       "      <td>30.26</td>\n",
       "    </tr>\n",
       "    <tr>\n",
       "      <th>6</th>\n",
       "      <td>New Super Mario Bros.</td>\n",
       "      <td>DS</td>\n",
       "      <td>2006.0</td>\n",
       "      <td>Platform</td>\n",
       "      <td>11.28</td>\n",
       "      <td>9.14</td>\n",
       "      <td>6.50</td>\n",
       "      <td>2.88</td>\n",
       "      <td>89.0</td>\n",
       "      <td>8.5</td>\n",
       "      <td>E</td>\n",
       "      <td>29.80</td>\n",
       "    </tr>\n",
       "    <tr>\n",
       "      <th>7</th>\n",
       "      <td>Wii Play</td>\n",
       "      <td>Wii</td>\n",
       "      <td>2006.0</td>\n",
       "      <td>Misc</td>\n",
       "      <td>13.96</td>\n",
       "      <td>9.18</td>\n",
       "      <td>2.93</td>\n",
       "      <td>2.84</td>\n",
       "      <td>58.0</td>\n",
       "      <td>6.6</td>\n",
       "      <td>E</td>\n",
       "      <td>28.91</td>\n",
       "    </tr>\n",
       "    <tr>\n",
       "      <th>8</th>\n",
       "      <td>New Super Mario Bros. Wii</td>\n",
       "      <td>Wii</td>\n",
       "      <td>2009.0</td>\n",
       "      <td>Platform</td>\n",
       "      <td>14.44</td>\n",
       "      <td>6.94</td>\n",
       "      <td>4.70</td>\n",
       "      <td>2.24</td>\n",
       "      <td>87.0</td>\n",
       "      <td>8.4</td>\n",
       "      <td>E</td>\n",
       "      <td>28.32</td>\n",
       "    </tr>\n",
       "    <tr>\n",
       "      <th>9</th>\n",
       "      <td>Duck Hunt</td>\n",
       "      <td>NES</td>\n",
       "      <td>1984.0</td>\n",
       "      <td>Shooter</td>\n",
       "      <td>26.93</td>\n",
       "      <td>0.63</td>\n",
       "      <td>0.28</td>\n",
       "      <td>0.47</td>\n",
       "      <td>NaN</td>\n",
       "      <td>NaN</td>\n",
       "      <td>unknown</td>\n",
       "      <td>28.31</td>\n",
       "    </tr>\n",
       "  </tbody>\n",
       "</table>\n",
       "</div>"
      ],
      "text/plain": [
       "                        name platform  year_of_release         genre  \\\n",
       "0                 Wii Sports      Wii           2006.0        Sports   \n",
       "1          Super Mario Bros.      NES           1985.0      Platform   \n",
       "2             Mario Kart Wii      Wii           2008.0        Racing   \n",
       "3          Wii Sports Resort      Wii           2009.0        Sports   \n",
       "4   Pokemon Red/Pokemon Blue       GB           1996.0  Role-Playing   \n",
       "5                     Tetris       GB           1989.0        Puzzle   \n",
       "6      New Super Mario Bros.       DS           2006.0      Platform   \n",
       "7                   Wii Play      Wii           2006.0          Misc   \n",
       "8  New Super Mario Bros. Wii      Wii           2009.0      Platform   \n",
       "9                  Duck Hunt      NES           1984.0       Shooter   \n",
       "\n",
       "   na_sales  eu_sales  jp_sales  other_sales  critic_score  user_score  \\\n",
       "0     41.36     28.96      3.77         8.45          76.0         8.0   \n",
       "1     29.08      3.58      6.81         0.77           NaN         NaN   \n",
       "2     15.68     12.76      3.79         3.29          82.0         8.3   \n",
       "3     15.61     10.93      3.28         2.95          80.0         8.0   \n",
       "4     11.27      8.89     10.22         1.00           NaN         NaN   \n",
       "5     23.20      2.26      4.22         0.58           NaN         NaN   \n",
       "6     11.28      9.14      6.50         2.88          89.0         8.5   \n",
       "7     13.96      9.18      2.93         2.84          58.0         6.6   \n",
       "8     14.44      6.94      4.70         2.24          87.0         8.4   \n",
       "9     26.93      0.63      0.28         0.47           NaN         NaN   \n",
       "\n",
       "    rating  global_sales  \n",
       "0        E         82.54  \n",
       "1  unknown         40.24  \n",
       "2        E         35.52  \n",
       "3        E         32.77  \n",
       "4  unknown         31.38  \n",
       "5  unknown         30.26  \n",
       "6        E         29.80  \n",
       "7        E         28.91  \n",
       "8        E         28.32  \n",
       "9  unknown         28.31  "
      ]
     },
     "metadata": {},
     "output_type": "display_data"
    }
   ],
   "source": [
    "data['global_sales'] = data['na_sales'] + data['eu_sales'] + data['jp_sales'] + data['other_sales']\n",
    "display(data.head(10))"
   ]
  },
  {
   "cell_type": "markdown",
   "metadata": {},
   "source": [
    "## Исследовательский анализ данных"
   ]
  },
  {
   "cell_type": "markdown",
   "metadata": {},
   "source": [
    "### Посмотрите, сколько игр выпускалось в разные годы. Важны ли данные за все периоды?\n",
    "\n",
    "сгруппируем данные по годам "
   ]
  },
  {
   "cell_type": "code",
   "execution_count": 14,
   "metadata": {},
   "outputs": [
    {
     "data": {
      "text/plain": [
       "year_of_release\n",
       "1980.0       9\n",
       "1981.0      46\n",
       "1982.0      36\n",
       "1983.0      17\n",
       "1984.0      14\n",
       "1985.0      14\n",
       "1986.0      21\n",
       "1987.0      16\n",
       "1988.0      15\n",
       "1989.0      17\n",
       "1990.0      16\n",
       "1991.0      41\n",
       "1992.0      43\n",
       "1993.0      60\n",
       "1994.0     121\n",
       "1995.0     219\n",
       "1996.0     263\n",
       "1997.0     289\n",
       "1998.0     379\n",
       "1999.0     338\n",
       "2000.0     350\n",
       "2001.0     482\n",
       "2002.0     829\n",
       "2003.0     775\n",
       "2004.0     762\n",
       "2005.0     939\n",
       "2006.0    1006\n",
       "2007.0    1197\n",
       "2008.0    1427\n",
       "2009.0    1426\n",
       "2010.0    1255\n",
       "2011.0    1136\n",
       "2012.0     653\n",
       "2013.0     544\n",
       "2014.0     581\n",
       "2015.0     606\n",
       "2016.0     502\n",
       "Name: name, dtype: int64"
      ]
     },
     "execution_count": 14,
     "metadata": {},
     "output_type": "execute_result"
    }
   ],
   "source": [
    "data.groupby('year_of_release')['name'].count()"
   ]
  },
  {
   "cell_type": "code",
   "execution_count": 15,
   "metadata": {},
   "outputs": [
    {
     "data": {
      "image/png": "[encoded data removed]",
      "text/plain": [
       "<Figure size 432x288 with 1 Axes>"
      ]
     },
     "metadata": {
      "needs_background": "light"
     },
     "output_type": "display_data"
    }
   ],
   "source": [
    "data.groupby('year_of_release')['name'].count().plot(kind='bar');"
   ]
  },
  {
   "cell_type": "markdown",
   "metadata": {},
   "source": [
    "Количество игр непрерывно росло с нескольких десятков до более, чем тысячи, с 1980 по 2009 год. Начиная с 2009 года количество выпускаемых игр снизилось в 2 раза, в последние 5 лет оно держится около 600 в год.\n",
    "Мы можем не использовать в анализе ранние годы, где и количество игр небольшое, и влияющие на продажи факторы наверняка отличались, тк игровая индустрия очень сильно изменилась за эти годы\n",
    "\n",
    "считаю, что можно оставить данные только за последние 15 лет, в 2002 как раз был преодолен порог в 500 игр"
   ]
  },
  {
   "cell_type": "code",
   "execution_count": 16,
   "metadata": {},
   "outputs": [
    {
     "data": {
      "text/plain": [
       "year_of_release\n",
       "2002.0     829\n",
       "2003.0     775\n",
       "2004.0     762\n",
       "2005.0     939\n",
       "2006.0    1006\n",
       "2007.0    1197\n",
       "2008.0    1427\n",
       "2009.0    1426\n",
       "2010.0    1255\n",
       "2011.0    1136\n",
       "2012.0     653\n",
       "2013.0     544\n",
       "2014.0     581\n",
       "2015.0     606\n",
       "2016.0     502\n",
       "Name: name, dtype: int64"
      ]
     },
     "execution_count": 16,
     "metadata": {},
     "output_type": "execute_result"
    }
   ],
   "source": [
    "data = data.query('year_of_release >= 2002')\n",
    "data.groupby('year_of_release')['name'].count()"
   ]
  },
  {
   "cell_type": "markdown",
   "metadata": {},
   "source": [
    "### Посмотрите, как менялись продажи по платформам. Выберите платформы с наибольшими суммарными продажами и постройте распределение по годам. За какой характерный срок появляются новые и исчезают старые платформы?\n",
    "\n"
   ]
  },
  {
   "cell_type": "code",
   "execution_count": 17,
   "metadata": {},
   "outputs": [
    {
     "data": {
      "text/plain": [
       "platform\n",
       "PS2     1027.96\n",
       "X360     961.24\n",
       "PS3      931.34\n",
       "Wii      891.18\n",
       "DS       802.76\n",
       "PS4      314.14\n",
       "PSP      289.53\n",
       "3DS      257.81\n",
       "GBA      251.28\n",
       "XB       228.32\n",
       "PC       195.59\n",
       "GC       170.39\n",
       "XOne     159.32\n",
       "WiiU      82.19\n",
       "PSV       53.81\n",
       "PS         8.74\n",
       "DC         0.35\n",
       "N64        0.08\n",
       "Name: global_sales, dtype: float64"
      ]
     },
     "execution_count": 17,
     "metadata": {},
     "output_type": "execute_result"
    }
   ],
   "source": [
    "data.groupby('platform')['global_sales'].sum().sort_values(ascending = False)"
   ]
  },
  {
   "cell_type": "markdown",
   "metadata": {},
   "source": [
    "выше я отобразила общее количество проданных игр на разных платформах, но на основании этой информации нельзя однозначно сделать вывыод о популярности платформ. Не стоит забывать, что небольшое количество игра может быть обусловлено не только непопулярностью платформы, но и временем ее появления. "
   ]
  },
  {
   "cell_type": "markdown",
   "metadata": {},
   "source": [
    "создадим сводную таблицу sales_by_year, отображающую количество проданных игр на каждой платформе по годам. Затем построим график и попробуем оценить, как менялась популярность платформ с годами"
   ]
  },
  {
   "cell_type": "code",
   "execution_count": 18,
   "metadata": {},
   "outputs": [
    {
     "name": "stdout",
     "output_type": "stream",
     "text": [
      "platform           3DS    DC      DS    GBA     GC   N64     PC    PS     PS2  \\\n",
      "year_of_release                                                                 \n",
      "2002.0             NaN  0.29     NaN  74.16  51.81  0.08   8.57  6.67  205.38   \n",
      "2003.0             NaN   NaN     NaN  56.67  50.61   NaN   8.84  2.07  184.31   \n",
      "2004.0             NaN   NaN   17.27  77.91  28.82   NaN  10.39   NaN  211.81   \n",
      "2005.0             NaN   NaN  130.14  33.86  27.62   NaN   4.37   NaN  160.66   \n",
      "2006.0             NaN   NaN  119.81   5.28  11.26   NaN   2.85   NaN  103.42   \n",
      "2007.0             NaN  0.02  146.94   3.40   0.27   NaN   9.28   NaN   75.99   \n",
      "2008.0             NaN  0.04  145.31    NaN    NaN   NaN  12.42   NaN   53.90   \n",
      "2009.0             NaN   NaN  119.54    NaN    NaN   NaN  16.91   NaN   26.40   \n",
      "2010.0             NaN   NaN   85.02    NaN    NaN   NaN  24.28   NaN    5.64   \n",
      "2011.0           63.20   NaN   26.18    NaN    NaN   NaN  35.03   NaN    0.45   \n",
      "2012.0           51.36   NaN   11.01    NaN    NaN   NaN  23.22   NaN     NaN   \n",
      "2013.0           56.57   NaN    1.54    NaN    NaN   NaN  12.38   NaN     NaN   \n",
      "2014.0           43.76   NaN     NaN    NaN    NaN   NaN  13.28   NaN     NaN   \n",
      "2015.0           27.78   NaN     NaN    NaN    NaN   NaN   8.52   NaN     NaN   \n",
      "2016.0           15.14   NaN     NaN    NaN    NaN   NaN   5.25   NaN     NaN   \n",
      "\n",
      "platform            PS3     PS4    PSP    PSV     Wii   WiiU    X360     XB  \\\n",
      "year_of_release                                                               \n",
      "2002.0              NaN     NaN    NaN    NaN     NaN    NaN     NaN  48.01   \n",
      "2003.0              NaN     NaN    NaN    NaN     NaN    NaN     NaN  55.04   \n",
      "2004.0              NaN     NaN   7.06    NaN     NaN    NaN     NaN  65.42   \n",
      "2005.0              NaN     NaN  43.84    NaN     NaN    NaN    8.25  49.08   \n",
      "2006.0            20.96     NaN  55.32    NaN  137.15    NaN   51.62  10.04   \n",
      "2007.0            73.19     NaN  46.93    NaN  152.77    NaN   95.41   0.55   \n",
      "2008.0           118.52     NaN  34.55    NaN  171.32    NaN  135.26   0.18   \n",
      "2009.0           130.93     NaN  37.78    NaN  206.97    NaN  120.29    NaN   \n",
      "2010.0           142.17     NaN  35.04    NaN  127.95    NaN  170.03    NaN   \n",
      "2011.0           156.78     NaN  17.82   4.63   59.65    NaN  143.84    NaN   \n",
      "2012.0           107.36     NaN   7.69  16.19   21.71  17.56   99.74    NaN   \n",
      "2013.0           113.25   25.99   3.14  10.59    8.59  21.65   88.58    NaN   \n",
      "2014.0            47.76  100.00   0.24  11.90    3.75  22.03   34.74    NaN   \n",
      "2015.0            16.82  118.90   0.12   6.25    1.14  16.35   11.96    NaN   \n",
      "2016.0             3.60   69.25    NaN   4.25    0.18   4.60    1.52    NaN   \n",
      "\n",
      "platform          XOne  \n",
      "year_of_release         \n",
      "2002.0             NaN  \n",
      "2003.0             NaN  \n",
      "2004.0             NaN  \n",
      "2005.0             NaN  \n",
      "2006.0             NaN  \n",
      "2007.0             NaN  \n",
      "2008.0             NaN  \n",
      "2009.0             NaN  \n",
      "2010.0             NaN  \n",
      "2011.0             NaN  \n",
      "2012.0             NaN  \n",
      "2013.0           18.96  \n",
      "2014.0           54.07  \n",
      "2015.0           60.14  \n",
      "2016.0           26.15  \n"
     ]
    }
   ],
   "source": [
    "sales_by_year = data.pivot_table(index = 'year_of_release', values = 'global_sales', columns = 'platform', aggfunc = 'sum')\n",
    "print (sales_by_year)"
   ]
  },
  {
   "cell_type": "code",
   "execution_count": 19,
   "metadata": {},
   "outputs": [
    {
     "data": {
      "image/png": "[encoded data removed]",
      "text/plain": [
       "<Figure size 432x288 with 2 Axes>"
      ]
     },
     "metadata": {
      "needs_background": "light"
     },
     "output_type": "display_data"
    }
   ],
   "source": [
    "seaborn.heatmap(sales_by_year);"
   ]
  },
  {
   "cell_type": "code",
   "execution_count": 20,
   "metadata": {},
   "outputs": [
    {
     "data": {
      "image/png": "[encoded data removed]",
      "text/plain": [
       "<Figure size 1440x720 with 1 Axes>"
      ]
     },
     "metadata": {
      "needs_background": "light"
     },
     "output_type": "display_data"
    }
   ],
   "source": [
    "sales_by_year.plot(style='o-', figsize = (20, 10), title = 'Количество проданных игр по годам, миллионы копий');"
   ]
  },
  {
   "cell_type": "markdown",
   "metadata": {},
   "source": [
    "на графиках видно, как в течение нескольких лет растет популярность платформ, достигает пика и постепенно снижается. Срок активных продаж игр на платформе составляет около 5-10 лет. \n",
    "\n",
    "До 2011 года отмечается существование явных лидеров по количеству проданных игр (PS2, GBA, PSV, N64), а после 2011 разница уменьшается, но все равно можно выделить лидеров - PS4, XOne.\n",
    "\n",
    "Отмечается общая тенденция к уменьшению количества продаж игр в последние годы."
   ]
  },
  {
   "cell_type": "markdown",
   "metadata": {},
   "source": [
    "### Возьмите данные за соответствующий актуальный период. Актуальный период определите самостоятельно в результате исследования предыдущих вопросов. Основной фактор — эти данные помогут построить прогноз на 2017 год.\n",
    "Не учитывайте в работе данные за предыдущие годы.\n",
    "\n",
    "Ранее я оставила данные  за последние 15 лет - с 2002 года. Однако, учитывая ответ на предыдущий вопрос, где видно, что паттерн популярности платформ значительно изменился с 2011 года, а также то,что самые популярные платформы (PS4, XOne) были запущены только в 2013 году, для прогноза на 2017 год считаю разумным использовать данные с 2013 года. Не будем забывать, что индустрия игр очень быстро меняется."
   ]
  },
  {
   "cell_type": "code",
   "execution_count": 21,
   "metadata": {},
   "outputs": [
    {
     "name": "stdout",
     "output_type": "stream",
     "text": [
      "<class 'pandas.core.frame.DataFrame'>\n",
      "Int64Index: 2233 entries, 16 to 16714\n",
      "Data columns (total 12 columns):\n",
      " #   Column           Non-Null Count  Dtype  \n",
      "---  ------           --------------  -----  \n",
      " 0   name             2233 non-null   object \n",
      " 1   platform         2233 non-null   object \n",
      " 2   year_of_release  2233 non-null   float64\n",
      " 3   genre            2233 non-null   object \n",
      " 4   na_sales         2233 non-null   float64\n",
      " 5   eu_sales         2233 non-null   float64\n",
      " 6   jp_sales         2233 non-null   float64\n",
      " 7   other_sales      2233 non-null   float64\n",
      " 8   critic_score     991 non-null    float64\n",
      " 9   user_score       1192 non-null   float64\n",
      " 10  rating           2233 non-null   object \n",
      " 11  global_sales     2233 non-null   float64\n",
      "dtypes: float64(8), object(4)\n",
      "memory usage: 226.8+ KB\n"
     ]
    }
   ],
   "source": [
    "data = data.query('year_of_release >= 2013')\n",
    "data.info() #2233"
   ]
  },
  {
   "cell_type": "markdown",
   "metadata": {},
   "source": [
    "### Какие платформы лидируют по продажам, растут или падают? Выберите несколько потенциально прибыльных платформ.\n",
    "построим график по продажам игр с 2013 года, воспользуемся сводной таблицей sales_by_year"
   ]
  },
  {
   "cell_type": "code",
   "execution_count": 22,
   "metadata": {},
   "outputs": [
    {
     "name": "stdout",
     "output_type": "stream",
     "text": [
      "platform           3DS    DS     PC     PS3     PS4   PSP    PSV   Wii   WiiU  \\\n",
      "year_of_release                                                                 \n",
      "2013.0           56.57  1.54  12.38  113.25   25.99  3.14  10.59  8.59  21.65   \n",
      "2014.0           43.76   NaN  13.28   47.76  100.00  0.24  11.90  3.75  22.03   \n",
      "2015.0           27.78   NaN   8.52   16.82  118.90  0.12   6.25  1.14  16.35   \n",
      "2016.0           15.14   NaN   5.25    3.60   69.25   NaN   4.25  0.18   4.60   \n",
      "\n",
      "platform          X360   XOne  \n",
      "year_of_release                \n",
      "2013.0           88.58  18.96  \n",
      "2014.0           34.74  54.07  \n",
      "2015.0           11.96  60.14  \n",
      "2016.0            1.52  26.15  \n"
     ]
    }
   ],
   "source": [
    "sales_by_year = sales_by_year.query('year_of_release >= 2013').dropna(axis = 1, thresh=1)\n",
    "print (sales_by_year)"
   ]
  },
  {
   "cell_type": "code",
   "execution_count": 23,
   "metadata": {},
   "outputs": [
    {
     "data": {
      "image/png": "[encoded data removed]",
      "text/plain": [
       "<Figure size 1080x504 with 1 Axes>"
      ]
     },
     "metadata": {
      "needs_background": "light"
     },
     "output_type": "display_data"
    }
   ],
   "source": [
    "sales_by_year.plot(style='o-', figsize = (15, 7), title = 'Количество проданных игр по годам c 2013 года, миллионы копий');"
   ]
  },
  {
   "cell_type": "markdown",
   "metadata": {},
   "source": [
    "На графике видна общая тенденция к снижению продаж игр, затронувшая все платформы.\n",
    "Среди перспективных платформ в выделю PS4, XOne и 3DS, они лидирут по количеству проданных копий. Считаю, что также стоит рассмотреть PC, ее показатели продаж стабильны, начиная с 2002 года. Ранее популярные платформы PS3, X360, Wii, WiiU снижают свою популярность. Выпуск игр на PSP и DS был прекращен."
   ]
  },
  {
   "cell_type": "markdown",
   "metadata": {},
   "source": [
    "### Постройте график «ящик с усами» по глобальным продажам игр в разбивке по платформам. Опишите результат."
   ]
  },
  {
   "cell_type": "code",
   "execution_count": 24,
   "metadata": {},
   "outputs": [
    {
     "data": {
      "image/png": "[encoded data removed]",
      "text/plain": [
       "<Figure size 432x288 with 1 Axes>"
      ]
     },
     "metadata": {
      "needs_background": "light"
     },
     "output_type": "display_data"
    }
   ],
   "source": [
    "seaborn.boxplot(data = data.query('platform in [\"PS4\", \"XOne\", \"3DS\", \"PC\"]'),x = 'global_sales', y = 'platform');\n",
    "plt.xlim(-0.1, 1.75);"
   ]
  },
  {
   "cell_type": "markdown",
   "metadata": {},
   "source": [
    "Вывод: Платформы PS4 и XOne лидируют по глобальным продажам игр."
   ]
  },
  {
   "cell_type": "markdown",
   "metadata": {},
   "source": [
    "### Посмотрите, как влияют на продажи внутри одной популярной платформы отзывы пользователей и критиков. Постройте диаграмму рассеяния и посчитайте корреляцию между отзывами и продажами. Сформулируйте выводы.\n",
    "\n",
    "возьмем платформу PS4, как самую популярную из выбранных ранее"
   ]
  },
  {
   "cell_type": "code",
   "execution_count": 25,
   "metadata": {},
   "outputs": [
    {
     "name": "stdout",
     "output_type": "stream",
     "text": [
      "Корреляция продаж игр на PS4 и отзывов критиков составляет 0.406567902061781\n"
     ]
    },
    {
     "data": {
      "image/png": "[encoded data removed]",
      "text/plain": [
       "<Figure size 432x288 with 1 Axes>"
      ]
     },
     "metadata": {
      "needs_background": "light"
     },
     "output_type": "display_data"
    }
   ],
   "source": [
    "print('Корреляция продаж игр на PS4 и отзывов критиков составляет', \n",
    "      data.query('platform == \"PS4\"')['global_sales'].corr(data.query('platform == \"PS4\"')['critic_score']))\n",
    "seaborn.scatterplot(data = data.query('platform == \"PS4\"'), x = 'global_sales', y = 'critic_score', alpha=0.5);"
   ]
  },
  {
   "cell_type": "code",
   "execution_count": 26,
   "metadata": {},
   "outputs": [
    {
     "name": "stdout",
     "output_type": "stream",
     "text": [
      "Корреляция продаж игр на PS4 и отзывов пользователей составляет -0.031957110204556376\n"
     ]
    },
    {
     "data": {
      "image/png": "[encoded data removed]",
      "text/plain": [
       "<Figure size 432x288 with 1 Axes>"
      ]
     },
     "metadata": {
      "needs_background": "light"
     },
     "output_type": "display_data"
    }
   ],
   "source": [
    "print('Корреляция продаж игр на PS4 и отзывов пользователей составляет', \n",
    "      data.query('platform == \"PS4\"')['global_sales'].corr(data.query('platform == \"PS4\"')['user_score']))\n",
    "seaborn.scatterplot(data = data.query('platform == \"PS4\"'), x = 'global_sales', y = 'user_score', alpha=0.5);"
   ]
  },
  {
   "cell_type": "markdown",
   "metadata": {},
   "source": [
    "Вывод: корреляция продаж и отзывов критиков составляет 0,4, что говорит о наличии слабой положительной связи.\n",
    "Корреляция продаж и отзывов пользователей составляет -0,032, что говорит об отсутствии связи или ее нелинейности."
   ]
  },
  {
   "cell_type": "markdown",
   "metadata": {},
   "source": [
    "### Соотнесите выводы с продажами игр на других платформах.\n",
    "\n",
    "Предыдущий вывод говорит, что продажи игр совсем не зависят от оценок пользователей и слабо заисят от рейтинга критиков. Проверим это на других платформах."
   ]
  },
  {
   "cell_type": "code",
   "execution_count": 27,
   "metadata": {},
   "outputs": [],
   "source": [
    "def score_sales_corr(plat):\n",
    "    critic = data.query('platform == @plat')['global_sales'].corr(data.query('platform == @plat')['critic_score'])\n",
    "    user = data.query('platform == @plat')['global_sales'].corr(data.query('platform == @plat')['user_score'])\n",
    "    return print('Корреляция продаж игр на', plat, 'и отзывов критиков составляет',critic, '\\n','Корреляция продаж игр на', plat, 'и отзывов пользователей составляет',user)"
   ]
  },
  {
   "cell_type": "code",
   "execution_count": 28,
   "metadata": {},
   "outputs": [
    {
     "name": "stdout",
     "output_type": "stream",
     "text": [
      "Корреляция продаж игр на XOne и отзывов критиков составляет 0.41699832800840175 \n",
      " Корреляция продаж игр на XOne и отзывов пользователей составляет -0.06892505328279412\n",
      "Корреляция продаж игр на 3DS и отзывов критиков составляет 0.35705661422881035 \n",
      " Корреляция продаж игр на 3DS и отзывов пользователей составляет 0.24150411773563016\n",
      "Корреляция продаж игр на PC и отзывов критиков составляет 0.19603028294369382 \n",
      " Корреляция продаж игр на PC и отзывов пользователей составляет -0.09384186952476739\n",
      "Корреляция продаж игр на PS3 и отзывов критиков составляет 0.3342853393371919 \n",
      " Корреляция продаж игр на PS3 и отзывов пользователей составляет 0.0023944027357566925\n"
     ]
    }
   ],
   "source": [
    "score_sales_corr(\"XOne\")\n",
    "score_sales_corr(\"3DS\")\n",
    "score_sales_corr(\"PC\")\n",
    "score_sales_corr(\"PS3\")"
   ]
  },
  {
   "cell_type": "markdown",
   "metadata": {},
   "source": [
    "Вывод: корреляция продаж и отзывов критиков обычно слабая, а корреляция продаж и отзывов пользователей близка к 0."
   ]
  },
  {
   "cell_type": "markdown",
   "metadata": {},
   "source": [
    "### Посмотрите на общее распределение игр по жанрам. Что можно сказать о самых прибыльных жанрах? Выделяются ли жанры с высокими и низкими продажами?\n",
    "\n",
    "\n",
    "посмотрим на общее количество выпущенных игр различных жанров.\n",
    "\n",
    "Затем составим сводную таблицу продаж по жанрам и визуализируем данные.\n"
   ]
  },
  {
   "cell_type": "code",
   "execution_count": 29,
   "metadata": {},
   "outputs": [
    {
     "data": {
      "text/plain": [
       "genre\n",
       "Action          766\n",
       "Role-Playing    292\n",
       "Adventure       245\n",
       "Sports          214\n",
       "Shooter         187\n",
       "Misc            155\n",
       "Racing           85\n",
       "Fighting         80\n",
       "Platform         74\n",
       "Simulation       62\n",
       "Strategy         56\n",
       "Puzzle           17\n",
       "Name: name, dtype: int64"
      ]
     },
     "execution_count": 29,
     "metadata": {},
     "output_type": "execute_result"
    }
   ],
   "source": [
    "data.groupby('genre')['name'].count().sort_values(ascending = False)"
   ]
  },
  {
   "cell_type": "code",
   "execution_count": 30,
   "metadata": {},
   "outputs": [
    {
     "data": {
      "text/plain": [
       "genre\n",
       "Action          321.87\n",
       "Shooter         232.98\n",
       "Sports          150.65\n",
       "Role-Playing    145.89\n",
       "Misc             62.82\n",
       "Platform         42.63\n",
       "Racing           39.89\n",
       "Fighting         35.31\n",
       "Adventure        23.64\n",
       "Simulation       21.76\n",
       "Strategy         10.08\n",
       "Puzzle            3.17\n",
       "Name: global_sales, dtype: float64"
      ]
     },
     "execution_count": 30,
     "metadata": {},
     "output_type": "execute_result"
    }
   ],
   "source": [
    "data.groupby('genre')['global_sales'].sum().sort_values(ascending = False)"
   ]
  },
  {
   "cell_type": "code",
   "execution_count": 31,
   "metadata": {
    "scrolled": true
   },
   "outputs": [
    {
     "data": {
      "text/html": [
       "<style  type=\"text/css\" >\n",
       "#T_dbe7c_row0_col0,#T_dbe7c_row0_col7,#T_dbe7c_row8_col1,#T_dbe7c_row8_col2,#T_dbe7c_row8_col4,#T_dbe7c_row8_col5,#T_dbe7c_row8_col6{\n",
       "            background-color:  #023858;\n",
       "            color:  #f1f1f1;\n",
       "        }#T_dbe7c_row0_col1{\n",
       "            background-color:  #c5cce3;\n",
       "            color:  #000000;\n",
       "        }#T_dbe7c_row0_col2{\n",
       "            background-color:  #4e9ac6;\n",
       "            color:  #000000;\n",
       "        }#T_dbe7c_row0_col3,#T_dbe7c_row1_col1,#T_dbe7c_row1_col2,#T_dbe7c_row1_col3,#T_dbe7c_row1_col4,#T_dbe7c_row1_col5,#T_dbe7c_row1_col6,#T_dbe7c_row2_col3,#T_dbe7c_row3_col3,#T_dbe7c_row4_col3,#T_dbe7c_row5_col0,#T_dbe7c_row5_col3,#T_dbe7c_row5_col4,#T_dbe7c_row5_col7,#T_dbe7c_row6_col3,#T_dbe7c_row7_col3,#T_dbe7c_row8_col3,#T_dbe7c_row9_col3,#T_dbe7c_row10_col3,#T_dbe7c_row11_col3{\n",
       "            background-color:  #fff7fb;\n",
       "            color:  #000000;\n",
       "        }#T_dbe7c_row0_col4,#T_dbe7c_row2_col0,#T_dbe7c_row3_col4,#T_dbe7c_row9_col4{\n",
       "            background-color:  #f2ecf5;\n",
       "            color:  #000000;\n",
       "        }#T_dbe7c_row0_col5{\n",
       "            background-color:  #dedcec;\n",
       "            color:  #000000;\n",
       "        }#T_dbe7c_row0_col6{\n",
       "            background-color:  #dcdaeb;\n",
       "            color:  #000000;\n",
       "        }#T_dbe7c_row1_col0{\n",
       "            background-color:  #bfc9e1;\n",
       "            color:  #000000;\n",
       "        }#T_dbe7c_row1_col7,#T_dbe7c_row11_col7{\n",
       "            background-color:  #fbf4f9;\n",
       "            color:  #000000;\n",
       "        }#T_dbe7c_row2_col1,#T_dbe7c_row6_col7{\n",
       "            background-color:  #c0c9e2;\n",
       "            color:  #000000;\n",
       "        }#T_dbe7c_row2_col2,#T_dbe7c_row4_col5{\n",
       "            background-color:  #83afd3;\n",
       "            color:  #000000;\n",
       "        }#T_dbe7c_row2_col4,#T_dbe7c_row7_col4{\n",
       "            background-color:  #b4c4df;\n",
       "            color:  #000000;\n",
       "        }#T_dbe7c_row2_col5,#T_dbe7c_row7_col5{\n",
       "            background-color:  #d6d6e9;\n",
       "            color:  #000000;\n",
       "        }#T_dbe7c_row2_col6,#T_dbe7c_row3_col0{\n",
       "            background-color:  #dfddec;\n",
       "            color:  #000000;\n",
       "        }#T_dbe7c_row2_col7{\n",
       "            background-color:  #b9c6e0;\n",
       "            color:  #000000;\n",
       "        }#T_dbe7c_row3_col1{\n",
       "            background-color:  #cacee5;\n",
       "            color:  #000000;\n",
       "        }#T_dbe7c_row3_col2{\n",
       "            background-color:  #8cb3d5;\n",
       "            color:  #000000;\n",
       "        }#T_dbe7c_row3_col5,#T_dbe7c_row9_col5,#T_dbe7c_row9_col6,#T_dbe7c_row11_col4{\n",
       "            background-color:  #e3e0ee;\n",
       "            color:  #000000;\n",
       "        }#T_dbe7c_row3_col6{\n",
       "            background-color:  #dddbec;\n",
       "            color:  #000000;\n",
       "        }#T_dbe7c_row3_col7{\n",
       "            background-color:  #9cb9d9;\n",
       "            color:  #000000;\n",
       "        }#T_dbe7c_row4_col0{\n",
       "            background-color:  #f4edf6;\n",
       "            color:  #000000;\n",
       "        }#T_dbe7c_row4_col1,#T_dbe7c_row6_col2,#T_dbe7c_row10_col4{\n",
       "            background-color:  #96b6d7;\n",
       "            color:  #000000;\n",
       "        }#T_dbe7c_row4_col2{\n",
       "            background-color:  #b5c4df;\n",
       "            color:  #000000;\n",
       "        }#T_dbe7c_row4_col4{\n",
       "            background-color:  #4a98c5;\n",
       "            color:  #000000;\n",
       "        }#T_dbe7c_row4_col6{\n",
       "            background-color:  #97b7d7;\n",
       "            color:  #000000;\n",
       "        }#T_dbe7c_row4_col7{\n",
       "            background-color:  #e5e1ef;\n",
       "            color:  #000000;\n",
       "        }#T_dbe7c_row5_col1{\n",
       "            background-color:  #f3edf5;\n",
       "            color:  #000000;\n",
       "        }#T_dbe7c_row5_col2,#T_dbe7c_row9_col0{\n",
       "            background-color:  #f6eff7;\n",
       "            color:  #000000;\n",
       "        }#T_dbe7c_row5_col5,#T_dbe7c_row11_col1{\n",
       "            background-color:  #f4eef6;\n",
       "            color:  #000000;\n",
       "        }#T_dbe7c_row5_col6{\n",
       "            background-color:  #fbf3f9;\n",
       "            color:  #000000;\n",
       "        }#T_dbe7c_row6_col0{\n",
       "            background-color:  #f1ebf5;\n",
       "            color:  #000000;\n",
       "        }#T_dbe7c_row6_col1{\n",
       "            background-color:  #b7c5df;\n",
       "            color:  #000000;\n",
       "        }#T_dbe7c_row6_col4{\n",
       "            background-color:  #d0d1e6;\n",
       "            color:  #000000;\n",
       "        }#T_dbe7c_row6_col5{\n",
       "            background-color:  #d9d8ea;\n",
       "            color:  #000000;\n",
       "        }#T_dbe7c_row6_col6,#T_dbe7c_row8_col0{\n",
       "            background-color:  #d5d5e8;\n",
       "            color:  #000000;\n",
       "        }#T_dbe7c_row7_col0{\n",
       "            background-color:  #a9bfdc;\n",
       "            color:  #000000;\n",
       "        }#T_dbe7c_row7_col1{\n",
       "            background-color:  #afc1dd;\n",
       "            color:  #000000;\n",
       "        }#T_dbe7c_row7_col2{\n",
       "            background-color:  #348ebf;\n",
       "            color:  #000000;\n",
       "        }#T_dbe7c_row7_col6{\n",
       "            background-color:  #d4d4e8;\n",
       "            color:  #000000;\n",
       "        }#T_dbe7c_row7_col7{\n",
       "            background-color:  #2383ba;\n",
       "            color:  #000000;\n",
       "        }#T_dbe7c_row8_col7{\n",
       "            background-color:  #2182b9;\n",
       "            color:  #000000;\n",
       "        }#T_dbe7c_row9_col1{\n",
       "            background-color:  #d7d6e9;\n",
       "            color:  #000000;\n",
       "        }#T_dbe7c_row9_col2{\n",
       "            background-color:  #adc1dd;\n",
       "            color:  #000000;\n",
       "        }#T_dbe7c_row9_col7{\n",
       "            background-color:  #dbdaeb;\n",
       "            color:  #000000;\n",
       "        }#T_dbe7c_row10_col0{\n",
       "            background-color:  #cccfe5;\n",
       "            color:  #000000;\n",
       "        }#T_dbe7c_row10_col1{\n",
       "            background-color:  #65a3cb;\n",
       "            color:  #000000;\n",
       "        }#T_dbe7c_row10_col2{\n",
       "            background-color:  #589ec8;\n",
       "            color:  #000000;\n",
       "        }#T_dbe7c_row10_col5{\n",
       "            background-color:  #73a9cf;\n",
       "            color:  #000000;\n",
       "        }#T_dbe7c_row10_col6{\n",
       "            background-color:  #6da6cd;\n",
       "            color:  #000000;\n",
       "        }#T_dbe7c_row10_col7{\n",
       "            background-color:  #a7bddb;\n",
       "            color:  #000000;\n",
       "        }#T_dbe7c_row11_col0{\n",
       "            background-color:  #f7f0f7;\n",
       "            color:  #000000;\n",
       "        }#T_dbe7c_row11_col2{\n",
       "            background-color:  #faf3f9;\n",
       "            color:  #000000;\n",
       "        }#T_dbe7c_row11_col5,#T_dbe7c_row11_col6{\n",
       "            background-color:  #ede8f3;\n",
       "            color:  #000000;\n",
       "        }</style><table id=\"T_dbe7c_\" ><thead>    <tr>        <th class=\"blank level0\" ></th>        <th class=\"col_heading level0 col0\" >count</th>        <th class=\"col_heading level0 col1\" >mean</th>        <th class=\"col_heading level0 col2\" >std</th>        <th class=\"col_heading level0 col3\" >min</th>        <th class=\"col_heading level0 col4\" >25%</th>        <th class=\"col_heading level0 col5\" >50%</th>        <th class=\"col_heading level0 col6\" >75%</th>        <th class=\"col_heading level0 col7\" >max</th>    </tr>    <tr>        <th class=\"index_name level0\" >genre</th>        <th class=\"blank\" ></th>        <th class=\"blank\" ></th>        <th class=\"blank\" ></th>        <th class=\"blank\" ></th>        <th class=\"blank\" ></th>        <th class=\"blank\" ></th>        <th class=\"blank\" ></th>        <th class=\"blank\" ></th>    </tr></thead><tbody>\n",
       "                <tr>\n",
       "                        <th id=\"T_dbe7c_level0_row0\" class=\"row_heading level0 row0\" >Action</th>\n",
       "                        <td id=\"T_dbe7c_row0_col0\" class=\"data row0 col0\" >766.000000</td>\n",
       "                        <td id=\"T_dbe7c_row0_col1\" class=\"data row0 col1\" >0.420196</td>\n",
       "                        <td id=\"T_dbe7c_row0_col2\" class=\"data row0 col2\" >1.253909</td>\n",
       "                        <td id=\"T_dbe7c_row0_col3\" class=\"data row0 col3\" >0.010000</td>\n",
       "                        <td id=\"T_dbe7c_row0_col4\" class=\"data row0 col4\" >0.030000</td>\n",
       "                        <td id=\"T_dbe7c_row0_col5\" class=\"data row0 col5\" >0.110000</td>\n",
       "                        <td id=\"T_dbe7c_row0_col6\" class=\"data row0 col6\" >0.337500</td>\n",
       "                        <td id=\"T_dbe7c_row0_col7\" class=\"data row0 col7\" >21.050000</td>\n",
       "            </tr>\n",
       "            <tr>\n",
       "                        <th id=\"T_dbe7c_level0_row1\" class=\"row_heading level0 row1\" >Adventure</th>\n",
       "                        <td id=\"T_dbe7c_row1_col0\" class=\"data row1 col0\" >245.000000</td>\n",
       "                        <td id=\"T_dbe7c_row1_col1\" class=\"data row1 col1\" >0.096490</td>\n",
       "                        <td id=\"T_dbe7c_row1_col2\" class=\"data row1 col2\" >0.216445</td>\n",
       "                        <td id=\"T_dbe7c_row1_col3\" class=\"data row1 col3\" >0.010000</td>\n",
       "                        <td id=\"T_dbe7c_row1_col4\" class=\"data row1 col4\" >0.020000</td>\n",
       "                        <td id=\"T_dbe7c_row1_col5\" class=\"data row1 col5\" >0.030000</td>\n",
       "                        <td id=\"T_dbe7c_row1_col6\" class=\"data row1 col6\" >0.070000</td>\n",
       "                        <td id=\"T_dbe7c_row1_col7\" class=\"data row1 col7\" >1.660000</td>\n",
       "            </tr>\n",
       "            <tr>\n",
       "                        <th id=\"T_dbe7c_level0_row2\" class=\"row_heading level0 row2\" >Fighting</th>\n",
       "                        <td id=\"T_dbe7c_row2_col0\" class=\"data row2 col0\" >80.000000</td>\n",
       "                        <td id=\"T_dbe7c_row2_col1\" class=\"data row2 col1\" >0.441375</td>\n",
       "                        <td id=\"T_dbe7c_row2_col2\" class=\"data row2 col2\" >1.048883</td>\n",
       "                        <td id=\"T_dbe7c_row2_col3\" class=\"data row2 col3\" >0.010000</td>\n",
       "                        <td id=\"T_dbe7c_row2_col4\" class=\"data row2 col4\" >0.060000</td>\n",
       "                        <td id=\"T_dbe7c_row2_col5\" class=\"data row2 col5\" >0.125000</td>\n",
       "                        <td id=\"T_dbe7c_row2_col6\" class=\"data row2 col6\" >0.322500</td>\n",
       "                        <td id=\"T_dbe7c_row2_col7\" class=\"data row2 col7\" >7.550000</td>\n",
       "            </tr>\n",
       "            <tr>\n",
       "                        <th id=\"T_dbe7c_level0_row3\" class=\"row_heading level0 row3\" >Misc</th>\n",
       "                        <td id=\"T_dbe7c_row3_col0\" class=\"data row3 col0\" >155.000000</td>\n",
       "                        <td id=\"T_dbe7c_row3_col1\" class=\"data row3 col1\" >0.405290</td>\n",
       "                        <td id=\"T_dbe7c_row3_col2\" class=\"data row3 col2\" >1.007985</td>\n",
       "                        <td id=\"T_dbe7c_row3_col3\" class=\"data row3 col3\" >0.010000</td>\n",
       "                        <td id=\"T_dbe7c_row3_col4\" class=\"data row3 col4\" >0.030000</td>\n",
       "                        <td id=\"T_dbe7c_row3_col5\" class=\"data row3 col5\" >0.100000</td>\n",
       "                        <td id=\"T_dbe7c_row3_col6\" class=\"data row3 col6\" >0.330000</td>\n",
       "                        <td id=\"T_dbe7c_row3_col7\" class=\"data row3 col7\" >9.180000</td>\n",
       "            </tr>\n",
       "            <tr>\n",
       "                        <th id=\"T_dbe7c_level0_row4\" class=\"row_heading level0 row4\" >Platform</th>\n",
       "                        <td id=\"T_dbe7c_row4_col0\" class=\"data row4 col0\" >74.000000</td>\n",
       "                        <td id=\"T_dbe7c_row4_col1\" class=\"data row4 col1\" >0.576081</td>\n",
       "                        <td id=\"T_dbe7c_row4_col2\" class=\"data row4 col2\" >0.806808</td>\n",
       "                        <td id=\"T_dbe7c_row4_col3\" class=\"data row4 col3\" >0.010000</td>\n",
       "                        <td id=\"T_dbe7c_row4_col4\" class=\"data row4 col4\" >0.090000</td>\n",
       "                        <td id=\"T_dbe7c_row4_col5\" class=\"data row4 col5\" >0.225000</td>\n",
       "                        <td id=\"T_dbe7c_row4_col6\" class=\"data row4 col6\" >0.627500</td>\n",
       "                        <td id=\"T_dbe7c_row4_col7\" class=\"data row4 col7\" >4.320000</td>\n",
       "            </tr>\n",
       "            <tr>\n",
       "                        <th id=\"T_dbe7c_level0_row5\" class=\"row_heading level0 row5\" >Puzzle</th>\n",
       "                        <td id=\"T_dbe7c_row5_col0\" class=\"data row5 col0\" >17.000000</td>\n",
       "                        <td id=\"T_dbe7c_row5_col1\" class=\"data row5 col1\" >0.186471</td>\n",
       "                        <td id=\"T_dbe7c_row5_col2\" class=\"data row5 col2\" >0.325172</td>\n",
       "                        <td id=\"T_dbe7c_row5_col3\" class=\"data row5 col3\" >0.010000</td>\n",
       "                        <td id=\"T_dbe7c_row5_col4\" class=\"data row5 col4\" >0.020000</td>\n",
       "                        <td id=\"T_dbe7c_row5_col5\" class=\"data row5 col5\" >0.060000</td>\n",
       "                        <td id=\"T_dbe7c_row5_col6\" class=\"data row5 col6\" >0.110000</td>\n",
       "                        <td id=\"T_dbe7c_row5_col7\" class=\"data row5 col7\" >1.190000</td>\n",
       "            </tr>\n",
       "            <tr>\n",
       "                        <th id=\"T_dbe7c_level0_row6\" class=\"row_heading level0 row6\" >Racing</th>\n",
       "                        <td id=\"T_dbe7c_row6_col0\" class=\"data row6 col0\" >85.000000</td>\n",
       "                        <td id=\"T_dbe7c_row6_col1\" class=\"data row6 col1\" >0.469294</td>\n",
       "                        <td id=\"T_dbe7c_row6_col2\" class=\"data row6 col2\" >0.964101</td>\n",
       "                        <td id=\"T_dbe7c_row6_col3\" class=\"data row6 col3\" >0.010000</td>\n",
       "                        <td id=\"T_dbe7c_row6_col4\" class=\"data row6 col4\" >0.050000</td>\n",
       "                        <td id=\"T_dbe7c_row6_col5\" class=\"data row6 col5\" >0.120000</td>\n",
       "                        <td id=\"T_dbe7c_row6_col6\" class=\"data row6 col6\" >0.380000</td>\n",
       "                        <td id=\"T_dbe7c_row6_col7\" class=\"data row6 col7\" >7.090000</td>\n",
       "            </tr>\n",
       "            <tr>\n",
       "                        <th id=\"T_dbe7c_level0_row7\" class=\"row_heading level0 row7\" >Role-Playing</th>\n",
       "                        <td id=\"T_dbe7c_row7_col0\" class=\"data row7 col0\" >292.000000</td>\n",
       "                        <td id=\"T_dbe7c_row7_col1\" class=\"data row7 col1\" >0.499623</td>\n",
       "                        <td id=\"T_dbe7c_row7_col2\" class=\"data row7 col2\" >1.353164</td>\n",
       "                        <td id=\"T_dbe7c_row7_col3\" class=\"data row7 col3\" >0.010000</td>\n",
       "                        <td id=\"T_dbe7c_row7_col4\" class=\"data row7 col4\" >0.060000</td>\n",
       "                        <td id=\"T_dbe7c_row7_col5\" class=\"data row7 col5\" >0.125000</td>\n",
       "                        <td id=\"T_dbe7c_row7_col6\" class=\"data row7 col6\" >0.382500</td>\n",
       "                        <td id=\"T_dbe7c_row7_col7\" class=\"data row7 col7\" >14.600000</td>\n",
       "            </tr>\n",
       "            <tr>\n",
       "                        <th id=\"T_dbe7c_level0_row8\" class=\"row_heading level0 row8\" >Shooter</th>\n",
       "                        <td id=\"T_dbe7c_row8_col0\" class=\"data row8 col0\" >187.000000</td>\n",
       "                        <td id=\"T_dbe7c_row8_col1\" class=\"data row8 col1\" >1.245882</td>\n",
       "                        <td id=\"T_dbe7c_row8_col2\" class=\"data row8 col2\" >2.014107</td>\n",
       "                        <td id=\"T_dbe7c_row8_col3\" class=\"data row8 col3\" >0.010000</td>\n",
       "                        <td id=\"T_dbe7c_row8_col4\" class=\"data row8 col4\" >0.140000</td>\n",
       "                        <td id=\"T_dbe7c_row8_col5\" class=\"data row8 col5\" >0.450000</td>\n",
       "                        <td id=\"T_dbe7c_row8_col6\" class=\"data row8 col6\" >1.425000</td>\n",
       "                        <td id=\"T_dbe7c_row8_col7\" class=\"data row8 col7\" >14.630000</td>\n",
       "            </tr>\n",
       "            <tr>\n",
       "                        <th id=\"T_dbe7c_level0_row9\" class=\"row_heading level0 row9\" >Simulation</th>\n",
       "                        <td id=\"T_dbe7c_row9_col0\" class=\"data row9 col0\" >62.000000</td>\n",
       "                        <td id=\"T_dbe7c_row9_col1\" class=\"data row9 col1\" >0.350968</td>\n",
       "                        <td id=\"T_dbe7c_row9_col2\" class=\"data row9 col2\" >0.849163</td>\n",
       "                        <td id=\"T_dbe7c_row9_col3\" class=\"data row9 col3\" >0.010000</td>\n",
       "                        <td id=\"T_dbe7c_row9_col4\" class=\"data row9 col4\" >0.030000</td>\n",
       "                        <td id=\"T_dbe7c_row9_col5\" class=\"data row9 col5\" >0.100000</td>\n",
       "                        <td id=\"T_dbe7c_row9_col6\" class=\"data row9 col6\" >0.295000</td>\n",
       "                        <td id=\"T_dbe7c_row9_col7\" class=\"data row9 col7\" >5.220000</td>\n",
       "            </tr>\n",
       "            <tr>\n",
       "                        <th id=\"T_dbe7c_level0_row10\" class=\"row_heading level0 row10\" >Sports</th>\n",
       "                        <td id=\"T_dbe7c_row10_col0\" class=\"data row10 col0\" >214.000000</td>\n",
       "                        <td id=\"T_dbe7c_row10_col1\" class=\"data row10 col1\" >0.703972</td>\n",
       "                        <td id=\"T_dbe7c_row10_col2\" class=\"data row10 col2\" >1.219237</td>\n",
       "                        <td id=\"T_dbe7c_row10_col3\" class=\"data row10 col3\" >0.010000</td>\n",
       "                        <td id=\"T_dbe7c_row10_col4\" class=\"data row10 col4\" >0.070000</td>\n",
       "                        <td id=\"T_dbe7c_row10_col5\" class=\"data row10 col5\" >0.240000</td>\n",
       "                        <td id=\"T_dbe7c_row10_col6\" class=\"data row10 col6\" >0.765000</td>\n",
       "                        <td id=\"T_dbe7c_row10_col7\" class=\"data row10 col7\" >8.580000</td>\n",
       "            </tr>\n",
       "            <tr>\n",
       "                        <th id=\"T_dbe7c_level0_row11\" class=\"row_heading level0 row11\" >Strategy</th>\n",
       "                        <td id=\"T_dbe7c_row11_col0\" class=\"data row11 col0\" >56.000000</td>\n",
       "                        <td id=\"T_dbe7c_row11_col1\" class=\"data row11 col1\" >0.180000</td>\n",
       "                        <td id=\"T_dbe7c_row11_col2\" class=\"data row11 col2\" >0.279441</td>\n",
       "                        <td id=\"T_dbe7c_row11_col3\" class=\"data row11 col3\" >0.010000</td>\n",
       "                        <td id=\"T_dbe7c_row11_col4\" class=\"data row11 col4\" >0.040000</td>\n",
       "                        <td id=\"T_dbe7c_row11_col5\" class=\"data row11 col5\" >0.080000</td>\n",
       "                        <td id=\"T_dbe7c_row11_col6\" class=\"data row11 col6\" >0.232500</td>\n",
       "                        <td id=\"T_dbe7c_row11_col7\" class=\"data row11 col7\" >1.670000</td>\n",
       "            </tr>\n",
       "    </tbody></table>"
      ],
      "text/plain": [
       "<pandas.io.formats.style.Styler at 0x7ff46db91610>"
      ]
     },
     "execution_count": 31,
     "metadata": {},
     "output_type": "execute_result"
    }
   ],
   "source": [
    "data.groupby('genre')['global_sales'].describe().style.background_gradient()"
   ]
  },
  {
   "cell_type": "markdown",
   "metadata": {},
   "source": [
    "По средним значениям продаж наибольшую прибыльность показывают жанры Shooter, Sports, Platform, Role-Playing и Racing. По медиане выделяются Shooter, Sports, Platform, а вот Role-Playing и Racing приближаются по продажам к группе менне прибыльных платформ. Здесь правильнее оценить по медиане, тк на среднее значение оказывают большое влияние выбросы"
   ]
  },
  {
   "cell_type": "code",
   "execution_count": 32,
   "metadata": {},
   "outputs": [
    {
     "data": {
      "image/png": "[encoded data removed]",
      "text/plain": [
       "<Figure size 1080x576 with 1 Axes>"
      ]
     },
     "metadata": {
      "needs_background": "light"
     },
     "output_type": "display_data"
    }
   ],
   "source": [
    "plt.figure(figsize=(15, 8))\n",
    "seaborn.boxplot(data = data.query(\n",
    "                'genre in [\"Action\", \"Shooter\", \"Sports\", \"Role-playing\", \"Platform\", \"Misc\",\"Racing\", \"Fighting\"]'),\n",
    "                x = 'global_sales', y = 'genre');\n",
    "plt.xlim(-0.1, 3);"
   ]
  },
  {
   "cell_type": "markdown",
   "metadata": {},
   "source": [
    "По медиане продаж лидируют жанры Shooter, Sports и Platform, которые находятся на 2, 3 и 6 месте, соответственно, по общему количеству продаж."
   ]
  },
  {
   "cell_type": "code",
   "execution_count": 33,
   "metadata": {},
   "outputs": [
    {
     "name": "stdout",
     "output_type": "stream",
     "text": [
      "genre            Action  Adventure  Fighting   Misc  Platform  Puzzle  Racing  \\\n",
      "year_of_release                                                                 \n",
      "2013.0           122.51       6.09      7.09  25.27     24.54    0.96   12.37   \n",
      "2014.0            97.23       5.57     15.85  23.38      8.81    1.49   16.66   \n",
      "2015.0            72.02       8.16      7.90  11.57      6.05    0.71    8.07   \n",
      "2016.0            30.11       3.82      4.47   2.60      3.23    0.01    2.79   \n",
      "\n",
      "genre            Role-Playing  Shooter  Simulation  Sports  Strategy  \n",
      "year_of_release                                                       \n",
      "2013.0                  44.45    62.04        8.63   41.17      6.12  \n",
      "2014.0                  45.62    65.21        5.58   45.15      0.98  \n",
      "2015.0                  37.64    67.51        5.66   40.84      1.85  \n",
      "2016.0                  18.18    38.22        1.89   23.49      1.13  \n"
     ]
    }
   ],
   "source": [
    "sales_by_genre = data.pivot_table(index = 'year_of_release', values = 'global_sales', columns = 'genre', aggfunc = 'sum')\n",
    "print (sales_by_genre)"
   ]
  },
  {
   "cell_type": "code",
   "execution_count": 34,
   "metadata": {},
   "outputs": [
    {
     "data": {
      "image/png": "[encoded data removed]",
      "text/plain": [
       "<Figure size 1080x504 with 1 Axes>"
      ]
     },
     "metadata": {
      "needs_background": "light"
     },
     "output_type": "display_data"
    }
   ],
   "source": [
    "sales_by_genre.plot(style='o-', figsize = (15, 7), title = 'Количество проданных игр по жанрам c 2013 года, миллионы копий');"
   ]
  },
  {
   "cell_type": "markdown",
   "metadata": {},
   "source": [
    "Вывод: По медиане продажах лидируют жанры Shooter, Sports и Platform, которые находятся на 2, 3 и 6 месте по общему количеству продаж, соответственно. Лидерство жанров Action и Role-playing по общему количеству продаж, вероятно, объясняется наличием отдельных популярных игр - выбросами.\n",
    "Продажи и выпуск игр жанров Racing, Fighting, Platform, Simulation, Strategy, Puzzle не превышают 20 миллиронов копий во всем мире."
   ]
  },
  {
   "cell_type": "markdown",
   "metadata": {},
   "source": [
    "## Составьте портрет пользователя каждого региона\n",
    "### Определите для пользователя каждого региона (NA, EU, JP): Самые популярные платформы (топ-5). Опишите различия в долях продаж.\n",
    "\n",
    "Рассчитаем доли продаж на каждой платформе в каждом регионе и выберу топ 5 платформ"
   ]
  },
  {
   "cell_type": "code",
   "execution_count": 35,
   "metadata": {},
   "outputs": [],
   "source": [
    "df_na_sales = data.groupby('platform')['na_sales'].sum().transform(lambda x: 100*x/x.sum()\n",
    "                                                                  ).sort_values(ascending = False).nlargest(5)\n",
    "#print (df_na_sales)"
   ]
  },
  {
   "cell_type": "code",
   "execution_count": 36,
   "metadata": {},
   "outputs": [],
   "source": [
    "df_eu_sales = data.groupby('platform')['eu_sales'].sum().transform(lambda x: 100*x/x.sum()\n",
    "                                                                  ).sort_values(ascending = False).nlargest(5)\n",
    "#print (df_eu_sales)"
   ]
  },
  {
   "cell_type": "code",
   "execution_count": 37,
   "metadata": {},
   "outputs": [],
   "source": [
    "df_jp_sales = data.groupby('platform')['jp_sales'].sum().transform(lambda x: 100*x/x.sum()\n",
    "                                                                  ).sort_values(ascending = False).nlargest(5)\n",
    "#print (df_jp_sales)"
   ]
  },
  {
   "cell_type": "markdown",
   "metadata": {},
   "source": [
    "Построю график распределения продаж по регионам для наглядности."
   ]
  },
  {
   "cell_type": "code",
   "execution_count": 38,
   "metadata": {},
   "outputs": [
    {
     "data": {
      "image/png": "[encoded data removed]",
      "text/plain": [
       "<Figure size 1440x432 with 3 Axes>"
      ]
     },
     "metadata": {},
     "output_type": "display_data"
    }
   ],
   "source": [
    "fig, (ax1, ax2, ax3) = plt.subplots(1, 3, figsize = (20, 6))\n",
    "fig.suptitle('Продажи по платформам в регионах')\n",
    "ax1.pie(df_eu_sales, labels = df_eu_sales.index, autopct='%1.1f%%')\n",
    "ax1.set_title('eu_sales')\n",
    "ax2.pie(df_jp_sales, labels = df_jp_sales.index, autopct='%1.1f%%')\n",
    "ax2.set_title('jp_sales')\n",
    "ax3.pie(df_na_sales, labels = df_na_sales.index, autopct='%1.1f%%')\n",
    "ax3.set_title('na_sales')\n",
    "\n",
    "plt.show()"
   ]
  },
  {
   "cell_type": "markdown",
   "metadata": {},
   "source": [
    "Вывод: популярность платформ отличается в разных регионах. В Европе самыми популярными платформами являются PS4 (42,2%), Ps3 (20,3%), XOne (15,4%), в Северной Америке - являются PS4 (28,2%), XOne (24,2%) и X360 (21,2%), а в Японии - 3DS (49,6%), PS3 (17,1%) и PSV (13,6%). Другие регионы: Самыми популярными платформами являются PS4, Ps3, XOne."
   ]
  },
  {
   "cell_type": "markdown",
   "metadata": {},
   "source": [
    "### Определите для пользователя каждого региона (NA, EU, JP) cамые популярные жанры (топ-5). Поясните разницу.\n",
    "\n",
    "Рассчитаем доли продаж каждого жанра в каждом регионе и выберем топ 5 жанров"
   ]
  },
  {
   "cell_type": "code",
   "execution_count": 42,
   "metadata": {},
   "outputs": [
    {
     "name": "stdout",
     "output_type": "stream",
     "text": [
      "genre\n",
      "Action          28.797606\n",
      "Shooter         25.071394\n",
      "Sports          14.911700\n",
      "Role-Playing    10.600626\n",
      "Misc             6.280414\n",
      "Name: na_sales, dtype: float64\n"
     ]
    }
   ],
   "source": [
    "df_na_genre = data.groupby('genre')['na_sales'].sum().transform(lambda x: 100*x/x.sum()\n",
    "                                                                  ).sort_values(ascending = False).nlargest(5)\n",
    "print (df_na_genre)"
   ]
  },
  {
   "cell_type": "code",
   "execution_count": 43,
   "metadata": {},
   "outputs": [
    {
     "name": "stdout",
     "output_type": "stream",
     "text": [
      "genre\n",
      "Action          30.117533\n",
      "Shooter         22.400122\n",
      "Sports          15.429722\n",
      "Role-Playing     9.425592\n",
      "Racing           5.147490\n",
      "Name: eu_sales, dtype: float64\n"
     ]
    }
   ],
   "source": [
    "df_eu_genre = data.groupby('genre')['eu_sales'].sum().transform(lambda x: 100*x/x.sum()\n",
    "                                                                  ).sort_values(ascending = False).nlargest(5)\n",
    "print (df_eu_genre)"
   ]
  },
  {
   "cell_type": "code",
   "execution_count": 44,
   "metadata": {},
   "outputs": [
    {
     "name": "stdout",
     "output_type": "stream",
     "text": [
      "genre\n",
      "Role-Playing    36.255150\n",
      "Action          28.761188\n",
      "Misc             6.535019\n",
      "Fighting         5.434011\n",
      "Shooter          4.695269\n",
      "Name: jp_sales, dtype: float64\n"
     ]
    }
   ],
   "source": [
    "df_jp_genre = data.groupby('genre')['jp_sales'].sum().transform(lambda x: 100*x/x.sum()\n",
    "                                                                  ).sort_values(ascending = False).nlargest(5)\n",
    "print (df_jp_genre)"
   ]
  },
  {
   "cell_type": "markdown",
   "metadata": {},
   "source": [
    "Построю график распределения продаж по регионам для наглядности."
   ]
  },
  {
   "cell_type": "code",
   "execution_count": 45,
   "metadata": {},
   "outputs": [
    {
     "data": {
      "image/png": "[encoded data removed]",
      "text/plain": [
       "<Figure size 1440x432 with 3 Axes>"
      ]
     },
     "metadata": {},
     "output_type": "display_data"
    }
   ],
   "source": [
    "fig, (ax1, ax2, ax3) = plt.subplots(1, 3, figsize = (20, 6))\n",
    "fig.suptitle('Продажи по жанрам в регионах')\n",
    "ax1.pie(df_eu_genre, labels = df_eu_genre.index, autopct='%1.1f%%')\n",
    "ax1.set_title('eu_sales')\n",
    "ax2.pie(df_jp_genre, labels = df_jp_genre.index, autopct='%1.1f%%')\n",
    "ax2.set_title('jp_sales')\n",
    "ax3.pie(df_na_genre, labels = df_na_genre.index, autopct='%1.1f%%')\n",
    "ax3.set_title('na_sales')\n",
    "plt.show()"
   ]
  },
  {
   "cell_type": "markdown",
   "metadata": {},
   "source": [
    "Вывод: популярность жанров игр отличается в разных регионах. В Европе самыми популярными жанрами являются Action (36,5%), Shooter(27,1%), Sports (18,7%), Role-Playing (11.4%) и Racing (6.2%), в Северной Америке самыми популярными жанрами являются Action (33,6%), Shooter (29,3%), Sports (17,4%), Role-Playing (12.4%), Misc (7.3%). А в Японии - Role-Playing (44,4%), Action (35,2%), Misc (8%) Fighting (6.7%), Shooter (5.7%). В целом можно сказать, что рынки Европы и Северной Америки достаточно схожи, а рынок Японии значительно от них отличается."
   ]
  },
  {
   "cell_type": "markdown",
   "metadata": {},
   "source": [
    "### Влияет ли рейтинг ESRB на продажи в отдельном регионе?\n",
    "\n",
    "посмотрим на уникальные значения столбца рейтинга и разберемся со их смыслом."
   ]
  },
  {
   "cell_type": "code",
   "execution_count": 46,
   "metadata": {},
   "outputs": [
    {
     "name": "stdout",
     "output_type": "stream",
     "text": [
      "['M' 'unknown' 'E' 'T' 'E10+']\n"
     ]
    }
   ],
   "source": [
    "print (data['rating'].unique())"
   ]
  },
  {
   "cell_type": "markdown",
   "metadata": {},
   "source": [
    "Здесь есть следующие значения рейтинга : \n",
    "\n",
    "«E» («Everyone») — «Для всех»: Содержание  подходит для всех возрастов.\n",
    "\n",
    "«E10+» («Everyone 10 and older») — «Для всех от 10 лет и старше»\n",
    "\n",
    "«T» («Teen») — «Подросткам»: Игра подходит для лиц от 13 лет.\n",
    "\n",
    "«M» («Mature») — «Для взрослых»\n"
   ]
  },
  {
   "cell_type": "markdown",
   "metadata": {},
   "source": [
    "сгруппирую продажи в разных регионах по рейтингам игр и визуализирую данные"
   ]
  },
  {
   "cell_type": "code",
   "execution_count": 47,
   "metadata": {},
   "outputs": [],
   "source": [
    "eu_rating = data.groupby('rating')['eu_sales'].sum().sort_values(ascending=False)\n",
    "jp_rating = data.groupby('rating')['jp_sales'].sum().sort_values(ascending=False)\n",
    "na_rating = data.groupby('rating')['na_sales'].sum().sort_values(ascending=False)\n",
    "other_rating = data.groupby('rating')['other_sales'].sum().sort_values(ascending=False)"
   ]
  },
  {
   "cell_type": "code",
   "execution_count": 48,
   "metadata": {},
   "outputs": [
    {
     "data": {
      "image/png": "[encoded data removed]",
      "text/plain": [
       "<Figure size 1080x576 with 4 Axes>"
      ]
     },
     "metadata": {
      "needs_background": "light"
     },
     "output_type": "display_data"
    }
   ],
   "source": [
    "fig, axis =plt.subplots(nrows = 2, ncols = 2, figsize = (15, 8))\n",
    "fig.suptitle('Влияние рейтинга ESRB на продажи в регионах')\n",
    "eu_rating.plot.barh(ax=axis[0,0]).set(ylabel='eu_sales')\n",
    "jp_rating.plot.barh(ax=axis[0,1]).set(ylabel='jp_sales')\n",
    "na_rating.plot.barh(ax=axis[1,0]).set(ylabel='na_sales')\n",
    "other_rating.plot.barh(ax=axis[1,1]).set(ylabel='other_sales')\n",
    "plt.show()"
   ]
  },
  {
   "cell_type": "markdown",
   "metadata": {},
   "source": [
    "Вывод: продажи игр с рейтингом «M» («Mature») — «Для взрослых» лидируют во всех регионах, кроме Японии. По Японии нельзя сделать однозначных выводов, тк для большей части игр рейтинг неизвестен. Наименне популярны игры с рейтингами «T» («Teen») — «Подросткам»: Игра подходит для лиц от 13 лет и «E10+» («Everyone 10 and older») — «Для всех от 10 лет и старше».\n"
   ]
  },
  {
   "cell_type": "markdown",
   "metadata": {},
   "source": [
    "**Вывод по шагу 4**\n",
    "\n",
    "В целом можно сказать, что рынки Европы и Северной Америки достаточно схожи, а рынок Японии значительно от них отличается.\n",
    "\n",
    "Составим портрет пользователя каждого региона:\n",
    "\n",
    "Европа:  Самыми популярными платформами являются PS4 (42,2%), Ps3 (20,3%), XOne (15,4%). В Европе самыми популярными жанрами являются Action (36,5%), Shooter(27,1%), Sports (18,7%), Role-Playing (11.4%) и Racing (6.2%). Продажи игр с рейтингом «M» («Mature») лидируют со значительным отрывом. Наименее популярны игры с рейтингами «T» («Teen») и «E10+» («Everyone 10 and older»).\n",
    "\n",
    "Северная Америка: Самыми популярными платформами являются PS4 (28,2%), XOne (24,2%) и X360 (21,2%). Самыми популярными жанрами являются Action (33,6%), Shooter (29,3%), Sports (17,4%), Role-Playing (12.4%), Misc (7.3%). Продажи игр с рейтингом «M» («Mature») лидируют со значительным отрывом. Наименее популярны игры с рейтингами «T» («Teen») и «E10+» («Everyone 10 and older»).\n",
    "\n",
    "Япония: Самыми популярными платформами являются 3DS (49,6%), PS3 (17,1%) и PSV (13,6%). Самыми популярными жанрами являются Role-Playing (44,4%), Action (35,2%), Misc (8%) Fighting (6.7%), Shooter (5.7%). По продажам игр в зависимости от возрастного рейтинга нельзя сделать однозначных выводов, тк для большей части игр рейтинг неизвестен.\n"
   ]
  },
  {
   "cell_type": "markdown",
   "metadata": {},
   "source": [
    "## Проверьте гипотезы"
   ]
  },
  {
   "cell_type": "markdown",
   "metadata": {},
   "source": [
    "###  Средние пользовательские рейтинги платформ Xbox One и PC одинаковые"
   ]
  },
  {
   "cell_type": "markdown",
   "metadata": {},
   "source": [
    "Сформулируем нулевую и альтернативную гипотезы. Нулевая гипотеза это гипотеза об отсутствии различий. Альтернативная гипотеза противоречит нулевой и говорит о возможном отклонении и в большую, и в меньшую стороны (двусторонняя).\n",
    "\n",
    "H₀: Средние пользовательские рейтинги платформ Xbox One равны средним пользовательским рейтингам платформ PC \n",
    "\n",
    "H₁: Средние пользовательские рейтинги платформ Xbox One не равны средним пользовательским рейтингам платформ PC "
   ]
  },
  {
   "cell_type": "code",
   "execution_count": 49,
   "metadata": {},
   "outputs": [
    {
     "name": "stdout",
     "output_type": "stream",
     "text": [
      "Количество оценок пользователй Xbox One: 182 \n",
      " Количество оценок пользователй РС: 155\n"
     ]
    }
   ],
   "source": [
    "user_score_xbox = data.query('platform==\"XOne\"')['user_score'].dropna()\n",
    "user_score_pc = data.query('platform==\"PC\"')['user_score'].dropna()\n",
    "\n",
    "print ('Количество оценок пользователй Xbox One:', user_score_xbox.count(), '\\n', \n",
    "       'Количество оценок пользователй РС:', user_score_pc.count())\n"
   ]
  },
  {
   "cell_type": "markdown",
   "metadata": {},
   "source": [
    "Выберем метод статистической оценки. Мы проверяем гипотезу о равенстве среднего двух генеральных совокупностей по взятым из них выборкам, поэтому исползуем scipy.stats.ttest_ind (array1, array2, equal_var).\n",
    "\n",
    "Выполнены необходимые для этого условия: Генеральные совокупности не зависят друг от друга. Выборочные средние нормально распределены (Благодаря ЦПТ, если размер выборки составляет хотя бы несколько десятков значений, выборочные средние будут распределены нормально вокруг истинного среднего этой совокупности). Дисперсии рассматриваемых генеральных совокупностей равны (если выборки достаточно велики (30 и больше значений) и равны по размеру между собой, то оставляем equal_var =True)\n",
    "\n",
    "критический уровень статистической значимости alpha задам 0,05"
   ]
  },
  {
   "cell_type": "code",
   "execution_count": 50,
   "metadata": {},
   "outputs": [
    {
     "name": "stdout",
     "output_type": "stream",
     "text": [
      "p-значение: 0.14012658403611647\n",
      "Не получилось отвергнуть нулевую гипотезу\n"
     ]
    }
   ],
   "source": [
    "alpha = 0.05 # \n",
    "results = st.ttest_ind(user_score_xbox, user_score_pc)\n",
    "\n",
    "print('p-значение:', results.pvalue)\n",
    "\n",
    "if results.pvalue < alpha:\n",
    "    print('Отвергаем нулевую гипотезу')\n",
    "else:\n",
    "    print('Не получилось отвергнуть нулевую гипотезу')\n"
   ]
  },
  {
   "cell_type": "markdown",
   "metadata": {},
   "source": [
    "Вывод: На основании проверенных гипотез можно сказать, что вероятность случайно получить такое или большее различие равна почти 14%. Это слишком большая вероятность, чтобы делать вывод о значимом различии между пользовательскими рейтингами. То есть наше предположение о равенстве среднего рейтинга платформ Xbox One и PC нельзя отрицать."
   ]
  },
  {
   "cell_type": "markdown",
   "metadata": {},
   "source": [
    "### Средние пользовательские рейтинги жанров Action (англ. «действие», экшен-игры) и Sports (англ. «спортивные соревнования») разные."
   ]
  },
  {
   "cell_type": "markdown",
   "metadata": {},
   "source": [
    "Сформулируем нулевую и альтернативную гипотезы. Нулевая гипотеза это гипотеза об отсутствии различий. Альтернативная гипотеза противоречит нулевой и говорит о возможном отклонении и в большую, и в меньшую стороны (двусторонняя).\n",
    "\n",
    "H₀: Средние пользовательские рейтинги жанра Action равны средним пользовательским рейтингам жанра Sports \n",
    "\n",
    "H₁: Средние пользовательские рейтинги жанра Action не равны средним пользовательским рейтингам жанра Sports"
   ]
  },
  {
   "cell_type": "code",
   "execution_count": 51,
   "metadata": {},
   "outputs": [
    {
     "name": "stdout",
     "output_type": "stream",
     "text": [
      "Количество оценок пользователей жанра Action: 389 \n",
      " Количество оценок пользователей жанра Sports: 160\n"
     ]
    }
   ],
   "source": [
    "user_score_action = data.query('genre==\"Action\"')['user_score'].dropna()\n",
    "user_score_sports = data.query('genre==\"Sports\"')['user_score'].dropna()\n",
    "\n",
    "print ('Количество оценок пользователей жанра Action:', user_score_action.count(), '\\n', \n",
    "       'Количество оценок пользователей жанра Sports:', user_score_sports.count())\n"
   ]
  },
  {
   "cell_type": "markdown",
   "metadata": {},
   "source": [
    "Выберем метод статистической оценки. Мы проверяем гипотезу о равенстве среднего двух генеральных совокупностей по взятым из них выборкам, поэтому исползуем scipy.stats.ttest_ind (array1, array2, equal_var).\n",
    "\n",
    "Выполнены необходимые для этого условия: Генеральные совокупности не зависят друг от друга. Выборочные средние нормально распределены (Благодаря ЦПТ, если размер выборки составляет хотя бы несколько десятков значений, выборочные средние будут распределены нормально вокруг истинного среднего этой совокупности). Дисперсии рассматриваемых генеральных совокупностей равны (если выборки достаточно велики (30 и больше значений) и равны по размеру между собой, то оставляем equal_var =True)\n",
    "\n",
    "критический уровень статистической значимости alpha задам 0,05"
   ]
  },
  {
   "cell_type": "code",
   "execution_count": 52,
   "metadata": {},
   "outputs": [
    {
     "name": "stdout",
     "output_type": "stream",
     "text": [
      "p-значение: 1.0517832389140023e-27\n",
      "Отвергаем нулевую гипотезу\n"
     ]
    }
   ],
   "source": [
    "alpha = 0.05 # \n",
    "results = st.ttest_ind(user_score_action, user_score_sports)\n",
    "\n",
    "print('p-значение:', results.pvalue)\n",
    "\n",
    "if results.pvalue < alpha:\n",
    "    print('Отвергаем нулевую гипотезу')\n",
    "else:\n",
    "    print('Не получилось отвергнуть нулевую гипотезу')\n"
   ]
  },
  {
   "cell_type": "markdown",
   "metadata": {},
   "source": [
    "Вывод: На основании проверенных гипотез можно сказать, что вероятность случайно получить такой результат при условии, что нулевая гипотеза верна, очень низка, значительно меньше, чем alpha. Поэтому мы принимаем альтернативную гипотезу. То есть считаем, что средние пользовательские рейтинги жанров Action и Sports разные."
   ]
  },
  {
   "cell_type": "markdown",
   "metadata": {},
   "source": [
    "## Напишите общий вывод"
   ]
  },
  {
   "cell_type": "markdown",
   "metadata": {},
   "source": [
    "**При работе над проектом были выполнены этапы:**\n",
    "\n",
    "1.\tПолучение и изучение данных\n",
    "2.\tПредобработка данных. Удалены пропуски в данных, какие-то пропуски были заменены на ‘unknown’ для дальнейшей работы. Добавлены столбцы для последующей обработки значений. Изменены типы данных.\n",
    "3.\tИсследовательский анализ данных. Проведена оценка выпуска игр в разные годы и на разных платформах, на основании полученных результатов выбран актуальный период для анализа. Выбраны потенциально прибыльные платформы. Проведена оценка влияния отзывов пользователей и критиков на продажи игр. Выбраны наиболее прибыльные жанры. Результаты представлены в виде графиков для удобства восприятия.\n",
    "4.\tСоставлен портрет пользователя разных регионов (NA, EU, JP). Результаты представлены в виде графиков для удобства восприятия.\n",
    "5.\t Проверены гипотезы о пользовательских рейтингах разных платформ и жанров.\n",
    "6.\tОформление результатов\n",
    "7.\t Вывод"
   ]
  },
  {
   "cell_type": "markdown",
   "metadata": {},
   "source": [
    "**Сформулировны следующие выводы:**\n",
    "\n",
    "1.\tВыявлены следующие определяющие успешность игры закономерности для выбора потенциально популярных продуктов и планирования рекламной кампании:\n",
    "\n",
    "•\tВ лидерах по продажам в Европе и Северной Америке сейчас платформы PS4 и XOne. В Японии популярна 3DS.\n",
    "\n",
    "•\tВыявлена слабая положительная корреляция продаж и отзывов критиков. Корреляция продаж и отзывов пользователей близка к 0\n",
    "\n",
    "•\tв мировых продажах лидируют жанры Shooter, Sports и Platform, которые находятся на 2, 3 и 6 месте по общему количеству продаж, соответственно. Лидерство жанров Action и Role-playing в общем количестве продаж, вероятно, объясняется наличием отдельных популярных игр - выбросами.\n",
    "\n",
    "•\tУ пользователей разных регионов различаются предпочтения платформ и жанров, что надо учитывать в планировании продаж\n",
    "\n",
    "•\tВо всех регионах, где доступны данные, лидируют продажи игр с рейтингом «M» («Mature») — «Для взрослых» \n",
    "\n",
    "2.\tСоставлены портреты пользователей регионов. В целом можно сказать, что рынки Европы и Северной Америки достаточно схожи, а рынок Японии значительно от них отличается.\n",
    "\n",
    "•\tЕвропа:  Самыми популярными платформами являются PS4 (42,2%), Ps3 (20,3%), XOne (15,4%). В Европе самыми популярными жанрами являются Action (36,5%), Shooter(27,1%), Sports (18,7%), Role-Playing (11.4%) и Racing (6.2%). Продажи игр с рейтингом «M» («Mature») лидируют со значительным отрывом. Наименее популярны игры с рейтингами «T» («Teen») и «E10+» («Everyone 10 and older»).\n",
    "\n",
    "•\tСеверная Америка: Самыми популярными платформами являются PS4 (28,2%), XOne (24,2%) и X360 (21,2%). Самыми популярными жанрами являются Action (33,6%), Shooter (29,3%), Sports (17,4%), Role-Playing (12.4%), Misc (7.3%). Продажи игр с рейтингом «M» («Mature») лидируют со значительным отрывом. Наименее популярны игры с рейтингами «T» («Teen») и «E10+» («Everyone 10 and older»).\n",
    "\n",
    "•\tЯпония: Самыми популярными платформами являются 3DS (49,6%), PS3 (17,1%) и PSV (13,6%). Самыми популярными жанрами являются Role-Playing (44,4%), Action (35,2%), Misc (8%) Fighting (6.7%), Shooter (5.7%). По продажам игр в зависимости от возрастного рейтинга нельзя сделать однозначных выводов, тк для большей части игр рейтинг неизвестен.\n",
    "\n",
    "\n",
    "3.\tСрок активных продаж игр на платформе составляет около 5-10 лет. В течение нескольких лет популярность платформ растет, достигает пика и постепенно снижается. \n",
    "\n",
    "4.\tОтмечается общая тенденция к уменьшению количества продаж игр в последние годы.\n",
    "\n",
    "5.\tИндустрия игр быстро меняется.\n",
    "\n",
    "6.\tНе получилось отвергнуть гипотезу о равенстве пользовательских рейтингов платформ Xbox One и PC.\n",
    "7.\tГипотеза о  равенстве пользовательских рейтингов жанра Action и жанра Sports отвергнута.\n",
    "\n"
   ]
  }
 ],
 "metadata": {
  "ExecuteTimeLog": [
   {
    "duration": 645,
    "start_time": "2023-02-27T18:19:33.959Z"
   },
   {
    "duration": 226,
    "start_time": "2023-02-27T18:20:10.760Z"
   },
   {
    "duration": 78,
    "start_time": "2023-02-27T18:20:14.270Z"
   },
   {
    "duration": 3,
    "start_time": "2023-02-27T18:20:17.069Z"
   },
   {
    "duration": 76,
    "start_time": "2023-02-27T18:20:21.860Z"
   },
   {
    "duration": 79,
    "start_time": "2023-02-27T18:20:28.691Z"
   },
   {
    "duration": 84,
    "start_time": "2023-02-27T18:20:35.256Z"
   },
   {
    "duration": 858,
    "start_time": "2023-02-27T18:22:27.910Z"
   },
   {
    "duration": 715,
    "start_time": "2023-02-27T18:22:41.180Z"
   },
   {
    "duration": 685,
    "start_time": "2023-02-27T18:22:50.797Z"
   },
   {
    "duration": 10,
    "start_time": "2023-02-27T18:24:28.198Z"
   },
   {
    "duration": 15,
    "start_time": "2023-02-27T18:26:43.777Z"
   },
   {
    "duration": 14,
    "start_time": "2023-02-27T18:33:14.867Z"
   },
   {
    "duration": 4,
    "start_time": "2023-02-27T18:33:22.663Z"
   },
   {
    "duration": 22,
    "start_time": "2023-02-27T18:33:25.302Z"
   },
   {
    "duration": 10,
    "start_time": "2023-02-27T18:34:33.652Z"
   },
   {
    "duration": 14,
    "start_time": "2023-02-27T18:34:36.918Z"
   },
   {
    "duration": 10,
    "start_time": "2023-02-27T18:34:54.399Z"
   },
   {
    "duration": 17,
    "start_time": "2023-02-27T18:34:58.292Z"
   },
   {
    "duration": 147,
    "start_time": "2023-02-27T18:43:52.878Z"
   },
   {
    "duration": 5,
    "start_time": "2023-02-27T18:44:25.076Z"
   },
   {
    "duration": 9,
    "start_time": "2023-02-27T19:02:45.409Z"
   },
   {
    "duration": 17,
    "start_time": "2023-02-27T19:03:01.689Z"
   },
   {
    "duration": 3,
    "start_time": "2023-02-27T19:03:22.369Z"
   },
   {
    "duration": 10,
    "start_time": "2023-02-27T19:03:48.114Z"
   },
   {
    "duration": 84,
    "start_time": "2023-02-28T08:24:23.519Z"
   },
   {
    "duration": 45,
    "start_time": "2023-02-28T08:24:34.574Z"
   },
   {
    "duration": 835,
    "start_time": "2023-02-28T08:24:38.691Z"
   },
   {
    "duration": 226,
    "start_time": "2023-02-28T08:24:39.528Z"
   },
   {
    "duration": 733,
    "start_time": "2023-02-28T08:24:39.757Z"
   },
   {
    "duration": 11,
    "start_time": "2023-02-28T08:24:40.492Z"
   },
   {
    "duration": 41,
    "start_time": "2023-02-28T08:24:40.505Z"
   },
   {
    "duration": 4,
    "start_time": "2023-02-28T08:24:40.549Z"
   },
   {
    "duration": 33,
    "start_time": "2023-02-28T08:24:40.555Z"
   },
   {
    "duration": 15,
    "start_time": "2023-02-28T08:24:44.087Z"
   },
   {
    "duration": 61,
    "start_time": "2023-02-28T08:25:03.430Z"
   },
   {
    "duration": 10,
    "start_time": "2023-02-28T08:25:13.105Z"
   },
   {
    "duration": 7,
    "start_time": "2023-02-28T08:25:21.805Z"
   },
   {
    "duration": 8,
    "start_time": "2023-02-28T08:28:23.015Z"
   },
   {
    "duration": 12,
    "start_time": "2023-02-28T08:28:37.177Z"
   },
   {
    "duration": 5,
    "start_time": "2023-02-28T08:29:26.585Z"
   },
   {
    "duration": 91,
    "start_time": "2023-02-28T08:35:30.594Z"
   },
   {
    "duration": 17,
    "start_time": "2023-02-28T08:35:38.819Z"
   },
   {
    "duration": 8,
    "start_time": "2023-02-28T08:37:07.185Z"
   },
   {
    "duration": 20,
    "start_time": "2023-02-28T08:37:23.418Z"
   },
   {
    "duration": 18,
    "start_time": "2023-02-28T08:37:40.191Z"
   },
   {
    "duration": 14,
    "start_time": "2023-02-28T08:39:20.888Z"
   },
   {
    "duration": 12,
    "start_time": "2023-02-28T08:39:27.301Z"
   },
   {
    "duration": 14,
    "start_time": "2023-02-28T08:39:41.210Z"
   },
   {
    "duration": 17,
    "start_time": "2023-02-28T08:42:51.801Z"
   },
   {
    "duration": 16,
    "start_time": "2023-02-28T08:43:06.709Z"
   },
   {
    "duration": 777,
    "start_time": "2023-03-11T15:27:34.447Z"
   },
   {
    "duration": 213,
    "start_time": "2023-03-11T15:27:35.226Z"
   },
   {
    "duration": 677,
    "start_time": "2023-03-11T15:27:35.441Z"
   },
   {
    "duration": 9,
    "start_time": "2023-03-11T15:27:36.120Z"
   },
   {
    "duration": 16,
    "start_time": "2023-03-11T15:27:36.131Z"
   },
   {
    "duration": 3,
    "start_time": "2023-03-11T15:27:36.149Z"
   },
   {
    "duration": 20,
    "start_time": "2023-03-11T15:27:39.306Z"
   },
   {
    "duration": 8,
    "start_time": "2023-03-11T15:35:30.151Z"
   },
   {
    "duration": 6,
    "start_time": "2023-03-11T15:35:35.294Z"
   },
   {
    "duration": 13,
    "start_time": "2023-03-11T15:36:47.962Z"
   },
   {
    "duration": 8,
    "start_time": "2023-03-11T15:36:51.341Z"
   },
   {
    "duration": 6,
    "start_time": "2023-03-11T15:36:57.601Z"
   },
   {
    "duration": 628,
    "start_time": "2023-03-11T16:49:21.359Z"
   },
   {
    "duration": 86,
    "start_time": "2023-03-11T16:49:21.990Z"
   },
   {
    "duration": 754,
    "start_time": "2023-03-11T16:49:22.078Z"
   },
   {
    "duration": 13,
    "start_time": "2023-03-11T16:49:22.833Z"
   },
   {
    "duration": 16,
    "start_time": "2023-03-11T16:49:22.849Z"
   },
   {
    "duration": 3,
    "start_time": "2023-03-11T16:49:22.867Z"
   },
   {
    "duration": 51,
    "start_time": "2023-03-11T16:49:22.872Z"
   },
   {
    "duration": 8,
    "start_time": "2023-03-11T16:49:25.555Z"
   },
   {
    "duration": 8,
    "start_time": "2023-03-11T16:49:39.761Z"
   },
   {
    "duration": 15,
    "start_time": "2023-03-11T16:49:44.138Z"
   },
   {
    "duration": 17,
    "start_time": "2023-03-11T16:51:08.513Z"
   },
   {
    "duration": 18,
    "start_time": "2023-03-11T16:52:32.758Z"
   },
   {
    "duration": 4,
    "start_time": "2023-03-11T16:52:47.470Z"
   },
   {
    "duration": 5,
    "start_time": "2023-03-11T16:52:49.554Z"
   },
   {
    "duration": 70,
    "start_time": "2023-03-11T16:52:49.607Z"
   },
   {
    "duration": 21,
    "start_time": "2023-03-11T16:57:25.561Z"
   },
   {
    "duration": 84,
    "start_time": "2023-03-11T17:03:07.151Z"
   },
   {
    "duration": 10,
    "start_time": "2023-03-11T17:05:23.686Z"
   },
   {
    "duration": 36,
    "start_time": "2023-03-11T17:06:40.497Z"
   },
   {
    "duration": 1187,
    "start_time": "2023-03-11T17:07:48.892Z"
   },
   {
    "duration": 8,
    "start_time": "2023-03-11T17:08:28.088Z"
   },
   {
    "duration": 213,
    "start_time": "2023-03-11T17:08:38.971Z"
   },
   {
    "duration": 8,
    "start_time": "2023-03-11T17:08:53.810Z"
   },
   {
    "duration": 55,
    "start_time": "2023-03-11T17:15:22.493Z"
   },
   {
    "duration": 100,
    "start_time": "2023-03-11T17:15:57.547Z"
   },
   {
    "duration": 73,
    "start_time": "2023-03-11T18:19:51.685Z"
   },
   {
    "duration": 4,
    "start_time": "2023-03-11T18:19:55.251Z"
   },
   {
    "duration": 108,
    "start_time": "2023-03-11T18:19:55.257Z"
   },
   {
    "duration": 783,
    "start_time": "2023-03-11T18:19:55.367Z"
   },
   {
    "duration": 16,
    "start_time": "2023-03-11T18:19:56.155Z"
   },
   {
    "duration": 23,
    "start_time": "2023-03-11T18:19:56.173Z"
   },
   {
    "duration": 5,
    "start_time": "2023-03-11T18:19:56.222Z"
   },
   {
    "duration": 24,
    "start_time": "2023-03-11T18:19:56.231Z"
   },
   {
    "duration": 10,
    "start_time": "2023-03-11T18:19:56.257Z"
   },
   {
    "duration": 12,
    "start_time": "2023-03-11T18:19:56.269Z"
   },
   {
    "duration": 32,
    "start_time": "2023-03-11T18:19:56.320Z"
   },
   {
    "duration": 129,
    "start_time": "2023-03-11T18:20:02.929Z"
   },
   {
    "duration": 260,
    "start_time": "2023-03-11T18:20:31.606Z"
   },
   {
    "duration": 5,
    "start_time": "2023-03-11T18:20:51.150Z"
   },
   {
    "duration": 249,
    "start_time": "2023-03-11T18:22:14.717Z"
   },
   {
    "duration": 74,
    "start_time": "2023-03-11T18:22:48.211Z"
   },
   {
    "duration": 82,
    "start_time": "2023-03-11T18:23:14.434Z"
   },
   {
    "duration": 69,
    "start_time": "2023-03-11T18:23:23.172Z"
   },
   {
    "duration": 76,
    "start_time": "2023-03-11T18:23:34.692Z"
   },
   {
    "duration": 19,
    "start_time": "2023-03-11T18:24:10.877Z"
   },
   {
    "duration": 56,
    "start_time": "2023-03-12T07:17:16.721Z"
   },
   {
    "duration": 848,
    "start_time": "2023-03-12T07:17:19.804Z"
   },
   {
    "duration": 155,
    "start_time": "2023-03-12T07:17:20.654Z"
   },
   {
    "duration": 704,
    "start_time": "2023-03-12T07:17:20.811Z"
   },
   {
    "duration": 10,
    "start_time": "2023-03-12T07:17:21.517Z"
   },
   {
    "duration": 32,
    "start_time": "2023-03-12T07:17:21.529Z"
   },
   {
    "duration": 55,
    "start_time": "2023-03-12T07:17:25.723Z"
   },
   {
    "duration": 4,
    "start_time": "2023-03-12T07:17:57.371Z"
   },
   {
    "duration": 11,
    "start_time": "2023-03-12T07:17:59.360Z"
   },
   {
    "duration": 18,
    "start_time": "2023-03-12T07:18:02.812Z"
   },
   {
    "duration": 100,
    "start_time": "2023-03-12T07:18:04.558Z"
   },
   {
    "duration": 79,
    "start_time": "2023-03-12T07:19:29.168Z"
   },
   {
    "duration": 10,
    "start_time": "2023-03-12T07:19:43.603Z"
   },
   {
    "duration": 10,
    "start_time": "2023-03-12T07:20:29.837Z"
   },
   {
    "duration": 10,
    "start_time": "2023-03-12T07:20:48.165Z"
   },
   {
    "duration": 11,
    "start_time": "2023-03-12T07:21:01.760Z"
   },
   {
    "duration": 16,
    "start_time": "2023-03-12T07:21:46.743Z"
   },
   {
    "duration": 14,
    "start_time": "2023-03-12T07:21:56.842Z"
   },
   {
    "duration": 9,
    "start_time": "2023-03-12T07:22:40.577Z"
   },
   {
    "duration": 8,
    "start_time": "2023-03-12T07:22:46.321Z"
   },
   {
    "duration": 7,
    "start_time": "2023-03-12T07:22:48.331Z"
   },
   {
    "duration": 12,
    "start_time": "2023-03-12T07:22:51.005Z"
   },
   {
    "duration": 7,
    "start_time": "2023-03-12T07:22:59.441Z"
   },
   {
    "duration": 10,
    "start_time": "2023-03-12T07:23:19.076Z"
   },
   {
    "duration": 5,
    "start_time": "2023-03-12T07:23:21.337Z"
   },
   {
    "duration": 5,
    "start_time": "2023-03-12T07:23:36.901Z"
   },
   {
    "duration": 24,
    "start_time": "2023-03-12T07:23:40.615Z"
   },
   {
    "duration": 27,
    "start_time": "2023-03-12T07:23:53.512Z"
   },
   {
    "duration": 30,
    "start_time": "2023-03-12T07:23:56.097Z"
   },
   {
    "duration": 3,
    "start_time": "2023-03-12T07:24:47.402Z"
   },
   {
    "duration": 5,
    "start_time": "2023-03-12T07:24:55.334Z"
   },
   {
    "duration": 8,
    "start_time": "2023-03-12T07:25:17.506Z"
   },
   {
    "duration": 28,
    "start_time": "2023-03-12T07:25:24.503Z"
   },
   {
    "duration": 9,
    "start_time": "2023-03-12T07:25:52.174Z"
   },
   {
    "duration": 7,
    "start_time": "2023-03-12T07:25:59.409Z"
   },
   {
    "duration": 10,
    "start_time": "2023-03-12T07:30:32.858Z"
   },
   {
    "duration": 8,
    "start_time": "2023-03-12T07:49:54.043Z"
   },
   {
    "duration": 28,
    "start_time": "2023-03-12T07:50:20.157Z"
   },
   {
    "duration": 25,
    "start_time": "2023-03-12T07:51:14.417Z"
   },
   {
    "duration": 7,
    "start_time": "2023-03-12T07:51:25.385Z"
   },
   {
    "duration": 14,
    "start_time": "2023-03-12T07:51:35.677Z"
   },
   {
    "duration": 6,
    "start_time": "2023-03-12T07:51:50.991Z"
   },
   {
    "duration": 16,
    "start_time": "2023-03-12T07:51:52.444Z"
   },
   {
    "duration": 685,
    "start_time": "2023-03-12T07:52:10.086Z"
   },
   {
    "duration": 84,
    "start_time": "2023-03-12T07:52:10.774Z"
   },
   {
    "duration": 697,
    "start_time": "2023-03-12T07:52:10.860Z"
   },
   {
    "duration": 3,
    "start_time": "2023-03-12T07:52:11.559Z"
   },
   {
    "duration": 49,
    "start_time": "2023-03-12T07:52:11.564Z"
   },
   {
    "duration": 22,
    "start_time": "2023-03-12T07:52:11.614Z"
   },
   {
    "duration": 81,
    "start_time": "2023-03-12T07:52:11.637Z"
   },
   {
    "duration": 15,
    "start_time": "2023-03-12T07:52:11.720Z"
   },
   {
    "duration": 23,
    "start_time": "2023-03-12T07:52:11.737Z"
   },
   {
    "duration": 29,
    "start_time": "2023-03-12T07:52:11.762Z"
   },
   {
    "duration": 11,
    "start_time": "2023-03-12T07:52:11.793Z"
   },
   {
    "duration": 27,
    "start_time": "2023-03-12T07:52:11.806Z"
   },
   {
    "duration": 8,
    "start_time": "2023-03-12T07:52:11.836Z"
   },
   {
    "duration": 7,
    "start_time": "2023-03-12T07:52:11.846Z"
   },
   {
    "duration": 9,
    "start_time": "2023-03-12T07:52:15.677Z"
   },
   {
    "duration": 8,
    "start_time": "2023-03-12T07:52:17.860Z"
   },
   {
    "duration": 14,
    "start_time": "2023-03-12T07:52:19.238Z"
   },
   {
    "duration": 9,
    "start_time": "2023-03-12T07:52:28.332Z"
   },
   {
    "duration": 12,
    "start_time": "2023-03-12T07:52:39.326Z"
   },
   {
    "duration": 20,
    "start_time": "2023-03-12T09:01:57.851Z"
   },
   {
    "duration": 10,
    "start_time": "2023-03-12T09:02:23.269Z"
   },
   {
    "duration": 8,
    "start_time": "2023-03-12T09:03:56.932Z"
   },
   {
    "duration": 13,
    "start_time": "2023-03-12T09:04:14.446Z"
   },
   {
    "duration": 96,
    "start_time": "2023-03-12T09:04:29.651Z"
   },
   {
    "duration": 7,
    "start_time": "2023-03-12T09:05:01.265Z"
   },
   {
    "duration": 8,
    "start_time": "2023-03-12T09:05:10.854Z"
   },
   {
    "duration": 16,
    "start_time": "2023-03-12T09:07:09.483Z"
   },
   {
    "duration": 16,
    "start_time": "2023-03-12T09:07:18.687Z"
   },
   {
    "duration": 14,
    "start_time": "2023-03-12T09:07:25.682Z"
   },
   {
    "duration": 12,
    "start_time": "2023-03-12T09:36:35.263Z"
   },
   {
    "duration": 28,
    "start_time": "2023-03-12T09:36:45.319Z"
   },
   {
    "duration": 36,
    "start_time": "2023-03-12T09:37:54.587Z"
   },
   {
    "duration": 410,
    "start_time": "2023-03-12T09:39:09.707Z"
   },
   {
    "duration": 404,
    "start_time": "2023-03-12T09:39:18.787Z"
   },
   {
    "duration": 335,
    "start_time": "2023-03-12T09:39:40.643Z"
   },
   {
    "duration": 174,
    "start_time": "2023-03-12T09:39:46.341Z"
   },
   {
    "duration": 375,
    "start_time": "2023-03-12T09:39:50.360Z"
   },
   {
    "duration": 420,
    "start_time": "2023-03-12T09:40:17.150Z"
   },
   {
    "duration": 413,
    "start_time": "2023-03-12T09:40:38.319Z"
   },
   {
    "duration": 448,
    "start_time": "2023-03-12T09:40:52.561Z"
   },
   {
    "duration": 419,
    "start_time": "2023-03-12T09:41:13.460Z"
   },
   {
    "duration": 15,
    "start_time": "2023-03-12T10:16:38.760Z"
   },
   {
    "duration": 6,
    "start_time": "2023-03-12T10:17:22.474Z"
   },
   {
    "duration": 409,
    "start_time": "2023-03-12T10:20:20.819Z"
   },
   {
    "duration": 420,
    "start_time": "2023-03-12T10:20:41.934Z"
   },
   {
    "duration": 391,
    "start_time": "2023-03-12T10:22:23.972Z"
   },
   {
    "duration": 15,
    "start_time": "2023-03-12T10:22:52.456Z"
   },
   {
    "duration": 8,
    "start_time": "2023-03-12T10:24:25.565Z"
   },
   {
    "duration": 8,
    "start_time": "2023-03-12T10:24:38.532Z"
   },
   {
    "duration": 675,
    "start_time": "2023-03-12T10:24:49.360Z"
   },
   {
    "duration": 84,
    "start_time": "2023-03-12T10:24:50.036Z"
   },
   {
    "duration": 665,
    "start_time": "2023-03-12T10:24:50.122Z"
   },
   {
    "duration": 3,
    "start_time": "2023-03-12T10:24:50.790Z"
   },
   {
    "duration": 16,
    "start_time": "2023-03-12T10:24:50.795Z"
   },
   {
    "duration": 21,
    "start_time": "2023-03-12T10:24:50.813Z"
   },
   {
    "duration": 90,
    "start_time": "2023-03-12T10:24:50.836Z"
   },
   {
    "duration": 12,
    "start_time": "2023-03-12T10:24:50.928Z"
   },
   {
    "duration": 17,
    "start_time": "2023-03-12T10:24:50.942Z"
   },
   {
    "duration": 6,
    "start_time": "2023-03-12T10:24:50.960Z"
   },
   {
    "duration": 23,
    "start_time": "2023-03-12T10:24:50.968Z"
   },
   {
    "duration": 20,
    "start_time": "2023-03-12T10:24:50.993Z"
   },
   {
    "duration": 9,
    "start_time": "2023-03-12T10:24:51.015Z"
   },
   {
    "duration": 11,
    "start_time": "2023-03-12T10:24:51.027Z"
   },
   {
    "duration": 7,
    "start_time": "2023-03-12T10:24:51.039Z"
   },
   {
    "duration": 62,
    "start_time": "2023-03-12T10:24:51.047Z"
   },
   {
    "duration": 475,
    "start_time": "2023-03-12T10:24:51.111Z"
   },
   {
    "duration": 7,
    "start_time": "2023-03-12T10:24:51.589Z"
   },
   {
    "duration": 6,
    "start_time": "2023-03-12T10:24:57.507Z"
   },
   {
    "duration": 13,
    "start_time": "2023-03-12T10:24:59.215Z"
   },
   {
    "duration": 9,
    "start_time": "2023-03-12T10:25:11.291Z"
   },
   {
    "duration": 680,
    "start_time": "2023-03-12T10:25:18.218Z"
   },
   {
    "duration": 84,
    "start_time": "2023-03-12T10:25:18.902Z"
   },
   {
    "duration": 724,
    "start_time": "2023-03-12T10:25:18.987Z"
   },
   {
    "duration": 4,
    "start_time": "2023-03-12T10:25:19.713Z"
   },
   {
    "duration": 12,
    "start_time": "2023-03-12T10:25:19.719Z"
   },
   {
    "duration": 21,
    "start_time": "2023-03-12T10:25:19.733Z"
   },
   {
    "duration": 103,
    "start_time": "2023-03-12T10:25:19.755Z"
   },
   {
    "duration": 10,
    "start_time": "2023-03-12T10:25:19.860Z"
   },
   {
    "duration": 33,
    "start_time": "2023-03-12T10:25:19.872Z"
   },
   {
    "duration": 7,
    "start_time": "2023-03-12T10:25:19.907Z"
   },
   {
    "duration": 9,
    "start_time": "2023-03-12T10:25:19.916Z"
   },
   {
    "duration": 22,
    "start_time": "2023-03-12T10:25:19.927Z"
   },
   {
    "duration": 9,
    "start_time": "2023-03-12T10:25:19.951Z"
   },
   {
    "duration": 44,
    "start_time": "2023-03-12T10:25:19.963Z"
   },
   {
    "duration": 10,
    "start_time": "2023-03-12T10:25:20.009Z"
   },
   {
    "duration": 31,
    "start_time": "2023-03-12T10:25:20.020Z"
   },
   {
    "duration": 526,
    "start_time": "2023-03-12T10:25:20.052Z"
   },
   {
    "duration": 7,
    "start_time": "2023-03-12T10:25:20.580Z"
   },
   {
    "duration": 6,
    "start_time": "2023-03-12T10:25:25.156Z"
   },
   {
    "duration": 18,
    "start_time": "2023-03-12T10:25:28.882Z"
   },
   {
    "duration": 8,
    "start_time": "2023-03-12T10:26:00.103Z"
   },
   {
    "duration": 98,
    "start_time": "2023-03-12T10:26:02.407Z"
   },
   {
    "duration": 3,
    "start_time": "2023-03-12T10:26:19.006Z"
   },
   {
    "duration": 101,
    "start_time": "2023-03-12T10:26:19.012Z"
   },
   {
    "duration": 742,
    "start_time": "2023-03-12T10:26:19.115Z"
   },
   {
    "duration": 4,
    "start_time": "2023-03-12T10:26:19.859Z"
   },
   {
    "duration": 19,
    "start_time": "2023-03-12T10:26:19.866Z"
   },
   {
    "duration": 25,
    "start_time": "2023-03-12T10:26:19.887Z"
   },
   {
    "duration": 114,
    "start_time": "2023-03-12T10:26:19.914Z"
   },
   {
    "duration": 18,
    "start_time": "2023-03-12T10:26:20.030Z"
   },
   {
    "duration": 38,
    "start_time": "2023-03-12T10:26:20.050Z"
   },
   {
    "duration": 36,
    "start_time": "2023-03-12T10:26:20.090Z"
   },
   {
    "duration": 31,
    "start_time": "2023-03-12T10:26:20.128Z"
   },
   {
    "duration": 30,
    "start_time": "2023-03-12T10:26:20.161Z"
   },
   {
    "duration": 14,
    "start_time": "2023-03-12T10:26:20.194Z"
   },
   {
    "duration": 21,
    "start_time": "2023-03-12T10:26:20.211Z"
   },
   {
    "duration": 9,
    "start_time": "2023-03-12T10:26:20.234Z"
   },
   {
    "duration": 46,
    "start_time": "2023-03-12T10:26:20.245Z"
   },
   {
    "duration": 561,
    "start_time": "2023-03-12T10:26:20.293Z"
   },
   {
    "duration": 8,
    "start_time": "2023-03-12T10:26:20.857Z"
   },
   {
    "duration": 9,
    "start_time": "2023-03-12T10:26:27.106Z"
   },
   {
    "duration": 9,
    "start_time": "2023-03-12T10:26:32.665Z"
   },
   {
    "duration": 711,
    "start_time": "2023-03-12T10:26:44.972Z"
   },
   {
    "duration": 93,
    "start_time": "2023-03-12T10:26:45.685Z"
   },
   {
    "duration": 857,
    "start_time": "2023-03-12T10:26:45.780Z"
   },
   {
    "duration": 4,
    "start_time": "2023-03-12T10:26:46.639Z"
   },
   {
    "duration": 13,
    "start_time": "2023-03-12T10:26:46.646Z"
   },
   {
    "duration": 35,
    "start_time": "2023-03-12T10:26:46.661Z"
   },
   {
    "duration": 93,
    "start_time": "2023-03-12T10:26:46.699Z"
   },
   {
    "duration": 18,
    "start_time": "2023-03-12T10:26:46.793Z"
   },
   {
    "duration": 25,
    "start_time": "2023-03-12T10:26:46.812Z"
   },
   {
    "duration": 18,
    "start_time": "2023-03-12T10:26:46.839Z"
   },
   {
    "duration": 11,
    "start_time": "2023-03-12T10:26:46.858Z"
   },
   {
    "duration": 40,
    "start_time": "2023-03-12T10:26:46.871Z"
   },
   {
    "duration": 8,
    "start_time": "2023-03-12T10:26:46.913Z"
   },
   {
    "duration": 14,
    "start_time": "2023-03-12T10:26:46.925Z"
   },
   {
    "duration": 9,
    "start_time": "2023-03-12T10:26:46.941Z"
   },
   {
    "duration": 78,
    "start_time": "2023-03-12T10:26:46.952Z"
   },
   {
    "duration": 529,
    "start_time": "2023-03-12T10:26:47.033Z"
   },
   {
    "duration": 7,
    "start_time": "2023-03-12T10:26:47.564Z"
   },
   {
    "duration": 20,
    "start_time": "2023-03-12T10:26:47.572Z"
   },
   {
    "duration": 21,
    "start_time": "2023-03-12T10:28:03.238Z"
   },
   {
    "duration": 383,
    "start_time": "2023-03-12T10:28:16.862Z"
   },
   {
    "duration": 331,
    "start_time": "2023-03-12T10:28:27.677Z"
   },
   {
    "duration": 23,
    "start_time": "2023-03-12T10:57:21.320Z"
   },
   {
    "duration": 4,
    "start_time": "2023-03-12T10:57:28.264Z"
   },
   {
    "duration": 89,
    "start_time": "2023-03-12T10:57:28.270Z"
   },
   {
    "duration": 742,
    "start_time": "2023-03-12T10:57:28.361Z"
   },
   {
    "duration": 4,
    "start_time": "2023-03-12T10:57:29.107Z"
   },
   {
    "duration": 23,
    "start_time": "2023-03-12T10:57:29.113Z"
   },
   {
    "duration": 26,
    "start_time": "2023-03-12T10:57:29.138Z"
   },
   {
    "duration": 79,
    "start_time": "2023-03-12T10:57:29.166Z"
   },
   {
    "duration": 12,
    "start_time": "2023-03-12T10:57:29.246Z"
   },
   {
    "duration": 19,
    "start_time": "2023-03-12T10:57:29.260Z"
   },
   {
    "duration": 14,
    "start_time": "2023-03-12T10:57:29.293Z"
   },
   {
    "duration": 11,
    "start_time": "2023-03-12T10:57:29.310Z"
   },
   {
    "duration": 21,
    "start_time": "2023-03-12T10:57:31.125Z"
   },
   {
    "duration": 41,
    "start_time": "2023-03-12T10:57:52.230Z"
   },
   {
    "duration": 17,
    "start_time": "2023-03-12T10:58:25.060Z"
   },
   {
    "duration": 13,
    "start_time": "2023-03-12T10:58:38.303Z"
   },
   {
    "duration": 74,
    "start_time": "2023-03-12T10:59:26.601Z"
   },
   {
    "duration": 81,
    "start_time": "2023-03-12T10:59:33.297Z"
   },
   {
    "duration": 15,
    "start_time": "2023-03-12T11:00:03.639Z"
   },
   {
    "duration": 13,
    "start_time": "2023-03-12T11:00:22.163Z"
   },
   {
    "duration": 15,
    "start_time": "2023-03-12T11:00:39.829Z"
   },
   {
    "duration": 68,
    "start_time": "2023-03-12T11:00:49.236Z"
   },
   {
    "duration": 13,
    "start_time": "2023-03-12T11:19:22.508Z"
   },
   {
    "duration": 54,
    "start_time": "2023-03-12T14:36:32.789Z"
   },
   {
    "duration": 751,
    "start_time": "2023-03-12T14:36:36.080Z"
   },
   {
    "duration": 222,
    "start_time": "2023-03-12T14:36:36.833Z"
   },
   {
    "duration": 619,
    "start_time": "2023-03-12T14:36:37.057Z"
   },
   {
    "duration": 3,
    "start_time": "2023-03-12T14:36:37.678Z"
   },
   {
    "duration": 14,
    "start_time": "2023-03-12T14:36:37.683Z"
   },
   {
    "duration": 16,
    "start_time": "2023-03-12T14:36:37.699Z"
   },
   {
    "duration": 88,
    "start_time": "2023-03-12T14:36:37.717Z"
   },
   {
    "duration": 10,
    "start_time": "2023-03-12T14:36:37.807Z"
   },
   {
    "duration": 18,
    "start_time": "2023-03-12T14:36:37.819Z"
   },
   {
    "duration": 7,
    "start_time": "2023-03-12T14:36:37.838Z"
   },
   {
    "duration": 24,
    "start_time": "2023-03-12T14:36:37.846Z"
   },
   {
    "duration": 19,
    "start_time": "2023-03-12T14:36:37.872Z"
   },
   {
    "duration": 7,
    "start_time": "2023-03-12T14:36:37.892Z"
   },
   {
    "duration": 11,
    "start_time": "2023-03-12T14:36:37.901Z"
   },
   {
    "duration": 7,
    "start_time": "2023-03-12T14:36:37.913Z"
   },
   {
    "duration": 59,
    "start_time": "2023-03-12T14:36:37.921Z"
   },
   {
    "duration": 468,
    "start_time": "2023-03-12T14:36:37.981Z"
   },
   {
    "duration": 6,
    "start_time": "2023-03-12T14:36:38.450Z"
   },
   {
    "duration": 315,
    "start_time": "2023-03-12T14:36:38.457Z"
   },
   {
    "duration": 147,
    "start_time": "2023-03-12T14:36:38.774Z"
   },
   {
    "duration": 108,
    "start_time": "2023-03-12T14:36:59.241Z"
   },
   {
    "duration": 115,
    "start_time": "2023-03-12T14:37:23.112Z"
   },
   {
    "duration": 120,
    "start_time": "2023-03-12T14:37:31.165Z"
   },
   {
    "duration": 335,
    "start_time": "2023-03-12T14:38:41.130Z"
   },
   {
    "duration": 26,
    "start_time": "2023-03-12T14:39:37.538Z"
   },
   {
    "duration": 307,
    "start_time": "2023-03-12T14:39:54.716Z"
   },
   {
    "duration": 279,
    "start_time": "2023-03-12T14:40:41.809Z"
   },
   {
    "duration": 12,
    "start_time": "2023-03-12T14:43:12.696Z"
   },
   {
    "duration": 12,
    "start_time": "2023-03-12T14:43:32.913Z"
   },
   {
    "duration": 181,
    "start_time": "2023-03-12T14:47:48.472Z"
   },
   {
    "duration": 113,
    "start_time": "2023-03-12T14:50:46.198Z"
   },
   {
    "duration": 115,
    "start_time": "2023-03-12T14:51:03.298Z"
   },
   {
    "duration": 98,
    "start_time": "2023-03-12T14:51:13.159Z"
   },
   {
    "duration": 111,
    "start_time": "2023-03-12T14:52:09.569Z"
   },
   {
    "duration": 53,
    "start_time": "2023-03-12T18:19:30.721Z"
   },
   {
    "duration": 810,
    "start_time": "2023-03-12T18:19:35.947Z"
   },
   {
    "duration": 453,
    "start_time": "2023-03-12T18:19:36.760Z"
   },
   {
    "duration": 731,
    "start_time": "2023-03-12T18:19:37.215Z"
   },
   {
    "duration": 3,
    "start_time": "2023-03-12T18:19:37.948Z"
   },
   {
    "duration": 28,
    "start_time": "2023-03-12T18:19:37.954Z"
   },
   {
    "duration": 19,
    "start_time": "2023-03-12T18:19:37.984Z"
   },
   {
    "duration": 83,
    "start_time": "2023-03-12T18:19:38.005Z"
   },
   {
    "duration": 11,
    "start_time": "2023-03-12T18:19:38.089Z"
   },
   {
    "duration": 19,
    "start_time": "2023-03-12T18:19:38.102Z"
   },
   {
    "duration": 7,
    "start_time": "2023-03-12T18:19:38.141Z"
   },
   {
    "duration": 10,
    "start_time": "2023-03-12T18:19:38.150Z"
   },
   {
    "duration": 26,
    "start_time": "2023-03-12T18:19:38.162Z"
   },
   {
    "duration": 9,
    "start_time": "2023-03-12T18:19:38.190Z"
   },
   {
    "duration": 14,
    "start_time": "2023-03-12T18:19:38.202Z"
   },
   {
    "duration": 31,
    "start_time": "2023-03-12T18:19:38.218Z"
   },
   {
    "duration": 26,
    "start_time": "2023-03-12T18:19:38.251Z"
   },
   {
    "duration": 483,
    "start_time": "2023-03-12T18:19:38.279Z"
   },
   {
    "duration": 6,
    "start_time": "2023-03-12T18:19:38.764Z"
   },
   {
    "duration": 369,
    "start_time": "2023-03-12T18:19:38.772Z"
   },
   {
    "duration": 153,
    "start_time": "2023-03-12T18:19:39.142Z"
   },
   {
    "duration": 108,
    "start_time": "2023-03-12T18:19:49.301Z"
   },
   {
    "duration": 16,
    "start_time": "2023-03-12T18:23:40.919Z"
   },
   {
    "duration": 17,
    "start_time": "2023-03-12T18:23:52.684Z"
   },
   {
    "duration": 30,
    "start_time": "2023-03-12T18:24:03.583Z"
   },
   {
    "duration": 139,
    "start_time": "2023-03-12T18:29:17.129Z"
   },
   {
    "duration": 2150,
    "start_time": "2023-03-12T18:29:34.719Z"
   },
   {
    "duration": 2148,
    "start_time": "2023-03-12T18:30:08.372Z"
   },
   {
    "duration": 15,
    "start_time": "2023-03-12T18:30:54.133Z"
   },
   {
    "duration": 8,
    "start_time": "2023-03-12T18:30:59.394Z"
   },
   {
    "duration": 18,
    "start_time": "2023-03-12T18:32:05.775Z"
   },
   {
    "duration": 18,
    "start_time": "2023-03-12T18:32:43.950Z"
   },
   {
    "duration": 17,
    "start_time": "2023-03-12T18:32:54.515Z"
   },
   {
    "duration": 33,
    "start_time": "2023-03-12T18:33:31.245Z"
   },
   {
    "duration": 15,
    "start_time": "2023-03-12T18:33:54.573Z"
   },
   {
    "duration": 175,
    "start_time": "2023-03-12T18:34:21.571Z"
   },
   {
    "duration": 14,
    "start_time": "2023-03-12T18:34:48.007Z"
   },
   {
    "duration": 53,
    "start_time": "2023-03-12T18:37:06.690Z"
   },
   {
    "duration": 22,
    "start_time": "2023-03-12T18:37:14.714Z"
   },
   {
    "duration": 3,
    "start_time": "2023-03-12T18:37:46.528Z"
   },
   {
    "duration": 75,
    "start_time": "2023-03-12T18:37:46.532Z"
   },
   {
    "duration": 628,
    "start_time": "2023-03-12T18:37:46.608Z"
   },
   {
    "duration": 3,
    "start_time": "2023-03-12T18:37:47.240Z"
   },
   {
    "duration": 10,
    "start_time": "2023-03-12T18:37:47.245Z"
   },
   {
    "duration": 17,
    "start_time": "2023-03-12T18:37:47.257Z"
   },
   {
    "duration": 94,
    "start_time": "2023-03-12T18:37:47.276Z"
   },
   {
    "duration": 11,
    "start_time": "2023-03-12T18:37:47.372Z"
   },
   {
    "duration": 16,
    "start_time": "2023-03-12T18:37:47.385Z"
   },
   {
    "duration": 7,
    "start_time": "2023-03-12T18:37:47.402Z"
   },
   {
    "duration": 33,
    "start_time": "2023-03-12T18:37:47.410Z"
   },
   {
    "duration": 20,
    "start_time": "2023-03-12T18:37:47.445Z"
   },
   {
    "duration": 13,
    "start_time": "2023-03-12T18:37:47.467Z"
   },
   {
    "duration": 12,
    "start_time": "2023-03-12T18:37:47.483Z"
   },
   {
    "duration": 13,
    "start_time": "2023-03-12T18:37:47.497Z"
   },
   {
    "duration": 55,
    "start_time": "2023-03-12T18:37:47.512Z"
   },
   {
    "duration": 475,
    "start_time": "2023-03-12T18:37:47.569Z"
   },
   {
    "duration": 7,
    "start_time": "2023-03-12T18:37:48.046Z"
   },
   {
    "duration": 353,
    "start_time": "2023-03-12T18:37:48.055Z"
   },
   {
    "duration": 36,
    "start_time": "2023-03-12T18:37:48.410Z"
   },
   {
    "duration": 383,
    "start_time": "2023-03-12T18:45:47.580Z"
   },
   {
    "duration": 14,
    "start_time": "2023-03-12T18:46:33.080Z"
   },
   {
    "duration": 179,
    "start_time": "2023-03-12T19:01:29.448Z"
   },
   {
    "duration": 207,
    "start_time": "2023-03-12T19:02:00.034Z"
   },
   {
    "duration": 18,
    "start_time": "2023-03-12T19:03:29.925Z"
   },
   {
    "duration": 231,
    "start_time": "2023-03-12T19:03:41.193Z"
   },
   {
    "duration": 185,
    "start_time": "2023-03-12T19:05:30.304Z"
   },
   {
    "duration": 203,
    "start_time": "2023-03-12T19:06:28.089Z"
   },
   {
    "duration": 134,
    "start_time": "2023-03-12T19:06:35.021Z"
   },
   {
    "duration": 144,
    "start_time": "2023-03-12T19:06:47.051Z"
   },
   {
    "duration": 109,
    "start_time": "2023-03-12T19:06:56.855Z"
   },
   {
    "duration": 112,
    "start_time": "2023-03-12T19:06:59.398Z"
   },
   {
    "duration": 790,
    "start_time": "2023-03-13T09:23:37.900Z"
   },
   {
    "duration": 507,
    "start_time": "2023-03-13T09:23:38.692Z"
   },
   {
    "duration": 661,
    "start_time": "2023-03-13T09:23:39.203Z"
   },
   {
    "duration": 3,
    "start_time": "2023-03-13T09:23:39.866Z"
   },
   {
    "duration": 10,
    "start_time": "2023-03-13T09:23:39.872Z"
   },
   {
    "duration": 17,
    "start_time": "2023-03-13T09:23:39.884Z"
   },
   {
    "duration": 96,
    "start_time": "2023-03-13T09:23:39.904Z"
   },
   {
    "duration": 11,
    "start_time": "2023-03-13T09:23:40.002Z"
   },
   {
    "duration": 16,
    "start_time": "2023-03-13T09:23:40.015Z"
   },
   {
    "duration": 24,
    "start_time": "2023-03-13T09:23:40.033Z"
   },
   {
    "duration": 8,
    "start_time": "2023-03-13T09:23:40.059Z"
   },
   {
    "duration": 23,
    "start_time": "2023-03-13T09:23:40.069Z"
   },
   {
    "duration": 9,
    "start_time": "2023-03-13T09:23:40.094Z"
   },
   {
    "duration": 12,
    "start_time": "2023-03-13T09:23:40.107Z"
   },
   {
    "duration": 40,
    "start_time": "2023-03-13T09:23:40.121Z"
   },
   {
    "duration": 33,
    "start_time": "2023-03-13T09:23:40.164Z"
   },
   {
    "duration": 496,
    "start_time": "2023-03-13T09:23:40.199Z"
   },
   {
    "duration": 7,
    "start_time": "2023-03-13T09:23:40.697Z"
   },
   {
    "duration": 22,
    "start_time": "2023-03-13T09:23:43.790Z"
   },
   {
    "duration": 24,
    "start_time": "2023-03-13T09:24:01.494Z"
   },
   {
    "duration": 9,
    "start_time": "2023-03-13T09:26:12.745Z"
   },
   {
    "duration": 24,
    "start_time": "2023-03-13T09:26:36.064Z"
   },
   {
    "duration": 7,
    "start_time": "2023-03-13T09:28:52.249Z"
   },
   {
    "duration": 20,
    "start_time": "2023-03-13T09:30:10.522Z"
   },
   {
    "duration": 32,
    "start_time": "2023-03-13T09:30:14.010Z"
   },
   {
    "duration": 351,
    "start_time": "2023-03-13T09:30:19.141Z"
   },
   {
    "duration": 381,
    "start_time": "2023-03-13T09:30:34.647Z"
   },
   {
    "duration": 635,
    "start_time": "2023-03-13T09:30:46.612Z"
   },
   {
    "duration": 77,
    "start_time": "2023-03-13T09:30:47.249Z"
   },
   {
    "duration": 715,
    "start_time": "2023-03-13T09:30:47.328Z"
   },
   {
    "duration": 8,
    "start_time": "2023-03-13T09:30:48.045Z"
   },
   {
    "duration": 12,
    "start_time": "2023-03-13T09:30:48.056Z"
   },
   {
    "duration": 18,
    "start_time": "2023-03-13T09:30:48.069Z"
   },
   {
    "duration": 100,
    "start_time": "2023-03-13T09:30:48.089Z"
   },
   {
    "duration": 12,
    "start_time": "2023-03-13T09:30:48.191Z"
   },
   {
    "duration": 14,
    "start_time": "2023-03-13T09:30:48.205Z"
   },
   {
    "duration": 7,
    "start_time": "2023-03-13T09:30:48.221Z"
   },
   {
    "duration": 28,
    "start_time": "2023-03-13T09:30:48.230Z"
   },
   {
    "duration": 22,
    "start_time": "2023-03-13T09:30:48.259Z"
   },
   {
    "duration": 8,
    "start_time": "2023-03-13T09:30:48.283Z"
   },
   {
    "duration": 19,
    "start_time": "2023-03-13T09:30:48.294Z"
   },
   {
    "duration": 19,
    "start_time": "2023-03-13T09:30:48.315Z"
   },
   {
    "duration": 41,
    "start_time": "2023-03-13T09:30:48.336Z"
   },
   {
    "duration": 469,
    "start_time": "2023-03-13T09:30:59.622Z"
   },
   {
    "duration": 394,
    "start_time": "2023-03-13T09:31:25.896Z"
   },
   {
    "duration": 615,
    "start_time": "2023-03-13T09:32:19.296Z"
   },
   {
    "duration": 79,
    "start_time": "2023-03-13T09:32:19.913Z"
   },
   {
    "duration": 758,
    "start_time": "2023-03-13T09:32:19.993Z"
   },
   {
    "duration": 4,
    "start_time": "2023-03-13T09:32:20.752Z"
   },
   {
    "duration": 26,
    "start_time": "2023-03-13T09:32:20.758Z"
   },
   {
    "duration": 17,
    "start_time": "2023-03-13T09:32:20.785Z"
   },
   {
    "duration": 79,
    "start_time": "2023-03-13T09:32:20.803Z"
   },
   {
    "duration": 11,
    "start_time": "2023-03-13T09:32:20.883Z"
   },
   {
    "duration": 22,
    "start_time": "2023-03-13T09:32:20.895Z"
   },
   {
    "duration": 7,
    "start_time": "2023-03-13T09:32:20.919Z"
   },
   {
    "duration": 27,
    "start_time": "2023-03-13T09:32:20.928Z"
   },
   {
    "duration": 28,
    "start_time": "2023-03-13T09:32:23.213Z"
   },
   {
    "duration": 11,
    "start_time": "2023-03-13T09:32:50.205Z"
   },
   {
    "duration": 14,
    "start_time": "2023-03-13T09:32:59.428Z"
   },
   {
    "duration": 8,
    "start_time": "2023-03-13T09:33:18.713Z"
   },
   {
    "duration": 86,
    "start_time": "2023-03-13T09:33:34.842Z"
   },
   {
    "duration": 6,
    "start_time": "2023-03-13T09:33:43.949Z"
   },
   {
    "duration": 8,
    "start_time": "2023-03-13T09:33:49.501Z"
   },
   {
    "duration": 35,
    "start_time": "2023-03-13T09:34:38.702Z"
   },
   {
    "duration": 27,
    "start_time": "2023-03-13T09:34:48.888Z"
   },
   {
    "duration": 484,
    "start_time": "2023-03-13T09:34:56.900Z"
   },
   {
    "duration": 17,
    "start_time": "2023-03-13T09:42:38.133Z"
   },
   {
    "duration": 16,
    "start_time": "2023-03-13T09:42:48.274Z"
   },
   {
    "duration": 13,
    "start_time": "2023-03-13T09:44:39.811Z"
   },
   {
    "duration": 14,
    "start_time": "2023-03-13T09:45:57.638Z"
   },
   {
    "duration": 17,
    "start_time": "2023-03-13T09:46:03.142Z"
   },
   {
    "duration": 368,
    "start_time": "2023-03-13T09:46:38.651Z"
   },
   {
    "duration": 320,
    "start_time": "2023-03-13T09:46:46.346Z"
   },
   {
    "duration": 301,
    "start_time": "2023-03-13T09:46:52.138Z"
   },
   {
    "duration": 15,
    "start_time": "2023-03-13T09:47:53.417Z"
   },
   {
    "duration": 311,
    "start_time": "2023-03-13T09:48:00.309Z"
   },
   {
    "duration": 141,
    "start_time": "2023-03-13T09:53:51.623Z"
   },
   {
    "duration": 136,
    "start_time": "2023-03-13T09:53:55.399Z"
   },
   {
    "duration": 133,
    "start_time": "2023-03-13T09:55:13.650Z"
   },
   {
    "duration": 13,
    "start_time": "2023-03-13T09:56:11.778Z"
   },
   {
    "duration": 590,
    "start_time": "2023-03-13T09:56:26.808Z"
   },
   {
    "duration": 45,
    "start_time": "2023-03-13T09:56:36.355Z"
   },
   {
    "duration": 18,
    "start_time": "2023-03-13T09:56:39.125Z"
   },
   {
    "duration": 124,
    "start_time": "2023-03-13T09:59:30.159Z"
   },
   {
    "duration": 122,
    "start_time": "2023-03-13T09:59:54.674Z"
   },
   {
    "duration": 110,
    "start_time": "2023-03-13T10:00:05.698Z"
   },
   {
    "duration": 185,
    "start_time": "2023-03-13T10:04:08.252Z"
   },
   {
    "duration": 134,
    "start_time": "2023-03-13T10:04:26.126Z"
   },
   {
    "duration": 156,
    "start_time": "2023-03-13T10:04:35.809Z"
   },
   {
    "duration": 1629,
    "start_time": "2023-03-13T15:57:02.521Z"
   },
   {
    "duration": 208,
    "start_time": "2023-03-13T15:57:04.153Z"
   },
   {
    "duration": 817,
    "start_time": "2023-03-13T15:57:04.363Z"
   },
   {
    "duration": 8,
    "start_time": "2023-03-13T15:57:05.184Z"
   },
   {
    "duration": 25,
    "start_time": "2023-03-13T15:57:05.207Z"
   },
   {
    "duration": 32,
    "start_time": "2023-03-13T15:57:05.235Z"
   },
   {
    "duration": 134,
    "start_time": "2023-03-13T15:57:05.270Z"
   },
   {
    "duration": 16,
    "start_time": "2023-03-13T15:57:05.407Z"
   },
   {
    "duration": 20,
    "start_time": "2023-03-13T15:57:05.427Z"
   },
   {
    "duration": 29,
    "start_time": "2023-03-13T15:57:05.450Z"
   },
   {
    "duration": 64,
    "start_time": "2023-03-13T15:57:05.480Z"
   },
   {
    "duration": 64,
    "start_time": "2023-03-13T15:57:05.546Z"
   },
   {
    "duration": 27,
    "start_time": "2023-03-13T15:57:05.613Z"
   },
   {
    "duration": 24,
    "start_time": "2023-03-13T15:57:05.644Z"
   },
   {
    "duration": 22,
    "start_time": "2023-03-13T15:57:05.670Z"
   },
   {
    "duration": 35,
    "start_time": "2023-03-13T15:57:05.694Z"
   },
   {
    "duration": 560,
    "start_time": "2023-03-13T15:57:05.732Z"
   },
   {
    "duration": 30,
    "start_time": "2023-03-13T15:57:06.294Z"
   },
   {
    "duration": 52,
    "start_time": "2023-03-13T15:57:06.326Z"
   },
   {
    "duration": 450,
    "start_time": "2023-03-13T15:57:06.380Z"
   },
   {
    "duration": 363,
    "start_time": "2023-03-13T15:57:06.832Z"
   },
   {
    "duration": 0,
    "start_time": "2023-03-13T15:57:07.197Z"
   },
   {
    "duration": 244,
    "start_time": "2023-03-13T15:57:57.687Z"
   },
   {
    "duration": 211,
    "start_time": "2023-03-13T15:58:14.510Z"
   },
   {
    "duration": 139,
    "start_time": "2023-03-13T15:58:29.123Z"
   },
   {
    "duration": 188,
    "start_time": "2023-03-13T15:58:43.818Z"
   },
   {
    "duration": 154,
    "start_time": "2023-03-13T15:58:50.979Z"
   },
   {
    "duration": 138,
    "start_time": "2023-03-13T15:58:59.335Z"
   },
   {
    "duration": 164,
    "start_time": "2023-03-13T15:59:05.511Z"
   },
   {
    "duration": 130,
    "start_time": "2023-03-13T15:59:24.112Z"
   },
   {
    "duration": 148,
    "start_time": "2023-03-13T15:59:29.803Z"
   },
   {
    "duration": 36,
    "start_time": "2023-03-13T16:00:34.217Z"
   },
   {
    "duration": 31,
    "start_time": "2023-03-13T16:01:33.323Z"
   },
   {
    "duration": 51,
    "start_time": "2023-03-13T16:01:42.496Z"
   },
   {
    "duration": 43,
    "start_time": "2023-03-13T16:02:00.533Z"
   },
   {
    "duration": 4,
    "start_time": "2023-03-13T16:02:03.111Z"
   },
   {
    "duration": 122,
    "start_time": "2023-03-13T16:02:03.117Z"
   },
   {
    "duration": 866,
    "start_time": "2023-03-13T16:02:03.241Z"
   },
   {
    "duration": 6,
    "start_time": "2023-03-13T16:02:04.109Z"
   },
   {
    "duration": 61,
    "start_time": "2023-03-13T16:02:04.118Z"
   },
   {
    "duration": 75,
    "start_time": "2023-03-13T16:02:04.181Z"
   },
   {
    "duration": 274,
    "start_time": "2023-03-13T16:02:04.259Z"
   },
   {
    "duration": 12,
    "start_time": "2023-03-13T16:02:04.535Z"
   },
   {
    "duration": 36,
    "start_time": "2023-03-13T16:02:04.548Z"
   },
   {
    "duration": 54,
    "start_time": "2023-03-13T16:02:04.595Z"
   },
   {
    "duration": 22,
    "start_time": "2023-03-13T16:02:04.651Z"
   },
   {
    "duration": 61,
    "start_time": "2023-03-13T16:02:04.675Z"
   },
   {
    "duration": 17,
    "start_time": "2023-03-13T16:02:04.738Z"
   },
   {
    "duration": 12,
    "start_time": "2023-03-13T16:02:04.758Z"
   },
   {
    "duration": 12,
    "start_time": "2023-03-13T16:02:04.772Z"
   },
   {
    "duration": 72,
    "start_time": "2023-03-13T16:02:04.790Z"
   },
   {
    "duration": 511,
    "start_time": "2023-03-13T16:02:04.863Z"
   },
   {
    "duration": 45,
    "start_time": "2023-03-13T16:02:05.376Z"
   },
   {
    "duration": 23,
    "start_time": "2023-03-13T16:02:05.431Z"
   },
   {
    "duration": 460,
    "start_time": "2023-03-13T16:02:05.457Z"
   },
   {
    "duration": 44,
    "start_time": "2023-03-13T16:02:05.919Z"
   },
   {
    "duration": 1,
    "start_time": "2023-03-13T16:02:05.995Z"
   },
   {
    "duration": 145,
    "start_time": "2023-03-13T16:02:09.809Z"
   },
   {
    "duration": 209,
    "start_time": "2023-03-13T16:02:22.743Z"
   },
   {
    "duration": 150,
    "start_time": "2023-03-13T16:05:20.011Z"
   },
   {
    "duration": 180,
    "start_time": "2023-03-13T16:05:35.046Z"
   },
   {
    "duration": 173,
    "start_time": "2023-03-13T16:06:28.303Z"
   },
   {
    "duration": 243,
    "start_time": "2023-03-13T16:06:40.899Z"
   },
   {
    "duration": 180,
    "start_time": "2023-03-13T16:06:45.508Z"
   },
   {
    "duration": 180,
    "start_time": "2023-03-13T16:06:55.500Z"
   },
   {
    "duration": 323,
    "start_time": "2023-03-13T16:10:51.532Z"
   },
   {
    "duration": 157,
    "start_time": "2023-03-13T16:11:27.810Z"
   },
   {
    "duration": 136,
    "start_time": "2023-03-13T16:30:06.400Z"
   },
   {
    "duration": 4,
    "start_time": "2023-03-13T16:30:49.994Z"
   },
   {
    "duration": 16,
    "start_time": "2023-03-13T16:30:55.320Z"
   },
   {
    "duration": 13,
    "start_time": "2023-03-13T16:31:07.804Z"
   },
   {
    "duration": 180,
    "start_time": "2023-03-13T16:31:26.076Z"
   },
   {
    "duration": 171,
    "start_time": "2023-03-13T16:31:31.172Z"
   },
   {
    "duration": 130,
    "start_time": "2023-03-13T16:31:42.533Z"
   },
   {
    "duration": 159,
    "start_time": "2023-03-13T16:31:51.720Z"
   },
   {
    "duration": 179,
    "start_time": "2023-03-13T16:32:17.988Z"
   },
   {
    "duration": 182,
    "start_time": "2023-03-13T16:32:45.457Z"
   },
   {
    "duration": 150,
    "start_time": "2023-03-13T16:37:20.422Z"
   },
   {
    "duration": 206,
    "start_time": "2023-03-13T16:37:26.061Z"
   },
   {
    "duration": 169,
    "start_time": "2023-03-13T16:37:34.129Z"
   },
   {
    "duration": 249,
    "start_time": "2023-03-13T16:37:44.993Z"
   },
   {
    "duration": 131,
    "start_time": "2023-03-13T16:38:07.911Z"
   },
   {
    "duration": 160,
    "start_time": "2023-03-13T16:38:13.492Z"
   },
   {
    "duration": 156,
    "start_time": "2023-03-13T16:39:39.585Z"
   },
   {
    "duration": 190,
    "start_time": "2023-03-13T16:39:52.827Z"
   },
   {
    "duration": 193,
    "start_time": "2023-03-13T16:39:55.492Z"
   },
   {
    "duration": 173,
    "start_time": "2023-03-13T16:39:57.811Z"
   },
   {
    "duration": 276,
    "start_time": "2023-03-13T17:54:22.913Z"
   },
   {
    "duration": 133,
    "start_time": "2023-03-13T17:55:01.403Z"
   },
   {
    "duration": 156,
    "start_time": "2023-03-13T17:55:16.328Z"
   },
   {
    "duration": 160,
    "start_time": "2023-03-13T17:55:36.906Z"
   },
   {
    "duration": 256,
    "start_time": "2023-03-13T17:57:38.519Z"
   },
   {
    "duration": 155,
    "start_time": "2023-03-13T17:57:47.006Z"
   },
   {
    "duration": 142,
    "start_time": "2023-03-13T17:57:54.722Z"
   },
   {
    "duration": 152,
    "start_time": "2023-03-13T17:58:11.607Z"
   },
   {
    "duration": 142,
    "start_time": "2023-03-13T17:58:17.043Z"
   },
   {
    "duration": 208,
    "start_time": "2023-03-13T17:58:52.101Z"
   },
   {
    "duration": 193,
    "start_time": "2023-03-13T17:59:09.927Z"
   },
   {
    "duration": 186,
    "start_time": "2023-03-13T17:59:13.439Z"
   },
   {
    "duration": 219,
    "start_time": "2023-03-13T17:59:25.963Z"
   },
   {
    "duration": 3,
    "start_time": "2023-03-13T18:00:19.299Z"
   },
   {
    "duration": 185,
    "start_time": "2023-03-13T18:00:27.642Z"
   },
   {
    "duration": 208,
    "start_time": "2023-03-13T18:00:32.736Z"
   },
   {
    "duration": 374,
    "start_time": "2023-03-13T18:01:06.823Z"
   },
   {
    "duration": 153,
    "start_time": "2023-03-13T18:03:27.318Z"
   },
   {
    "duration": 197,
    "start_time": "2023-03-13T18:03:34.610Z"
   },
   {
    "duration": 225,
    "start_time": "2023-03-13T18:03:39.700Z"
   },
   {
    "duration": 193,
    "start_time": "2023-03-13T18:03:54.251Z"
   },
   {
    "duration": 16,
    "start_time": "2023-03-13T18:03:59.803Z"
   },
   {
    "duration": 17,
    "start_time": "2023-03-13T18:04:05.851Z"
   },
   {
    "duration": 168,
    "start_time": "2023-03-13T18:04:09.906Z"
   },
   {
    "duration": 180,
    "start_time": "2023-03-13T18:04:11.630Z"
   },
   {
    "duration": 214,
    "start_time": "2023-03-13T18:05:41.818Z"
   },
   {
    "duration": 246,
    "start_time": "2023-03-13T18:05:47.632Z"
   },
   {
    "duration": 214,
    "start_time": "2023-03-13T18:06:35.236Z"
   },
   {
    "duration": 200,
    "start_time": "2023-03-13T18:06:39.610Z"
   },
   {
    "duration": 351,
    "start_time": "2023-03-13T18:06:44.404Z"
   },
   {
    "duration": 190,
    "start_time": "2023-03-13T18:06:51.120Z"
   },
   {
    "duration": 95,
    "start_time": "2023-03-13T18:07:01.257Z"
   },
   {
    "duration": 93,
    "start_time": "2023-03-13T18:07:06.301Z"
   },
   {
    "duration": 173,
    "start_time": "2023-03-13T18:07:12.400Z"
   },
   {
    "duration": 184,
    "start_time": "2023-03-13T18:07:19.651Z"
   },
   {
    "duration": 1219,
    "start_time": "2023-03-13T18:08:08.479Z"
   },
   {
    "duration": 90,
    "start_time": "2023-03-13T18:08:09.702Z"
   },
   {
    "duration": 782,
    "start_time": "2023-03-13T18:08:09.794Z"
   },
   {
    "duration": 12,
    "start_time": "2023-03-13T18:08:10.578Z"
   },
   {
    "duration": 22,
    "start_time": "2023-03-13T18:08:10.595Z"
   },
   {
    "duration": 23,
    "start_time": "2023-03-13T18:08:10.619Z"
   },
   {
    "duration": 88,
    "start_time": "2023-03-13T18:08:10.643Z"
   },
   {
    "duration": 11,
    "start_time": "2023-03-13T18:08:10.734Z"
   },
   {
    "duration": 35,
    "start_time": "2023-03-13T18:08:10.748Z"
   },
   {
    "duration": 16,
    "start_time": "2023-03-13T18:08:10.786Z"
   },
   {
    "duration": 33,
    "start_time": "2023-03-13T18:08:10.804Z"
   },
   {
    "duration": 23,
    "start_time": "2023-03-13T18:08:10.840Z"
   },
   {
    "duration": 11,
    "start_time": "2023-03-13T18:08:10.864Z"
   },
   {
    "duration": 49,
    "start_time": "2023-03-13T18:08:10.878Z"
   },
   {
    "duration": 9,
    "start_time": "2023-03-13T18:08:10.929Z"
   },
   {
    "duration": 47,
    "start_time": "2023-03-13T18:08:10.940Z"
   },
   {
    "duration": 482,
    "start_time": "2023-03-13T18:08:10.989Z"
   },
   {
    "duration": 21,
    "start_time": "2023-03-13T18:08:11.473Z"
   },
   {
    "duration": 24,
    "start_time": "2023-03-13T18:08:11.498Z"
   },
   {
    "duration": 358,
    "start_time": "2023-03-13T18:08:11.524Z"
   },
   {
    "duration": 201,
    "start_time": "2023-03-13T18:08:11.894Z"
   },
   {
    "duration": 207,
    "start_time": "2023-03-13T18:08:12.102Z"
   },
   {
    "duration": 297,
    "start_time": "2023-03-13T18:08:12.311Z"
   },
   {
    "duration": 154,
    "start_time": "2023-03-13T18:08:22.507Z"
   },
   {
    "duration": 171,
    "start_time": "2023-03-13T18:08:28.312Z"
   },
   {
    "duration": 175,
    "start_time": "2023-03-13T18:08:40.055Z"
   },
   {
    "duration": 219,
    "start_time": "2023-03-13T18:08:44.701Z"
   },
   {
    "duration": 226,
    "start_time": "2023-03-13T18:09:11.902Z"
   },
   {
    "duration": 166,
    "start_time": "2023-03-13T18:09:23.312Z"
   },
   {
    "duration": 177,
    "start_time": "2023-03-13T18:09:32.137Z"
   },
   {
    "duration": 191,
    "start_time": "2023-03-13T18:09:41.835Z"
   },
   {
    "duration": 169,
    "start_time": "2023-03-13T18:09:46.305Z"
   },
   {
    "duration": 166,
    "start_time": "2023-03-13T18:09:50.402Z"
   },
   {
    "duration": 299,
    "start_time": "2023-03-13T18:11:28.906Z"
   },
   {
    "duration": 159,
    "start_time": "2023-03-13T18:11:36.306Z"
   },
   {
    "duration": 165,
    "start_time": "2023-03-13T18:11:47.308Z"
   },
   {
    "duration": 183,
    "start_time": "2023-03-13T18:16:10.629Z"
   },
   {
    "duration": 191,
    "start_time": "2023-03-13T18:16:36.323Z"
   },
   {
    "duration": 168,
    "start_time": "2023-03-13T18:16:41.209Z"
   },
   {
    "duration": 145,
    "start_time": "2023-03-13T19:02:48.100Z"
   },
   {
    "duration": 204,
    "start_time": "2023-03-13T19:03:14.499Z"
   },
   {
    "duration": 170,
    "start_time": "2023-03-13T19:03:46.230Z"
   },
   {
    "duration": 178,
    "start_time": "2023-03-13T19:03:48.524Z"
   },
   {
    "duration": 4,
    "start_time": "2023-03-13T19:08:15.724Z"
   },
   {
    "duration": 9,
    "start_time": "2023-03-13T19:08:24.806Z"
   },
   {
    "duration": 10,
    "start_time": "2023-03-13T19:08:30.455Z"
   },
   {
    "duration": 151,
    "start_time": "2023-03-13T19:08:50.497Z"
   },
   {
    "duration": 266,
    "start_time": "2023-03-13T19:08:53.153Z"
   },
   {
    "duration": 3,
    "start_time": "2023-03-13T19:09:07.507Z"
   },
   {
    "duration": 4,
    "start_time": "2023-03-13T19:09:25.203Z"
   },
   {
    "duration": 4,
    "start_time": "2023-03-13T19:09:27.441Z"
   },
   {
    "duration": 4,
    "start_time": "2023-03-13T19:09:31.312Z"
   },
   {
    "duration": 11,
    "start_time": "2023-03-13T19:09:33.623Z"
   },
   {
    "duration": 156,
    "start_time": "2023-03-13T19:09:53.207Z"
   },
   {
    "duration": 3,
    "start_time": "2023-03-13T19:10:19.212Z"
   },
   {
    "duration": 9,
    "start_time": "2023-03-13T19:10:20.908Z"
   },
   {
    "duration": 3,
    "start_time": "2023-03-13T19:10:30.625Z"
   },
   {
    "duration": 12,
    "start_time": "2023-03-13T19:10:32.300Z"
   },
   {
    "duration": 3,
    "start_time": "2023-03-13T19:10:35.408Z"
   },
   {
    "duration": 13,
    "start_time": "2023-03-13T19:10:36.781Z"
   },
   {
    "duration": 1353,
    "start_time": "2023-03-13T19:10:46.298Z"
   },
   {
    "duration": 89,
    "start_time": "2023-03-13T19:10:47.653Z"
   },
   {
    "duration": 762,
    "start_time": "2023-03-13T19:10:47.744Z"
   },
   {
    "duration": 3,
    "start_time": "2023-03-13T19:10:48.509Z"
   },
   {
    "duration": 13,
    "start_time": "2023-03-13T19:10:48.515Z"
   },
   {
    "duration": 18,
    "start_time": "2023-03-13T19:10:48.529Z"
   },
   {
    "duration": 95,
    "start_time": "2023-03-13T19:10:48.549Z"
   },
   {
    "duration": 9,
    "start_time": "2023-03-13T19:10:48.646Z"
   },
   {
    "duration": 26,
    "start_time": "2023-03-13T19:10:48.656Z"
   },
   {
    "duration": 13,
    "start_time": "2023-03-13T19:10:48.686Z"
   },
   {
    "duration": 19,
    "start_time": "2023-03-13T19:10:48.702Z"
   },
   {
    "duration": 24,
    "start_time": "2023-03-13T19:10:48.723Z"
   },
   {
    "duration": 9,
    "start_time": "2023-03-13T19:10:48.748Z"
   },
   {
    "duration": 35,
    "start_time": "2023-03-13T19:10:48.760Z"
   },
   {
    "duration": 9,
    "start_time": "2023-03-13T19:10:48.804Z"
   },
   {
    "duration": 35,
    "start_time": "2023-03-13T19:10:48.815Z"
   },
   {
    "duration": 453,
    "start_time": "2023-03-13T19:10:48.852Z"
   },
   {
    "duration": 18,
    "start_time": "2023-03-13T19:10:49.310Z"
   },
   {
    "duration": 14,
    "start_time": "2023-03-13T19:10:49.330Z"
   },
   {
    "duration": 363,
    "start_time": "2023-03-13T19:10:49.345Z"
   },
   {
    "duration": 167,
    "start_time": "2023-03-13T19:10:49.710Z"
   },
   {
    "duration": 201,
    "start_time": "2023-03-13T19:10:49.881Z"
   },
   {
    "duration": 295,
    "start_time": "2023-03-13T19:10:50.091Z"
   },
   {
    "duration": 5,
    "start_time": "2023-03-13T19:10:50.390Z"
   },
   {
    "duration": 28,
    "start_time": "2023-03-13T19:10:50.397Z"
   },
   {
    "duration": 3,
    "start_time": "2023-03-13T19:10:53.536Z"
   },
   {
    "duration": 11,
    "start_time": "2023-03-13T19:10:54.845Z"
   },
   {
    "duration": 3,
    "start_time": "2023-03-13T19:11:04.341Z"
   },
   {
    "duration": 12,
    "start_time": "2023-03-13T19:11:05.996Z"
   },
   {
    "duration": 4,
    "start_time": "2023-03-13T19:11:26.733Z"
   },
   {
    "duration": 10,
    "start_time": "2023-03-13T19:11:29.427Z"
   },
   {
    "duration": 3,
    "start_time": "2023-03-13T19:11:53.520Z"
   },
   {
    "duration": 11,
    "start_time": "2023-03-13T19:11:55.132Z"
   },
   {
    "duration": 3,
    "start_time": "2023-03-13T19:12:05.609Z"
   },
   {
    "duration": 10,
    "start_time": "2023-03-13T19:12:07.104Z"
   },
   {
    "duration": 4,
    "start_time": "2023-03-13T19:12:19.201Z"
   },
   {
    "duration": 10,
    "start_time": "2023-03-13T19:12:20.907Z"
   },
   {
    "duration": 3,
    "start_time": "2023-03-13T19:12:34.996Z"
   },
   {
    "duration": 146,
    "start_time": "2023-03-13T19:12:36.398Z"
   },
   {
    "duration": 32,
    "start_time": "2023-03-13T19:12:53.406Z"
   },
   {
    "duration": 4,
    "start_time": "2023-03-13T19:13:18.807Z"
   },
   {
    "duration": 41,
    "start_time": "2023-03-13T19:13:20.302Z"
   },
   {
    "duration": 4,
    "start_time": "2023-03-13T19:14:20.148Z"
   },
   {
    "duration": 4,
    "start_time": "2023-03-13T19:14:24.234Z"
   },
   {
    "duration": 1230,
    "start_time": "2023-03-13T19:14:36.602Z"
   },
   {
    "duration": 95,
    "start_time": "2023-03-13T19:14:37.834Z"
   },
   {
    "duration": 769,
    "start_time": "2023-03-13T19:14:37.931Z"
   },
   {
    "duration": 5,
    "start_time": "2023-03-13T19:14:38.702Z"
   },
   {
    "duration": 14,
    "start_time": "2023-03-13T19:14:38.711Z"
   },
   {
    "duration": 18,
    "start_time": "2023-03-13T19:14:38.727Z"
   },
   {
    "duration": 97,
    "start_time": "2023-03-13T19:14:38.748Z"
   },
   {
    "duration": 13,
    "start_time": "2023-03-13T19:14:38.847Z"
   },
   {
    "duration": 35,
    "start_time": "2023-03-13T19:14:38.862Z"
   },
   {
    "duration": 19,
    "start_time": "2023-03-13T19:14:38.899Z"
   },
   {
    "duration": 10,
    "start_time": "2023-03-13T19:14:38.920Z"
   },
   {
    "duration": 35,
    "start_time": "2023-03-13T19:14:38.933Z"
   },
   {
    "duration": 17,
    "start_time": "2023-03-13T19:14:38.970Z"
   },
   {
    "duration": 25,
    "start_time": "2023-03-13T19:14:38.992Z"
   },
   {
    "duration": 9,
    "start_time": "2023-03-13T19:14:39.019Z"
   },
   {
    "duration": 31,
    "start_time": "2023-03-13T19:14:39.029Z"
   },
   {
    "duration": 484,
    "start_time": "2023-03-13T19:14:39.063Z"
   },
   {
    "duration": 15,
    "start_time": "2023-03-13T19:14:39.548Z"
   },
   {
    "duration": 20,
    "start_time": "2023-03-13T19:14:39.565Z"
   },
   {
    "duration": 350,
    "start_time": "2023-03-13T19:14:39.590Z"
   },
   {
    "duration": 177,
    "start_time": "2023-03-13T19:14:39.941Z"
   },
   {
    "duration": 183,
    "start_time": "2023-03-13T19:14:40.119Z"
   },
   {
    "duration": 257,
    "start_time": "2023-03-13T19:14:40.311Z"
   },
   {
    "duration": 3,
    "start_time": "2023-03-13T19:14:40.570Z"
   },
   {
    "duration": 141,
    "start_time": "2023-03-13T19:14:40.583Z"
   },
   {
    "duration": 33,
    "start_time": "2023-03-13T19:15:00.214Z"
   },
   {
    "duration": 3,
    "start_time": "2023-03-13T19:15:01.810Z"
   },
   {
    "duration": 46,
    "start_time": "2023-03-13T19:15:04.199Z"
   },
   {
    "duration": 5,
    "start_time": "2023-03-13T19:15:17.479Z"
   },
   {
    "duration": 10,
    "start_time": "2023-03-13T19:15:18.710Z"
   },
   {
    "duration": 5,
    "start_time": "2023-03-13T19:20:44.813Z"
   },
   {
    "duration": 12,
    "start_time": "2023-03-13T19:20:46.309Z"
   },
   {
    "duration": 9,
    "start_time": "2023-03-13T19:20:54.423Z"
   },
   {
    "duration": 10,
    "start_time": "2023-03-13T19:20:56.693Z"
   },
   {
    "duration": 3,
    "start_time": "2023-03-13T19:20:57.992Z"
   },
   {
    "duration": 10,
    "start_time": "2023-03-13T19:20:59.227Z"
   },
   {
    "duration": 164,
    "start_time": "2023-03-13T19:21:13.333Z"
   },
   {
    "duration": 157,
    "start_time": "2023-03-13T19:21:43.336Z"
   },
   {
    "duration": 4,
    "start_time": "2023-03-13T19:22:00.028Z"
   },
   {
    "duration": 35,
    "start_time": "2023-03-13T19:22:01.596Z"
   },
   {
    "duration": 1353,
    "start_time": "2023-03-14T06:43:21.560Z"
   },
   {
    "duration": 131,
    "start_time": "2023-03-14T06:43:22.916Z"
   },
   {
    "duration": 681,
    "start_time": "2023-03-14T06:43:23.049Z"
   },
   {
    "duration": 4,
    "start_time": "2023-03-14T06:43:23.732Z"
   },
   {
    "duration": 11,
    "start_time": "2023-03-14T06:43:23.738Z"
   },
   {
    "duration": 39,
    "start_time": "2023-03-14T06:43:23.751Z"
   },
   {
    "duration": 74,
    "start_time": "2023-03-14T06:43:23.792Z"
   },
   {
    "duration": 22,
    "start_time": "2023-03-14T06:43:23.868Z"
   },
   {
    "duration": 17,
    "start_time": "2023-03-14T06:43:23.892Z"
   },
   {
    "duration": 49,
    "start_time": "2023-03-14T06:43:32.045Z"
   },
   {
    "duration": 10,
    "start_time": "2023-03-14T06:45:38.974Z"
   },
   {
    "duration": 10,
    "start_time": "2023-03-14T06:45:43.832Z"
   },
   {
    "duration": 6,
    "start_time": "2023-03-14T06:46:02.723Z"
   },
   {
    "duration": 6,
    "start_time": "2023-03-14T06:46:04.802Z"
   },
   {
    "duration": 7,
    "start_time": "2023-03-14T06:46:08.717Z"
   },
   {
    "duration": 3,
    "start_time": "2023-03-14T06:46:11.099Z"
   },
   {
    "duration": 96,
    "start_time": "2023-03-14T06:46:11.105Z"
   },
   {
    "duration": 652,
    "start_time": "2023-03-14T06:46:11.203Z"
   },
   {
    "duration": 3,
    "start_time": "2023-03-14T06:46:11.857Z"
   },
   {
    "duration": 14,
    "start_time": "2023-03-14T06:46:11.861Z"
   },
   {
    "duration": 24,
    "start_time": "2023-03-14T06:46:11.876Z"
   },
   {
    "duration": 73,
    "start_time": "2023-03-14T06:46:11.901Z"
   },
   {
    "duration": 19,
    "start_time": "2023-03-14T06:46:11.975Z"
   },
   {
    "duration": 16,
    "start_time": "2023-03-14T06:46:11.996Z"
   },
   {
    "duration": 38,
    "start_time": "2023-03-14T06:46:12.014Z"
   },
   {
    "duration": 8,
    "start_time": "2023-03-14T06:46:15.709Z"
   },
   {
    "duration": 712,
    "start_time": "2023-03-14T06:47:16.470Z"
   },
   {
    "duration": 21,
    "start_time": "2023-03-14T06:47:59.300Z"
   },
   {
    "duration": 3,
    "start_time": "2023-03-14T06:49:57.683Z"
   },
   {
    "duration": 90,
    "start_time": "2023-03-14T06:49:57.689Z"
   },
   {
    "duration": 736,
    "start_time": "2023-03-14T06:49:57.780Z"
   },
   {
    "duration": 4,
    "start_time": "2023-03-14T06:49:58.517Z"
   },
   {
    "duration": 22,
    "start_time": "2023-03-14T06:49:58.524Z"
   },
   {
    "duration": 23,
    "start_time": "2023-03-14T06:49:58.548Z"
   },
   {
    "duration": 87,
    "start_time": "2023-03-14T06:49:58.573Z"
   },
   {
    "duration": 11,
    "start_time": "2023-03-14T06:49:58.662Z"
   },
   {
    "duration": 31,
    "start_time": "2023-03-14T06:49:58.675Z"
   },
   {
    "duration": 29,
    "start_time": "2023-03-14T06:49:58.708Z"
   },
   {
    "duration": 21,
    "start_time": "2023-03-14T06:49:58.739Z"
   },
   {
    "duration": 72,
    "start_time": "2023-03-14T06:49:58.762Z"
   },
   {
    "duration": 27,
    "start_time": "2023-03-14T06:50:06.456Z"
   },
   {
    "duration": 13,
    "start_time": "2023-03-14T06:50:13.287Z"
   },
   {
    "duration": 1361,
    "start_time": "2023-03-14T10:02:48.109Z"
   },
   {
    "duration": 191,
    "start_time": "2023-03-14T10:02:49.472Z"
   },
   {
    "duration": 683,
    "start_time": "2023-03-14T10:02:49.665Z"
   },
   {
    "duration": 3,
    "start_time": "2023-03-14T10:02:50.355Z"
   },
   {
    "duration": 10,
    "start_time": "2023-03-14T10:02:50.361Z"
   },
   {
    "duration": 16,
    "start_time": "2023-03-14T10:02:50.372Z"
   },
   {
    "duration": 118,
    "start_time": "2023-03-14T10:02:50.389Z"
   },
   {
    "duration": 13,
    "start_time": "2023-03-14T10:02:50.509Z"
   },
   {
    "duration": 15,
    "start_time": "2023-03-14T10:02:50.523Z"
   },
   {
    "duration": 17,
    "start_time": "2023-03-14T10:02:50.555Z"
   },
   {
    "duration": 24,
    "start_time": "2023-03-14T10:02:50.574Z"
   },
   {
    "duration": 68,
    "start_time": "2023-03-14T10:02:50.600Z"
   },
   {
    "duration": 9,
    "start_time": "2023-03-14T10:02:54.858Z"
   },
   {
    "duration": 18,
    "start_time": "2023-03-14T10:02:57.208Z"
   },
   {
    "duration": 12,
    "start_time": "2023-03-14T10:03:16.603Z"
   },
   {
    "duration": 399,
    "start_time": "2023-03-14T10:03:28.384Z"
   },
   {
    "duration": 15,
    "start_time": "2023-03-14T10:08:19.530Z"
   },
   {
    "duration": 18,
    "start_time": "2023-03-14T10:08:24.528Z"
   },
   {
    "duration": 196,
    "start_time": "2023-03-14T10:08:42.658Z"
   },
   {
    "duration": 3,
    "start_time": "2023-03-14T10:08:49.635Z"
   },
   {
    "duration": 72,
    "start_time": "2023-03-14T10:08:49.640Z"
   },
   {
    "duration": 570,
    "start_time": "2023-03-14T10:08:49.714Z"
   },
   {
    "duration": 4,
    "start_time": "2023-03-14T10:08:50.285Z"
   },
   {
    "duration": 20,
    "start_time": "2023-03-14T10:08:50.291Z"
   },
   {
    "duration": 28,
    "start_time": "2023-03-14T10:08:50.312Z"
   },
   {
    "duration": 72,
    "start_time": "2023-03-14T10:08:50.342Z"
   },
   {
    "duration": 9,
    "start_time": "2023-03-14T10:08:50.416Z"
   },
   {
    "duration": 48,
    "start_time": "2023-03-14T10:08:50.427Z"
   },
   {
    "duration": 43,
    "start_time": "2023-03-14T10:08:50.477Z"
   },
   {
    "duration": 15,
    "start_time": "2023-03-14T10:08:50.522Z"
   },
   {
    "duration": 64,
    "start_time": "2023-03-14T10:08:50.538Z"
   },
   {
    "duration": 18,
    "start_time": "2023-03-14T10:08:50.604Z"
   },
   {
    "duration": 10,
    "start_time": "2023-03-14T10:08:50.623Z"
   },
   {
    "duration": 11,
    "start_time": "2023-03-14T10:08:53.615Z"
   },
   {
    "duration": 7,
    "start_time": "2023-03-14T10:09:00.073Z"
   },
   {
    "duration": 26,
    "start_time": "2023-03-14T10:09:17.978Z"
   },
   {
    "duration": 433,
    "start_time": "2023-03-14T10:09:22.424Z"
   },
   {
    "duration": 13,
    "start_time": "2023-03-14T10:09:26.926Z"
   },
   {
    "duration": 12,
    "start_time": "2023-03-14T10:09:36.570Z"
   },
   {
    "duration": 278,
    "start_time": "2023-03-14T10:09:40.834Z"
   },
   {
    "duration": 132,
    "start_time": "2023-03-14T10:09:47.446Z"
   },
   {
    "duration": 171,
    "start_time": "2023-03-14T10:10:09.963Z"
   },
   {
    "duration": 166,
    "start_time": "2023-03-14T10:10:25.297Z"
   },
   {
    "duration": 2,
    "start_time": "2023-03-14T10:10:54.828Z"
   },
   {
    "duration": 3,
    "start_time": "2023-03-14T10:10:56.805Z"
   },
   {
    "duration": 68,
    "start_time": "2023-03-14T10:10:56.810Z"
   },
   {
    "duration": 590,
    "start_time": "2023-03-14T10:10:56.879Z"
   },
   {
    "duration": 2,
    "start_time": "2023-03-14T10:10:57.471Z"
   },
   {
    "duration": 24,
    "start_time": "2023-03-14T10:10:57.475Z"
   },
   {
    "duration": 15,
    "start_time": "2023-03-14T10:10:57.500Z"
   },
   {
    "duration": 66,
    "start_time": "2023-03-14T10:10:57.517Z"
   },
   {
    "duration": 10,
    "start_time": "2023-03-14T10:10:57.584Z"
   },
   {
    "duration": 18,
    "start_time": "2023-03-14T10:10:57.595Z"
   },
   {
    "duration": 19,
    "start_time": "2023-03-14T10:10:57.614Z"
   },
   {
    "duration": 35,
    "start_time": "2023-03-14T10:10:57.634Z"
   },
   {
    "duration": 13,
    "start_time": "2023-03-14T10:10:57.670Z"
   },
   {
    "duration": 26,
    "start_time": "2023-03-14T10:10:57.685Z"
   },
   {
    "duration": 8,
    "start_time": "2023-03-14T10:10:57.714Z"
   },
   {
    "duration": 12,
    "start_time": "2023-03-14T10:10:57.723Z"
   },
   {
    "duration": 23,
    "start_time": "2023-03-14T10:10:57.736Z"
   },
   {
    "duration": 39,
    "start_time": "2023-03-14T10:10:57.760Z"
   },
   {
    "duration": 366,
    "start_time": "2023-03-14T10:10:57.801Z"
   },
   {
    "duration": 14,
    "start_time": "2023-03-14T10:10:58.169Z"
   },
   {
    "duration": 12,
    "start_time": "2023-03-14T10:10:58.185Z"
   },
   {
    "duration": 300,
    "start_time": "2023-03-14T10:10:58.199Z"
   },
   {
    "duration": 137,
    "start_time": "2023-03-14T10:10:58.501Z"
   },
   {
    "duration": 217,
    "start_time": "2023-03-14T10:10:58.640Z"
   },
   {
    "duration": 135,
    "start_time": "2023-03-14T10:10:58.859Z"
   },
   {
    "duration": 3,
    "start_time": "2023-03-14T10:10:58.995Z"
   },
   {
    "duration": 35,
    "start_time": "2023-03-14T10:10:58.999Z"
   },
   {
    "duration": 3,
    "start_time": "2023-03-14T10:15:59.265Z"
   },
   {
    "duration": 29,
    "start_time": "2023-03-14T10:16:01.463Z"
   },
   {
    "duration": 26,
    "start_time": "2023-03-14T10:18:08.896Z"
   },
   {
    "duration": 8,
    "start_time": "2023-03-14T10:18:21.774Z"
   },
   {
    "duration": 4,
    "start_time": "2023-03-14T10:18:35.322Z"
   },
   {
    "duration": 9,
    "start_time": "2023-03-14T10:18:36.734Z"
   },
   {
    "duration": 5,
    "start_time": "2023-03-14T10:18:48.967Z"
   },
   {
    "duration": 68,
    "start_time": "2023-03-14T10:18:48.975Z"
   },
   {
    "duration": 581,
    "start_time": "2023-03-14T10:18:49.044Z"
   },
   {
    "duration": 3,
    "start_time": "2023-03-14T10:18:49.626Z"
   },
   {
    "duration": 11,
    "start_time": "2023-03-14T10:18:49.631Z"
   },
   {
    "duration": 29,
    "start_time": "2023-03-14T10:18:49.665Z"
   },
   {
    "duration": 71,
    "start_time": "2023-03-14T10:18:49.696Z"
   },
   {
    "duration": 9,
    "start_time": "2023-03-14T10:18:49.769Z"
   },
   {
    "duration": 14,
    "start_time": "2023-03-14T10:18:49.779Z"
   },
   {
    "duration": 16,
    "start_time": "2023-03-14T10:18:49.795Z"
   },
   {
    "duration": 15,
    "start_time": "2023-03-14T10:18:49.813Z"
   },
   {
    "duration": 4,
    "start_time": "2023-03-14T10:18:49.829Z"
   },
   {
    "duration": 48,
    "start_time": "2023-03-14T10:18:49.834Z"
   },
   {
    "duration": 8,
    "start_time": "2023-03-14T10:18:49.885Z"
   },
   {
    "duration": 11,
    "start_time": "2023-03-14T10:18:49.894Z"
   },
   {
    "duration": 8,
    "start_time": "2023-03-14T10:18:49.907Z"
   },
   {
    "duration": 48,
    "start_time": "2023-03-14T10:18:49.916Z"
   },
   {
    "duration": 371,
    "start_time": "2023-03-14T10:18:49.966Z"
   },
   {
    "duration": 31,
    "start_time": "2023-03-14T10:18:50.338Z"
   },
   {
    "duration": 13,
    "start_time": "2023-03-14T10:18:50.371Z"
   },
   {
    "duration": 296,
    "start_time": "2023-03-14T10:18:50.386Z"
   },
   {
    "duration": 137,
    "start_time": "2023-03-14T10:18:50.684Z"
   },
   {
    "duration": 148,
    "start_time": "2023-03-14T10:18:50.823Z"
   },
   {
    "duration": 224,
    "start_time": "2023-03-14T10:18:50.973Z"
   },
   {
    "duration": 3,
    "start_time": "2023-03-14T10:18:51.199Z"
   },
   {
    "duration": 27,
    "start_time": "2023-03-14T10:18:51.203Z"
   },
   {
    "duration": 10,
    "start_time": "2023-03-14T10:18:51.231Z"
   },
   {
    "duration": 5,
    "start_time": "2023-03-14T10:19:47.383Z"
   },
   {
    "duration": 13,
    "start_time": "2023-03-14T10:19:50.235Z"
   },
   {
    "duration": 4,
    "start_time": "2023-03-14T10:19:52.276Z"
   },
   {
    "duration": 14,
    "start_time": "2023-03-14T10:19:53.371Z"
   },
   {
    "duration": 68,
    "start_time": "2023-03-14T15:58:59.710Z"
   },
   {
    "duration": 7,
    "start_time": "2023-03-14T16:00:48.845Z"
   },
   {
    "duration": 1493,
    "start_time": "2023-03-14T16:03:25.208Z"
   },
   {
    "duration": 176,
    "start_time": "2023-03-14T16:03:26.704Z"
   },
   {
    "duration": 733,
    "start_time": "2023-03-14T16:03:26.882Z"
   },
   {
    "duration": 3,
    "start_time": "2023-03-14T16:03:27.617Z"
   },
   {
    "duration": 19,
    "start_time": "2023-03-14T16:03:27.623Z"
   },
   {
    "duration": 37,
    "start_time": "2023-03-14T16:03:27.644Z"
   },
   {
    "duration": 95,
    "start_time": "2023-03-14T16:03:27.683Z"
   },
   {
    "duration": 12,
    "start_time": "2023-03-14T16:03:27.782Z"
   },
   {
    "duration": 19,
    "start_time": "2023-03-14T16:03:27.797Z"
   },
   {
    "duration": 22,
    "start_time": "2023-03-14T16:03:27.819Z"
   },
   {
    "duration": 46,
    "start_time": "2023-03-14T16:03:27.844Z"
   },
   {
    "duration": 2,
    "start_time": "2023-03-14T16:03:27.892Z"
   },
   {
    "duration": 24,
    "start_time": "2023-03-14T16:03:27.896Z"
   },
   {
    "duration": 8,
    "start_time": "2023-03-14T16:03:27.923Z"
   },
   {
    "duration": 39,
    "start_time": "2023-03-14T16:03:27.933Z"
   },
   {
    "duration": 10,
    "start_time": "2023-03-14T16:03:27.984Z"
   },
   {
    "duration": 33,
    "start_time": "2023-03-14T16:03:27.995Z"
   },
   {
    "duration": 466,
    "start_time": "2023-03-14T16:03:28.030Z"
   },
   {
    "duration": 15,
    "start_time": "2023-03-14T16:03:28.498Z"
   },
   {
    "duration": 18,
    "start_time": "2023-03-14T16:03:28.515Z"
   },
   {
    "duration": 340,
    "start_time": "2023-03-14T16:03:28.535Z"
   },
   {
    "duration": 161,
    "start_time": "2023-03-14T16:03:28.878Z"
   },
   {
    "duration": 192,
    "start_time": "2023-03-14T16:03:29.041Z"
   },
   {
    "duration": 280,
    "start_time": "2023-03-14T16:03:29.234Z"
   },
   {
    "duration": 79,
    "start_time": "2023-03-14T16:03:29.516Z"
   },
   {
    "duration": 0,
    "start_time": "2023-03-14T16:03:29.596Z"
   },
   {
    "duration": 0,
    "start_time": "2023-03-14T16:03:29.597Z"
   },
   {
    "duration": 4,
    "start_time": "2023-03-14T16:04:01.279Z"
   },
   {
    "duration": 16,
    "start_time": "2023-03-14T16:04:03.639Z"
   },
   {
    "duration": 4,
    "start_time": "2023-03-14T16:04:19.904Z"
   },
   {
    "duration": 17,
    "start_time": "2023-03-14T16:04:21.628Z"
   },
   {
    "duration": 139,
    "start_time": "2023-03-14T16:05:02.576Z"
   },
   {
    "duration": 81,
    "start_time": "2023-03-14T16:05:08.709Z"
   },
   {
    "duration": 4,
    "start_time": "2023-03-14T16:06:26.902Z"
   },
   {
    "duration": 16,
    "start_time": "2023-03-14T16:06:29.299Z"
   },
   {
    "duration": 5,
    "start_time": "2023-03-14T16:06:35.402Z"
   },
   {
    "duration": 27,
    "start_time": "2023-03-14T16:06:37.257Z"
   },
   {
    "duration": 4,
    "start_time": "2023-03-14T16:06:49.205Z"
   },
   {
    "duration": 16,
    "start_time": "2023-03-14T16:06:51.427Z"
   },
   {
    "duration": 85,
    "start_time": "2023-03-14T16:07:01.026Z"
   },
   {
    "duration": 89,
    "start_time": "2023-03-14T16:10:21.177Z"
   },
   {
    "duration": 4,
    "start_time": "2023-03-14T16:10:38.531Z"
   },
   {
    "duration": 16,
    "start_time": "2023-03-14T16:10:41.039Z"
   },
   {
    "duration": 4,
    "start_time": "2023-03-14T16:11:11.902Z"
   },
   {
    "duration": 13,
    "start_time": "2023-03-14T16:11:13.308Z"
   },
   {
    "duration": 12,
    "start_time": "2023-03-14T16:11:29.431Z"
   },
   {
    "duration": 14,
    "start_time": "2023-03-14T16:11:34.982Z"
   },
   {
    "duration": 37,
    "start_time": "2023-03-14T16:12:43.216Z"
   },
   {
    "duration": 52,
    "start_time": "2023-03-14T16:13:41.240Z"
   },
   {
    "duration": 16,
    "start_time": "2023-03-14T16:22:22.058Z"
   },
   {
    "duration": 86,
    "start_time": "2023-03-14T16:22:39.997Z"
   },
   {
    "duration": 7,
    "start_time": "2023-03-14T16:22:44.853Z"
   },
   {
    "duration": 13,
    "start_time": "2023-03-14T16:22:54.241Z"
   },
   {
    "duration": 16,
    "start_time": "2023-03-14T16:23:03.661Z"
   },
   {
    "duration": 21,
    "start_time": "2023-03-14T16:25:43.588Z"
   },
   {
    "duration": 346,
    "start_time": "2023-03-14T16:26:31.556Z"
   },
   {
    "duration": 8,
    "start_time": "2023-03-14T16:31:04.903Z"
   },
   {
    "duration": 8,
    "start_time": "2023-03-14T16:39:01.592Z"
   },
   {
    "duration": 8,
    "start_time": "2023-03-14T16:39:34.844Z"
   },
   {
    "duration": 9,
    "start_time": "2023-03-14T18:00:33.870Z"
   },
   {
    "duration": 9,
    "start_time": "2023-03-14T18:00:42.048Z"
   },
   {
    "duration": 15,
    "start_time": "2023-03-14T18:07:33.206Z"
   },
   {
    "duration": 9,
    "start_time": "2023-03-14T18:08:18.358Z"
   },
   {
    "duration": 10,
    "start_time": "2023-03-14T18:08:39.821Z"
   },
   {
    "duration": 10,
    "start_time": "2023-03-14T18:09:04.344Z"
   },
   {
    "duration": 9,
    "start_time": "2023-03-14T18:09:08.271Z"
   },
   {
    "duration": 28,
    "start_time": "2023-03-14T18:15:16.777Z"
   },
   {
    "duration": 35,
    "start_time": "2023-03-14T18:16:06.410Z"
   },
   {
    "duration": 15,
    "start_time": "2023-03-14T18:16:46.181Z"
   },
   {
    "duration": 14,
    "start_time": "2023-03-14T18:17:05.911Z"
   },
   {
    "duration": 1186,
    "start_time": "2023-03-14T18:22:22.809Z"
   },
   {
    "duration": 14,
    "start_time": "2023-03-14T18:24:37.743Z"
   },
   {
    "duration": 15,
    "start_time": "2023-03-14T18:29:49.447Z"
   },
   {
    "duration": 25,
    "start_time": "2023-03-14T19:41:52.892Z"
   },
   {
    "duration": 18,
    "start_time": "2023-03-14T19:42:03.216Z"
   },
   {
    "duration": 26,
    "start_time": "2023-03-14T19:42:55.936Z"
   },
   {
    "duration": 70,
    "start_time": "2023-03-14T19:50:19.655Z"
   },
   {
    "duration": 82,
    "start_time": "2023-03-14T19:52:13.171Z"
   },
   {
    "duration": 72,
    "start_time": "2023-03-14T19:52:18.731Z"
   },
   {
    "duration": 25,
    "start_time": "2023-03-14T19:52:35.942Z"
   },
   {
    "duration": 24,
    "start_time": "2023-03-14T19:52:54.918Z"
   },
   {
    "duration": 26,
    "start_time": "2023-03-14T19:52:59.727Z"
   },
   {
    "duration": 21,
    "start_time": "2023-03-14T19:53:16.377Z"
   },
   {
    "duration": 21,
    "start_time": "2023-03-14T19:55:00.954Z"
   },
   {
    "duration": 221,
    "start_time": "2023-03-14T19:56:10.672Z"
   },
   {
    "duration": 163,
    "start_time": "2023-03-14T19:56:48.083Z"
   },
   {
    "duration": 195,
    "start_time": "2023-03-14T19:57:16.569Z"
   },
   {
    "duration": 309,
    "start_time": "2023-03-14T19:57:25.486Z"
   },
   {
    "duration": 75,
    "start_time": "2023-03-14T19:59:48.960Z"
   },
   {
    "duration": 1193,
    "start_time": "2023-03-14T19:59:53.570Z"
   },
   {
    "duration": 1328,
    "start_time": "2023-03-15T09:43:04.432Z"
   },
   {
    "duration": 219,
    "start_time": "2023-03-15T09:43:05.762Z"
   },
   {
    "duration": 679,
    "start_time": "2023-03-15T09:43:05.983Z"
   },
   {
    "duration": 4,
    "start_time": "2023-03-15T09:43:06.664Z"
   },
   {
    "duration": 11,
    "start_time": "2023-03-15T09:43:06.670Z"
   },
   {
    "duration": 15,
    "start_time": "2023-03-15T09:43:06.683Z"
   },
   {
    "duration": 92,
    "start_time": "2023-03-15T09:43:06.700Z"
   },
   {
    "duration": 9,
    "start_time": "2023-03-15T09:43:06.794Z"
   },
   {
    "duration": 32,
    "start_time": "2023-03-15T09:43:06.805Z"
   },
   {
    "duration": 25,
    "start_time": "2023-03-15T09:43:06.841Z"
   },
   {
    "duration": 22,
    "start_time": "2023-03-15T09:43:06.868Z"
   },
   {
    "duration": 2,
    "start_time": "2023-03-15T09:43:06.892Z"
   },
   {
    "duration": 19,
    "start_time": "2023-03-15T09:43:06.923Z"
   },
   {
    "duration": 12,
    "start_time": "2023-03-15T09:43:06.944Z"
   },
   {
    "duration": 10,
    "start_time": "2023-03-15T09:43:06.958Z"
   },
   {
    "duration": 6,
    "start_time": "2023-03-15T09:43:06.970Z"
   },
   {
    "duration": 53,
    "start_time": "2023-03-15T09:43:06.978Z"
   },
   {
    "duration": 416,
    "start_time": "2023-03-15T09:43:07.032Z"
   },
   {
    "duration": 14,
    "start_time": "2023-03-15T09:43:07.450Z"
   },
   {
    "duration": 13,
    "start_time": "2023-03-15T09:43:07.465Z"
   },
   {
    "duration": 300,
    "start_time": "2023-03-15T09:43:07.479Z"
   },
   {
    "duration": 151,
    "start_time": "2023-03-15T09:43:07.781Z"
   },
   {
    "duration": 155,
    "start_time": "2023-03-15T09:43:07.934Z"
   },
   {
    "duration": 243,
    "start_time": "2023-03-15T09:43:08.091Z"
   },
   {
    "duration": 4,
    "start_time": "2023-03-15T09:43:08.337Z"
   },
   {
    "duration": 40,
    "start_time": "2023-03-15T09:43:08.342Z"
   },
   {
    "duration": 6,
    "start_time": "2023-03-15T09:43:08.384Z"
   },
   {
    "duration": 32,
    "start_time": "2023-03-15T09:43:08.393Z"
   },
   {
    "duration": 18,
    "start_time": "2023-03-15T09:43:08.426Z"
   },
   {
    "duration": 291,
    "start_time": "2023-03-15T09:43:08.446Z"
   },
   {
    "duration": 8,
    "start_time": "2023-03-15T09:43:08.738Z"
   },
   {
    "duration": 9,
    "start_time": "2023-03-15T09:43:08.748Z"
   },
   {
    "duration": 8,
    "start_time": "2023-03-15T09:43:08.759Z"
   },
   {
    "duration": 17,
    "start_time": "2023-03-15T09:43:08.768Z"
   },
   {
    "duration": 901,
    "start_time": "2023-03-15T09:43:08.786Z"
   },
   {
    "duration": 14,
    "start_time": "2023-03-15T09:46:59.940Z"
   },
   {
    "duration": 173,
    "start_time": "2023-03-15T09:50:48.231Z"
   },
   {
    "duration": 149,
    "start_time": "2023-03-15T09:51:06.712Z"
   },
   {
    "duration": 12,
    "start_time": "2023-03-15T09:51:33.067Z"
   },
   {
    "duration": 8,
    "start_time": "2023-03-15T10:06:54.454Z"
   },
   {
    "duration": 236,
    "start_time": "2023-03-15T10:07:56.367Z"
   },
   {
    "duration": 183,
    "start_time": "2023-03-15T10:08:13.862Z"
   },
   {
    "duration": 221,
    "start_time": "2023-03-15T10:09:06.967Z"
   },
   {
    "duration": 21,
    "start_time": "2023-03-15T10:10:09.433Z"
   },
   {
    "duration": 22,
    "start_time": "2023-03-15T10:11:10.836Z"
   },
   {
    "duration": 20,
    "start_time": "2023-03-15T10:11:18.674Z"
   },
   {
    "duration": 36,
    "start_time": "2023-03-15T10:11:28.339Z"
   },
   {
    "duration": 26,
    "start_time": "2023-03-15T10:11:34.116Z"
   },
   {
    "duration": 19,
    "start_time": "2023-03-15T10:11:41.949Z"
   },
   {
    "duration": 17,
    "start_time": "2023-03-15T10:11:44.875Z"
   },
   {
    "duration": 1121,
    "start_time": "2023-03-15T10:11:53.463Z"
   },
   {
    "duration": 86,
    "start_time": "2023-03-15T10:11:54.586Z"
   },
   {
    "duration": 678,
    "start_time": "2023-03-15T10:11:54.673Z"
   },
   {
    "duration": 3,
    "start_time": "2023-03-15T10:11:55.353Z"
   },
   {
    "duration": 14,
    "start_time": "2023-03-15T10:11:55.358Z"
   },
   {
    "duration": 15,
    "start_time": "2023-03-15T10:11:55.374Z"
   },
   {
    "duration": 100,
    "start_time": "2023-03-15T10:11:55.391Z"
   },
   {
    "duration": 10,
    "start_time": "2023-03-15T10:11:55.492Z"
   },
   {
    "duration": 45,
    "start_time": "2023-03-15T10:11:55.504Z"
   },
   {
    "duration": 19,
    "start_time": "2023-03-15T10:11:55.553Z"
   },
   {
    "duration": 16,
    "start_time": "2023-03-15T10:11:55.573Z"
   },
   {
    "duration": 2,
    "start_time": "2023-03-15T10:11:55.591Z"
   },
   {
    "duration": 41,
    "start_time": "2023-03-15T10:11:55.594Z"
   },
   {
    "duration": 14,
    "start_time": "2023-03-15T10:11:55.636Z"
   },
   {
    "duration": 10,
    "start_time": "2023-03-15T10:11:55.652Z"
   },
   {
    "duration": 8,
    "start_time": "2023-03-15T10:11:55.664Z"
   },
   {
    "duration": 25,
    "start_time": "2023-03-15T10:11:55.673Z"
   },
   {
    "duration": 464,
    "start_time": "2023-03-15T10:11:55.700Z"
   },
   {
    "duration": 15,
    "start_time": "2023-03-15T10:11:56.166Z"
   },
   {
    "duration": 13,
    "start_time": "2023-03-15T10:11:56.183Z"
   },
   {
    "duration": 327,
    "start_time": "2023-03-15T10:11:56.197Z"
   },
   {
    "duration": 155,
    "start_time": "2023-03-15T10:11:56.528Z"
   },
   {
    "duration": 160,
    "start_time": "2023-03-15T10:11:56.685Z"
   },
   {
    "duration": 224,
    "start_time": "2023-03-15T10:11:56.847Z"
   },
   {
    "duration": 3,
    "start_time": "2023-03-15T10:11:57.073Z"
   },
   {
    "duration": 57,
    "start_time": "2023-03-15T10:11:57.078Z"
   },
   {
    "duration": 7,
    "start_time": "2023-03-15T10:11:57.146Z"
   },
   {
    "duration": 8,
    "start_time": "2023-03-15T10:11:57.156Z"
   },
   {
    "duration": 19,
    "start_time": "2023-03-15T10:11:57.165Z"
   },
   {
    "duration": 304,
    "start_time": "2023-03-15T10:11:57.186Z"
   },
   {
    "duration": 8,
    "start_time": "2023-03-15T10:11:57.492Z"
   },
   {
    "duration": 28,
    "start_time": "2023-03-15T10:11:57.501Z"
   },
   {
    "duration": 20,
    "start_time": "2023-03-15T10:11:57.531Z"
   },
   {
    "duration": 18,
    "start_time": "2023-03-15T10:11:57.553Z"
   },
   {
    "duration": 319,
    "start_time": "2023-03-15T10:11:57.573Z"
   },
   {
    "duration": 20,
    "start_time": "2023-03-15T10:12:02.663Z"
   },
   {
    "duration": 17,
    "start_time": "2023-03-15T10:12:59.485Z"
   },
   {
    "duration": 21,
    "start_time": "2023-03-15T10:13:03.449Z"
   },
   {
    "duration": 19,
    "start_time": "2023-03-15T10:13:48.764Z"
   },
   {
    "duration": 26,
    "start_time": "2023-03-15T10:13:55.131Z"
   },
   {
    "duration": 22,
    "start_time": "2023-03-15T10:20:30.849Z"
   },
   {
    "duration": 19,
    "start_time": "2023-03-15T10:20:36.620Z"
   },
   {
    "duration": 191,
    "start_time": "2023-03-15T10:21:07.043Z"
   },
   {
    "duration": 18,
    "start_time": "2023-03-15T10:21:23.047Z"
   },
   {
    "duration": 213,
    "start_time": "2023-03-15T10:21:53.141Z"
   },
   {
    "duration": 85,
    "start_time": "2023-03-15T10:23:43.347Z"
   },
   {
    "duration": 108,
    "start_time": "2023-03-15T10:23:51.981Z"
   },
   {
    "duration": 106,
    "start_time": "2023-03-15T10:24:38.555Z"
   },
   {
    "duration": 277,
    "start_time": "2023-03-15T10:25:27.627Z"
   },
   {
    "duration": 118,
    "start_time": "2023-03-15T10:25:31.949Z"
   },
   {
    "duration": 94,
    "start_time": "2023-03-15T10:25:37.441Z"
   },
   {
    "duration": 24,
    "start_time": "2023-03-15T10:27:16.143Z"
   },
   {
    "duration": 28,
    "start_time": "2023-03-15T10:27:19.752Z"
   },
   {
    "duration": 239,
    "start_time": "2023-03-15T10:27:29.120Z"
   },
   {
    "duration": 224,
    "start_time": "2023-03-15T10:28:09.278Z"
   },
   {
    "duration": 237,
    "start_time": "2023-03-15T10:29:10.249Z"
   },
   {
    "duration": 246,
    "start_time": "2023-03-15T10:29:18.516Z"
   },
   {
    "duration": 110,
    "start_time": "2023-03-15T10:29:33.844Z"
   },
   {
    "duration": 198,
    "start_time": "2023-03-15T10:29:39.841Z"
   },
   {
    "duration": 282,
    "start_time": "2023-03-15T10:30:04.183Z"
   },
   {
    "duration": 228,
    "start_time": "2023-03-15T10:31:13.053Z"
   },
   {
    "duration": 246,
    "start_time": "2023-03-15T10:32:20.936Z"
   },
   {
    "duration": 232,
    "start_time": "2023-03-15T10:32:30.767Z"
   },
   {
    "duration": 235,
    "start_time": "2023-03-15T10:32:45.567Z"
   },
   {
    "duration": 14,
    "start_time": "2023-03-15T10:33:21.246Z"
   },
   {
    "duration": 5,
    "start_time": "2023-03-15T10:33:34.412Z"
   },
   {
    "duration": 11,
    "start_time": "2023-03-15T10:33:37.717Z"
   },
   {
    "duration": 10,
    "start_time": "2023-03-15T10:33:42.342Z"
   },
   {
    "duration": 1305,
    "start_time": "2023-03-15T14:03:02.751Z"
   },
   {
    "duration": 197,
    "start_time": "2023-03-15T14:03:04.058Z"
   },
   {
    "duration": 660,
    "start_time": "2023-03-15T14:03:04.257Z"
   },
   {
    "duration": 5,
    "start_time": "2023-03-15T14:03:04.919Z"
   },
   {
    "duration": 19,
    "start_time": "2023-03-15T14:03:04.926Z"
   },
   {
    "duration": 25,
    "start_time": "2023-03-15T14:03:04.946Z"
   },
   {
    "duration": 75,
    "start_time": "2023-03-15T14:03:04.973Z"
   },
   {
    "duration": 11,
    "start_time": "2023-03-15T14:03:05.050Z"
   },
   {
    "duration": 20,
    "start_time": "2023-03-15T14:03:05.062Z"
   },
   {
    "duration": 41,
    "start_time": "2023-03-15T14:03:05.084Z"
   },
   {
    "duration": 21,
    "start_time": "2023-03-15T14:03:05.127Z"
   },
   {
    "duration": 3,
    "start_time": "2023-03-15T14:03:05.150Z"
   },
   {
    "duration": 22,
    "start_time": "2023-03-15T14:03:05.155Z"
   },
   {
    "duration": 7,
    "start_time": "2023-03-15T14:03:05.181Z"
   },
   {
    "duration": 40,
    "start_time": "2023-03-15T14:03:05.190Z"
   },
   {
    "duration": 8,
    "start_time": "2023-03-15T14:03:05.232Z"
   },
   {
    "duration": 41,
    "start_time": "2023-03-15T14:03:05.241Z"
   },
   {
    "duration": 393,
    "start_time": "2023-03-15T14:03:05.283Z"
   },
   {
    "duration": 13,
    "start_time": "2023-03-15T14:03:05.678Z"
   },
   {
    "duration": 14,
    "start_time": "2023-03-15T14:03:05.693Z"
   },
   {
    "duration": 314,
    "start_time": "2023-03-15T14:03:05.709Z"
   },
   {
    "duration": 147,
    "start_time": "2023-03-15T14:03:06.025Z"
   },
   {
    "duration": 151,
    "start_time": "2023-03-15T14:03:06.174Z"
   },
   {
    "duration": 237,
    "start_time": "2023-03-15T14:03:06.327Z"
   },
   {
    "duration": 4,
    "start_time": "2023-03-15T14:03:06.565Z"
   },
   {
    "duration": 44,
    "start_time": "2023-03-15T14:03:06.570Z"
   },
   {
    "duration": 6,
    "start_time": "2023-03-15T14:03:06.624Z"
   },
   {
    "duration": 12,
    "start_time": "2023-03-15T14:03:06.631Z"
   },
   {
    "duration": 24,
    "start_time": "2023-03-15T14:03:06.644Z"
   },
   {
    "duration": 291,
    "start_time": "2023-03-15T14:03:06.670Z"
   },
   {
    "duration": 9,
    "start_time": "2023-03-15T14:03:06.962Z"
   },
   {
    "duration": 11,
    "start_time": "2023-03-15T14:03:06.972Z"
   },
   {
    "duration": 13,
    "start_time": "2023-03-15T14:03:06.985Z"
   },
   {
    "duration": 42,
    "start_time": "2023-03-15T14:03:06.999Z"
   },
   {
    "duration": 287,
    "start_time": "2023-03-15T14:03:07.043Z"
   },
   {
    "duration": 0,
    "start_time": "2023-03-15T14:03:07.331Z"
   },
   {
    "duration": 0,
    "start_time": "2023-03-15T14:03:07.333Z"
   },
   {
    "duration": 10,
    "start_time": "2023-03-15T14:03:12.749Z"
   },
   {
    "duration": 210,
    "start_time": "2023-03-15T14:03:17.208Z"
   },
   {
    "duration": 10,
    "start_time": "2023-03-15T14:08:36.054Z"
   },
   {
    "duration": 208,
    "start_time": "2023-03-15T14:08:52.537Z"
   },
   {
    "duration": 551,
    "start_time": "2023-03-15T14:11:22.399Z"
   },
   {
    "duration": 742,
    "start_time": "2023-03-15T14:11:31.808Z"
   },
   {
    "duration": 502,
    "start_time": "2023-03-15T14:11:39.423Z"
   },
   {
    "duration": 270,
    "start_time": "2023-03-15T14:13:11.248Z"
   },
   {
    "duration": 18,
    "start_time": "2023-03-15T14:13:43.205Z"
   },
   {
    "duration": 14,
    "start_time": "2023-03-15T14:14:10.800Z"
   },
   {
    "duration": 258,
    "start_time": "2023-03-15T14:14:14.199Z"
   },
   {
    "duration": 234,
    "start_time": "2023-03-15T14:14:38.710Z"
   },
   {
    "duration": 271,
    "start_time": "2023-03-15T14:15:06.209Z"
   },
   {
    "duration": 236,
    "start_time": "2023-03-15T14:15:17.214Z"
   },
   {
    "duration": 308,
    "start_time": "2023-03-15T14:15:50.406Z"
   },
   {
    "duration": 375,
    "start_time": "2023-03-15T14:16:34.454Z"
   },
   {
    "duration": 264,
    "start_time": "2023-03-15T14:16:48.043Z"
   },
   {
    "duration": 250,
    "start_time": "2023-03-15T14:16:57.499Z"
   },
   {
    "duration": 282,
    "start_time": "2023-03-15T14:17:04.016Z"
   },
   {
    "duration": 287,
    "start_time": "2023-03-15T14:17:44.491Z"
   },
   {
    "duration": 236,
    "start_time": "2023-03-15T14:17:49.517Z"
   },
   {
    "duration": 6,
    "start_time": "2023-03-15T14:22:40.094Z"
   },
   {
    "duration": 7,
    "start_time": "2023-03-15T14:22:54.340Z"
   },
   {
    "duration": 5,
    "start_time": "2023-03-15T14:23:56.952Z"
   },
   {
    "duration": 6,
    "start_time": "2023-03-15T14:23:58.144Z"
   },
   {
    "duration": 6,
    "start_time": "2023-03-15T14:23:59.798Z"
   },
   {
    "duration": 1014,
    "start_time": "2023-03-15T14:24:36.008Z"
   },
   {
    "duration": 224,
    "start_time": "2023-03-15T14:24:52.722Z"
   },
   {
    "duration": 279,
    "start_time": "2023-03-15T14:25:20.115Z"
   },
   {
    "duration": 7,
    "start_time": "2023-03-15T14:26:05.044Z"
   },
   {
    "duration": 45,
    "start_time": "2023-03-15T14:26:18.088Z"
   },
   {
    "duration": 7,
    "start_time": "2023-03-15T14:26:27.437Z"
   },
   {
    "duration": 6,
    "start_time": "2023-03-15T14:26:43.101Z"
   },
   {
    "duration": 5,
    "start_time": "2023-03-15T14:26:44.605Z"
   },
   {
    "duration": 197,
    "start_time": "2023-03-15T14:26:46.655Z"
   },
   {
    "duration": 214,
    "start_time": "2023-03-15T14:27:08.712Z"
   },
   {
    "duration": 239,
    "start_time": "2023-03-15T14:27:16.590Z"
   },
   {
    "duration": 255,
    "start_time": "2023-03-15T14:27:59.109Z"
   },
   {
    "duration": 231,
    "start_time": "2023-03-15T14:28:42.192Z"
   },
   {
    "duration": 232,
    "start_time": "2023-03-15T14:29:02.456Z"
   },
   {
    "duration": 7,
    "start_time": "2023-03-15T14:29:50.206Z"
   },
   {
    "duration": 7,
    "start_time": "2023-03-15T14:29:51.848Z"
   },
   {
    "duration": 7,
    "start_time": "2023-03-15T14:29:53.433Z"
   },
   {
    "duration": 335,
    "start_time": "2023-03-15T14:30:15.054Z"
   },
   {
    "duration": 13,
    "start_time": "2023-03-15T14:31:59.517Z"
   },
   {
    "duration": 254,
    "start_time": "2023-03-15T14:32:32.728Z"
   },
   {
    "duration": 104,
    "start_time": "2023-03-15T14:32:44.338Z"
   },
   {
    "duration": 80,
    "start_time": "2023-03-15T14:33:16.213Z"
   },
   {
    "duration": 82,
    "start_time": "2023-03-15T14:33:30.193Z"
   },
   {
    "duration": 3,
    "start_time": "2023-03-15T14:34:29.201Z"
   },
   {
    "duration": 274,
    "start_time": "2023-03-15T14:36:47.757Z"
   },
   {
    "duration": 3,
    "start_time": "2023-03-15T14:38:04.238Z"
   },
   {
    "duration": 3,
    "start_time": "2023-03-15T14:38:21.696Z"
   },
   {
    "duration": 7,
    "start_time": "2023-03-15T14:50:09.805Z"
   },
   {
    "duration": 7,
    "start_time": "2023-03-15T14:50:22.212Z"
   },
   {
    "duration": 8,
    "start_time": "2023-03-15T14:50:27.709Z"
   },
   {
    "duration": 8,
    "start_time": "2023-03-15T14:50:44.043Z"
   },
   {
    "duration": 10,
    "start_time": "2023-03-15T14:51:00.302Z"
   },
   {
    "duration": 8,
    "start_time": "2023-03-15T14:51:04.597Z"
   },
   {
    "duration": 250,
    "start_time": "2023-03-15T14:52:39.211Z"
   },
   {
    "duration": 261,
    "start_time": "2023-03-15T14:52:55.372Z"
   },
   {
    "duration": 3,
    "start_time": "2023-03-15T15:15:45.112Z"
   },
   {
    "duration": 8,
    "start_time": "2023-03-15T15:16:00.706Z"
   },
   {
    "duration": 26,
    "start_time": "2023-03-15T15:16:05.706Z"
   },
   {
    "duration": 50,
    "start_time": "2023-03-15T15:16:27.902Z"
   },
   {
    "duration": 3,
    "start_time": "2023-03-15T15:16:43.327Z"
   },
   {
    "duration": 560,
    "start_time": "2023-03-15T15:16:45.205Z"
   },
   {
    "duration": 152,
    "start_time": "2023-03-15T15:19:21.164Z"
   },
   {
    "duration": 5,
    "start_time": "2023-03-15T15:20:04.802Z"
   },
   {
    "duration": 5,
    "start_time": "2023-03-15T15:20:35.005Z"
   },
   {
    "duration": 4,
    "start_time": "2023-03-15T15:20:51.665Z"
   },
   {
    "duration": 1520,
    "start_time": "2023-03-15T18:45:35.821Z"
   },
   {
    "duration": 153,
    "start_time": "2023-03-15T18:45:37.344Z"
   },
   {
    "duration": 725,
    "start_time": "2023-03-15T18:45:37.501Z"
   },
   {
    "duration": 3,
    "start_time": "2023-03-15T18:45:38.228Z"
   },
   {
    "duration": 10,
    "start_time": "2023-03-15T18:45:38.234Z"
   },
   {
    "duration": 16,
    "start_time": "2023-03-15T18:45:38.246Z"
   },
   {
    "duration": 102,
    "start_time": "2023-03-15T18:45:38.264Z"
   },
   {
    "duration": 14,
    "start_time": "2023-03-15T18:45:38.368Z"
   },
   {
    "duration": 51,
    "start_time": "2023-03-15T18:45:38.384Z"
   },
   {
    "duration": 21,
    "start_time": "2023-03-15T18:45:38.437Z"
   },
   {
    "duration": 24,
    "start_time": "2023-03-15T18:45:38.459Z"
   },
   {
    "duration": 36,
    "start_time": "2023-03-15T18:45:38.486Z"
   },
   {
    "duration": 30,
    "start_time": "2023-03-15T18:45:38.524Z"
   },
   {
    "duration": 7,
    "start_time": "2023-03-15T18:45:38.557Z"
   },
   {
    "duration": 20,
    "start_time": "2023-03-15T18:45:38.566Z"
   },
   {
    "duration": 21,
    "start_time": "2023-03-15T18:45:38.587Z"
   },
   {
    "duration": 42,
    "start_time": "2023-03-15T18:45:38.610Z"
   },
   {
    "duration": 459,
    "start_time": "2023-03-15T18:45:38.654Z"
   },
   {
    "duration": 19,
    "start_time": "2023-03-15T18:45:39.117Z"
   },
   {
    "duration": 17,
    "start_time": "2023-03-15T18:45:39.138Z"
   },
   {
    "duration": 351,
    "start_time": "2023-03-15T18:45:39.157Z"
   },
   {
    "duration": 162,
    "start_time": "2023-03-15T18:45:39.514Z"
   },
   {
    "duration": 179,
    "start_time": "2023-03-15T18:45:39.678Z"
   },
   {
    "duration": 255,
    "start_time": "2023-03-15T18:45:39.858Z"
   },
   {
    "duration": 10,
    "start_time": "2023-03-15T18:45:40.114Z"
   },
   {
    "duration": 41,
    "start_time": "2023-03-15T18:45:40.126Z"
   },
   {
    "duration": 7,
    "start_time": "2023-03-15T18:45:40.169Z"
   },
   {
    "duration": 19,
    "start_time": "2023-03-15T18:45:40.198Z"
   },
   {
    "duration": 24,
    "start_time": "2023-03-15T18:45:40.220Z"
   },
   {
    "duration": 322,
    "start_time": "2023-03-15T18:45:40.246Z"
   },
   {
    "duration": 7,
    "start_time": "2023-03-15T18:45:40.570Z"
   },
   {
    "duration": 48,
    "start_time": "2023-03-15T18:45:40.579Z"
   },
   {
    "duration": 7,
    "start_time": "2023-03-15T18:45:40.629Z"
   },
   {
    "duration": 268,
    "start_time": "2023-03-15T18:45:40.638Z"
   },
   {
    "duration": 8,
    "start_time": "2023-03-15T18:45:40.912Z"
   },
   {
    "duration": 6,
    "start_time": "2023-03-15T18:45:40.922Z"
   },
   {
    "duration": 9,
    "start_time": "2023-03-15T18:45:40.930Z"
   },
   {
    "duration": 8,
    "start_time": "2023-03-15T18:45:40.941Z"
   },
   {
    "duration": 10,
    "start_time": "2023-03-15T18:45:40.951Z"
   },
   {
    "duration": 291,
    "start_time": "2023-03-15T18:45:40.963Z"
   },
   {
    "duration": 4,
    "start_time": "2023-03-15T18:45:41.257Z"
   },
   {
    "duration": 7,
    "start_time": "2023-03-15T18:45:41.263Z"
   },
   {
    "duration": 428,
    "start_time": "2023-03-15T18:45:41.271Z"
   },
   {
    "duration": 14,
    "start_time": "2023-03-15T18:52:43.412Z"
   },
   {
    "duration": 345,
    "start_time": "2023-03-15T18:53:06.797Z"
   },
   {
    "duration": 1246,
    "start_time": "2023-03-15T18:53:24.235Z"
   },
   {
    "duration": 97,
    "start_time": "2023-03-15T18:53:25.483Z"
   },
   {
    "duration": 731,
    "start_time": "2023-03-15T18:53:25.582Z"
   },
   {
    "duration": 3,
    "start_time": "2023-03-15T18:53:26.315Z"
   },
   {
    "duration": 27,
    "start_time": "2023-03-15T18:53:26.320Z"
   },
   {
    "duration": 35,
    "start_time": "2023-03-15T18:53:26.349Z"
   },
   {
    "duration": 137,
    "start_time": "2023-03-15T18:53:26.387Z"
   },
   {
    "duration": 11,
    "start_time": "2023-03-15T18:53:26.526Z"
   },
   {
    "duration": 24,
    "start_time": "2023-03-15T18:53:26.539Z"
   },
   {
    "duration": 43,
    "start_time": "2023-03-15T18:53:26.566Z"
   },
   {
    "duration": 25,
    "start_time": "2023-03-15T18:53:26.616Z"
   },
   {
    "duration": 3,
    "start_time": "2023-03-15T18:53:26.643Z"
   },
   {
    "duration": 30,
    "start_time": "2023-03-15T18:53:26.648Z"
   },
   {
    "duration": 10,
    "start_time": "2023-03-15T18:53:26.680Z"
   },
   {
    "duration": 35,
    "start_time": "2023-03-15T18:53:26.694Z"
   },
   {
    "duration": 7,
    "start_time": "2023-03-15T18:53:26.731Z"
   },
   {
    "duration": 26,
    "start_time": "2023-03-15T18:53:26.740Z"
   },
   {
    "duration": 465,
    "start_time": "2023-03-15T18:53:30.116Z"
   },
   {
    "duration": 1091,
    "start_time": "2023-03-15T18:54:19.440Z"
   },
   {
    "duration": 489,
    "start_time": "2023-03-15T18:54:27.635Z"
   },
   {
    "duration": 492,
    "start_time": "2023-03-15T18:54:42.359Z"
   },
   {
    "duration": 411,
    "start_time": "2023-03-15T18:54:50.708Z"
   },
   {
    "duration": 431,
    "start_time": "2023-03-15T18:55:01.537Z"
   },
   {
    "duration": 476,
    "start_time": "2023-03-15T18:55:53.752Z"
   },
   {
    "duration": 1453,
    "start_time": "2023-03-16T06:19:07.484Z"
   },
   {
    "duration": 157,
    "start_time": "2023-03-16T06:19:08.940Z"
   },
   {
    "duration": 734,
    "start_time": "2023-03-16T06:19:09.099Z"
   },
   {
    "duration": 4,
    "start_time": "2023-03-16T06:19:09.835Z"
   },
   {
    "duration": 21,
    "start_time": "2023-03-16T06:19:09.841Z"
   },
   {
    "duration": 41,
    "start_time": "2023-03-16T06:19:09.865Z"
   },
   {
    "duration": 83,
    "start_time": "2023-03-16T06:19:09.909Z"
   },
   {
    "duration": 12,
    "start_time": "2023-03-16T06:19:09.995Z"
   },
   {
    "duration": 30,
    "start_time": "2023-03-16T06:19:10.009Z"
   },
   {
    "duration": 38,
    "start_time": "2023-03-16T06:19:10.041Z"
   },
   {
    "duration": 20,
    "start_time": "2023-03-16T06:19:10.082Z"
   },
   {
    "duration": 3,
    "start_time": "2023-03-16T06:19:10.104Z"
   },
   {
    "duration": 36,
    "start_time": "2023-03-16T06:19:10.108Z"
   },
   {
    "duration": 22,
    "start_time": "2023-03-16T06:19:10.147Z"
   },
   {
    "duration": 17,
    "start_time": "2023-03-16T06:19:10.170Z"
   },
   {
    "duration": 13,
    "start_time": "2023-03-16T06:19:10.189Z"
   },
   {
    "duration": 35,
    "start_time": "2023-03-16T06:19:10.204Z"
   },
   {
    "duration": 524,
    "start_time": "2023-03-16T06:19:10.242Z"
   },
   {
    "duration": 452,
    "start_time": "2023-03-16T06:19:10.768Z"
   },
   {
    "duration": 16,
    "start_time": "2023-03-16T06:19:11.222Z"
   },
   {
    "duration": 15,
    "start_time": "2023-03-16T06:19:11.240Z"
   },
   {
    "duration": 444,
    "start_time": "2023-03-16T06:19:11.257Z"
   },
   {
    "duration": 182,
    "start_time": "2023-03-16T06:19:11.704Z"
   },
   {
    "duration": 181,
    "start_time": "2023-03-16T06:19:11.888Z"
   },
   {
    "duration": 171,
    "start_time": "2023-03-16T06:19:12.071Z"
   },
   {
    "duration": 4,
    "start_time": "2023-03-16T06:19:12.244Z"
   },
   {
    "duration": 54,
    "start_time": "2023-03-16T06:19:12.249Z"
   },
   {
    "duration": 8,
    "start_time": "2023-03-16T06:19:12.305Z"
   },
   {
    "duration": 10,
    "start_time": "2023-03-16T06:19:12.314Z"
   },
   {
    "duration": 46,
    "start_time": "2023-03-16T06:19:12.326Z"
   },
   {
    "duration": 329,
    "start_time": "2023-03-16T06:19:12.374Z"
   },
   {
    "duration": 9,
    "start_time": "2023-03-16T06:19:12.705Z"
   },
   {
    "duration": 11,
    "start_time": "2023-03-16T06:19:12.715Z"
   },
   {
    "duration": 15,
    "start_time": "2023-03-16T06:19:12.728Z"
   },
   {
    "duration": 275,
    "start_time": "2023-03-16T06:19:12.745Z"
   },
   {
    "duration": 3,
    "start_time": "2023-03-16T06:19:13.022Z"
   },
   {
    "duration": 8,
    "start_time": "2023-03-16T06:19:13.027Z"
   },
   {
    "duration": 30,
    "start_time": "2023-03-16T06:19:13.037Z"
   },
   {
    "duration": 9,
    "start_time": "2023-03-16T06:19:13.070Z"
   },
   {
    "duration": 14,
    "start_time": "2023-03-16T06:19:13.081Z"
   },
   {
    "duration": 298,
    "start_time": "2023-03-16T06:19:13.099Z"
   },
   {
    "duration": 3,
    "start_time": "2023-03-16T06:19:13.400Z"
   },
   {
    "duration": 9,
    "start_time": "2023-03-16T06:19:13.406Z"
   },
   {
    "duration": 397,
    "start_time": "2023-03-16T06:19:13.417Z"
   },
   {
    "duration": 99,
    "start_time": "2023-03-16T06:25:19.574Z"
   },
   {
    "duration": 74,
    "start_time": "2023-03-16T06:25:38.391Z"
   },
   {
    "duration": 80,
    "start_time": "2023-03-16T06:26:06.620Z"
   },
   {
    "duration": 1268,
    "start_time": "2023-03-16T06:26:16.971Z"
   },
   {
    "duration": 89,
    "start_time": "2023-03-16T06:26:18.242Z"
   },
   {
    "duration": 731,
    "start_time": "2023-03-16T06:26:18.333Z"
   },
   {
    "duration": 4,
    "start_time": "2023-03-16T06:26:19.066Z"
   },
   {
    "duration": 13,
    "start_time": "2023-03-16T06:26:19.072Z"
   },
   {
    "duration": 22,
    "start_time": "2023-03-16T06:26:19.087Z"
   },
   {
    "duration": 102,
    "start_time": "2023-03-16T06:26:19.111Z"
   },
   {
    "duration": 13,
    "start_time": "2023-03-16T06:26:19.214Z"
   },
   {
    "duration": 37,
    "start_time": "2023-03-16T06:26:19.228Z"
   },
   {
    "duration": 22,
    "start_time": "2023-03-16T06:26:19.267Z"
   },
   {
    "duration": 20,
    "start_time": "2023-03-16T06:26:19.290Z"
   },
   {
    "duration": 69,
    "start_time": "2023-03-16T06:26:19.312Z"
   },
   {
    "duration": 0,
    "start_time": "2023-03-16T06:26:19.385Z"
   },
   {
    "duration": 0,
    "start_time": "2023-03-16T06:26:19.387Z"
   },
   {
    "duration": 0,
    "start_time": "2023-03-16T06:26:19.389Z"
   },
   {
    "duration": 0,
    "start_time": "2023-03-16T06:26:19.390Z"
   },
   {
    "duration": 0,
    "start_time": "2023-03-16T06:26:19.392Z"
   },
   {
    "duration": 0,
    "start_time": "2023-03-16T06:26:19.394Z"
   },
   {
    "duration": 0,
    "start_time": "2023-03-16T06:26:19.396Z"
   },
   {
    "duration": 0,
    "start_time": "2023-03-16T06:26:19.397Z"
   },
   {
    "duration": 0,
    "start_time": "2023-03-16T06:26:19.399Z"
   },
   {
    "duration": 0,
    "start_time": "2023-03-16T06:26:19.401Z"
   },
   {
    "duration": 0,
    "start_time": "2023-03-16T06:26:19.403Z"
   },
   {
    "duration": 0,
    "start_time": "2023-03-16T06:26:19.404Z"
   },
   {
    "duration": 0,
    "start_time": "2023-03-16T06:26:19.407Z"
   },
   {
    "duration": 0,
    "start_time": "2023-03-16T06:26:19.408Z"
   },
   {
    "duration": 0,
    "start_time": "2023-03-16T06:26:19.410Z"
   },
   {
    "duration": 0,
    "start_time": "2023-03-16T06:26:19.412Z"
   },
   {
    "duration": 0,
    "start_time": "2023-03-16T06:26:19.413Z"
   },
   {
    "duration": 0,
    "start_time": "2023-03-16T06:26:19.415Z"
   },
   {
    "duration": 0,
    "start_time": "2023-03-16T06:26:19.416Z"
   },
   {
    "duration": 0,
    "start_time": "2023-03-16T06:26:19.418Z"
   },
   {
    "duration": 0,
    "start_time": "2023-03-16T06:26:19.419Z"
   },
   {
    "duration": 1,
    "start_time": "2023-03-16T06:26:19.420Z"
   },
   {
    "duration": 0,
    "start_time": "2023-03-16T06:26:19.465Z"
   },
   {
    "duration": 0,
    "start_time": "2023-03-16T06:26:19.467Z"
   },
   {
    "duration": 0,
    "start_time": "2023-03-16T06:26:19.469Z"
   },
   {
    "duration": 0,
    "start_time": "2023-03-16T06:26:19.471Z"
   },
   {
    "duration": 0,
    "start_time": "2023-03-16T06:26:19.473Z"
   },
   {
    "duration": 0,
    "start_time": "2023-03-16T06:26:19.474Z"
   },
   {
    "duration": 0,
    "start_time": "2023-03-16T06:26:19.476Z"
   },
   {
    "duration": 0,
    "start_time": "2023-03-16T06:26:19.478Z"
   },
   {
    "duration": 0,
    "start_time": "2023-03-16T06:26:19.479Z"
   },
   {
    "duration": 0,
    "start_time": "2023-03-16T06:26:19.481Z"
   },
   {
    "duration": 98,
    "start_time": "2023-03-16T06:26:54.800Z"
   },
   {
    "duration": 11,
    "start_time": "2023-03-16T06:27:21.429Z"
   },
   {
    "duration": 6,
    "start_time": "2023-03-16T06:28:48.372Z"
   },
   {
    "duration": 3,
    "start_time": "2023-03-16T06:28:53.104Z"
   },
   {
    "duration": 101,
    "start_time": "2023-03-16T06:28:53.110Z"
   },
   {
    "duration": 834,
    "start_time": "2023-03-16T06:28:53.213Z"
   },
   {
    "duration": 4,
    "start_time": "2023-03-16T06:28:54.049Z"
   },
   {
    "duration": 17,
    "start_time": "2023-03-16T06:28:54.063Z"
   },
   {
    "duration": 19,
    "start_time": "2023-03-16T06:28:54.082Z"
   },
   {
    "duration": 99,
    "start_time": "2023-03-16T06:28:54.104Z"
   },
   {
    "duration": 11,
    "start_time": "2023-03-16T06:28:54.206Z"
   },
   {
    "duration": 26,
    "start_time": "2023-03-16T06:28:54.219Z"
   },
   {
    "duration": 20,
    "start_time": "2023-03-16T06:28:54.247Z"
   },
   {
    "duration": 27,
    "start_time": "2023-03-16T06:28:54.269Z"
   },
   {
    "duration": 21,
    "start_time": "2023-03-16T06:28:54.297Z"
   },
   {
    "duration": 20,
    "start_time": "2023-03-16T06:28:54.320Z"
   },
   {
    "duration": 10,
    "start_time": "2023-03-16T06:28:54.365Z"
   },
   {
    "duration": 48,
    "start_time": "2023-03-16T06:28:54.377Z"
   },
   {
    "duration": 11,
    "start_time": "2023-03-16T06:28:54.429Z"
   },
   {
    "duration": 55,
    "start_time": "2023-03-16T06:28:54.442Z"
   },
   {
    "duration": 672,
    "start_time": "2023-03-16T06:28:54.500Z"
   },
   {
    "duration": 470,
    "start_time": "2023-03-16T06:28:55.174Z"
   },
   {
    "duration": 17,
    "start_time": "2023-03-16T06:28:55.646Z"
   },
   {
    "duration": 15,
    "start_time": "2023-03-16T06:28:55.666Z"
   },
   {
    "duration": 367,
    "start_time": "2023-03-16T06:28:55.683Z"
   },
   {
    "duration": 190,
    "start_time": "2023-03-16T06:28:56.052Z"
   },
   {
    "duration": 178,
    "start_time": "2023-03-16T06:28:56.245Z"
   },
   {
    "duration": 191,
    "start_time": "2023-03-16T06:28:56.426Z"
   },
   {
    "duration": 4,
    "start_time": "2023-03-16T06:28:56.619Z"
   },
   {
    "duration": 80,
    "start_time": "2023-03-16T06:28:56.625Z"
   },
   {
    "duration": 19,
    "start_time": "2023-03-16T06:28:56.707Z"
   },
   {
    "duration": 35,
    "start_time": "2023-03-16T06:28:56.730Z"
   },
   {
    "duration": 56,
    "start_time": "2023-03-16T06:28:56.768Z"
   },
   {
    "duration": 353,
    "start_time": "2023-03-16T06:28:56.827Z"
   },
   {
    "duration": 10,
    "start_time": "2023-03-16T06:28:57.182Z"
   },
   {
    "duration": 25,
    "start_time": "2023-03-16T06:28:57.194Z"
   },
   {
    "duration": 13,
    "start_time": "2023-03-16T06:28:57.221Z"
   },
   {
    "duration": 267,
    "start_time": "2023-03-16T06:28:57.237Z"
   },
   {
    "duration": 3,
    "start_time": "2023-03-16T06:28:57.506Z"
   },
   {
    "duration": 19,
    "start_time": "2023-03-16T06:28:57.510Z"
   },
   {
    "duration": 17,
    "start_time": "2023-03-16T06:28:57.531Z"
   },
   {
    "duration": 9,
    "start_time": "2023-03-16T06:28:57.550Z"
   },
   {
    "duration": 12,
    "start_time": "2023-03-16T06:28:57.560Z"
   },
   {
    "duration": 295,
    "start_time": "2023-03-16T06:28:57.576Z"
   },
   {
    "duration": 5,
    "start_time": "2023-03-16T06:28:57.873Z"
   },
   {
    "duration": 14,
    "start_time": "2023-03-16T06:28:57.880Z"
   },
   {
    "duration": 392,
    "start_time": "2023-03-16T06:28:57.896Z"
   },
   {
    "duration": 8,
    "start_time": "2023-03-16T06:31:00.778Z"
   },
   {
    "duration": 114,
    "start_time": "2023-03-16T06:32:19.969Z"
   },
   {
    "duration": 18,
    "start_time": "2023-03-16T06:32:43.920Z"
   },
   {
    "duration": 223,
    "start_time": "2023-03-16T06:32:58.694Z"
   },
   {
    "duration": 12,
    "start_time": "2023-03-16T06:33:32.543Z"
   },
   {
    "duration": 7,
    "start_time": "2023-03-16T06:33:41.721Z"
   },
   {
    "duration": 8,
    "start_time": "2023-03-16T06:34:15.978Z"
   },
   {
    "duration": 73,
    "start_time": "2023-03-16T06:34:30.816Z"
   },
   {
    "duration": 91,
    "start_time": "2023-03-16T06:34:43.723Z"
   },
   {
    "duration": 188,
    "start_time": "2023-03-16T06:34:47.734Z"
   },
   {
    "duration": 136,
    "start_time": "2023-03-16T06:34:55.643Z"
   },
   {
    "duration": 139,
    "start_time": "2023-03-16T06:35:44.086Z"
   },
   {
    "duration": 148,
    "start_time": "2023-03-16T06:35:50.741Z"
   },
   {
    "duration": 151,
    "start_time": "2023-03-16T06:36:03.714Z"
   },
   {
    "duration": 149,
    "start_time": "2023-03-16T06:36:43.800Z"
   },
   {
    "duration": 144,
    "start_time": "2023-03-16T06:36:58.422Z"
   },
   {
    "duration": 303,
    "start_time": "2023-03-16T07:05:32.620Z"
   },
   {
    "duration": 143,
    "start_time": "2023-03-16T07:05:39.241Z"
   },
   {
    "duration": 315,
    "start_time": "2023-03-16T07:05:41.323Z"
   },
   {
    "duration": 413,
    "start_time": "2023-03-16T07:06:06.190Z"
   },
   {
    "duration": 140,
    "start_time": "2023-03-16T07:06:28.738Z"
   },
   {
    "duration": 316,
    "start_time": "2023-03-16T07:06:57.311Z"
   },
   {
    "duration": 1558,
    "start_time": "2023-03-16T09:16:25.385Z"
   },
   {
    "duration": 143,
    "start_time": "2023-03-16T09:16:26.945Z"
   },
   {
    "duration": 718,
    "start_time": "2023-03-16T09:16:27.090Z"
   },
   {
    "duration": 4,
    "start_time": "2023-03-16T09:16:27.810Z"
   },
   {
    "duration": 22,
    "start_time": "2023-03-16T09:16:27.816Z"
   },
   {
    "duration": 21,
    "start_time": "2023-03-16T09:16:27.840Z"
   },
   {
    "duration": 97,
    "start_time": "2023-03-16T09:16:27.864Z"
   },
   {
    "duration": 28,
    "start_time": "2023-03-16T09:16:27.964Z"
   },
   {
    "duration": 22,
    "start_time": "2023-03-16T09:16:27.994Z"
   },
   {
    "duration": 11,
    "start_time": "2023-03-16T09:16:28.018Z"
   },
   {
    "duration": 29,
    "start_time": "2023-03-16T09:16:28.030Z"
   },
   {
    "duration": 27,
    "start_time": "2023-03-16T09:16:28.061Z"
   },
   {
    "duration": 20,
    "start_time": "2023-03-16T09:16:28.090Z"
   },
   {
    "duration": 10,
    "start_time": "2023-03-16T09:16:28.115Z"
   },
   {
    "duration": 30,
    "start_time": "2023-03-16T09:16:28.127Z"
   },
   {
    "duration": 26,
    "start_time": "2023-03-16T09:16:28.158Z"
   },
   {
    "duration": 28,
    "start_time": "2023-03-16T09:16:28.186Z"
   },
   {
    "duration": 531,
    "start_time": "2023-03-16T09:16:28.215Z"
   },
   {
    "duration": 451,
    "start_time": "2023-03-16T09:16:28.748Z"
   },
   {
    "duration": 17,
    "start_time": "2023-03-16T09:16:29.201Z"
   },
   {
    "duration": 15,
    "start_time": "2023-03-16T09:16:29.220Z"
   },
   {
    "duration": 335,
    "start_time": "2023-03-16T09:16:29.237Z"
   },
   {
    "duration": 262,
    "start_time": "2023-03-16T09:16:29.580Z"
   },
   {
    "duration": 173,
    "start_time": "2023-03-16T09:16:29.844Z"
   },
   {
    "duration": 186,
    "start_time": "2023-03-16T09:16:30.019Z"
   },
   {
    "duration": 4,
    "start_time": "2023-03-16T09:16:30.208Z"
   },
   {
    "duration": 68,
    "start_time": "2023-03-16T09:16:30.214Z"
   },
   {
    "duration": 9,
    "start_time": "2023-03-16T09:16:30.284Z"
   },
   {
    "duration": 41,
    "start_time": "2023-03-16T09:16:30.294Z"
   },
   {
    "duration": 42,
    "start_time": "2023-03-16T09:16:30.338Z"
   },
   {
    "duration": 324,
    "start_time": "2023-03-16T09:16:30.382Z"
   },
   {
    "duration": 9,
    "start_time": "2023-03-16T09:16:30.708Z"
   },
   {
    "duration": 58,
    "start_time": "2023-03-16T09:16:30.719Z"
   },
   {
    "duration": 40,
    "start_time": "2023-03-16T09:16:30.779Z"
   },
   {
    "duration": 300,
    "start_time": "2023-03-16T09:16:30.822Z"
   },
   {
    "duration": 3,
    "start_time": "2023-03-16T09:16:31.124Z"
   },
   {
    "duration": 32,
    "start_time": "2023-03-16T09:16:31.128Z"
   },
   {
    "duration": 45,
    "start_time": "2023-03-16T09:16:31.162Z"
   },
   {
    "duration": 47,
    "start_time": "2023-03-16T09:16:31.209Z"
   },
   {
    "duration": 54,
    "start_time": "2023-03-16T09:16:31.258Z"
   },
   {
    "duration": 280,
    "start_time": "2023-03-16T09:16:31.317Z"
   },
   {
    "duration": 4,
    "start_time": "2023-03-16T09:16:31.599Z"
   },
   {
    "duration": 195,
    "start_time": "2023-03-16T09:16:31.605Z"
   },
   {
    "duration": 414,
    "start_time": "2023-03-16T09:16:31.802Z"
   },
   {
    "duration": 75,
    "start_time": "2023-03-16T09:23:06.367Z"
   },
   {
    "duration": 123,
    "start_time": "2023-03-16T09:23:14.383Z"
   },
   {
    "duration": 92,
    "start_time": "2023-03-16T09:23:27.119Z"
   },
   {
    "duration": 545,
    "start_time": "2023-03-16T09:29:48.311Z"
   },
   {
    "duration": 490,
    "start_time": "2023-03-16T09:30:20.243Z"
   },
   {
    "duration": 464,
    "start_time": "2023-03-16T09:30:41.547Z"
   },
   {
    "duration": 523,
    "start_time": "2023-03-16T09:31:35.540Z"
   },
   {
    "duration": 103,
    "start_time": "2023-03-16T09:33:45.217Z"
   },
   {
    "duration": 475,
    "start_time": "2023-03-16T09:33:56.125Z"
   },
   {
    "duration": 459,
    "start_time": "2023-03-16T09:34:03.636Z"
   },
   {
    "duration": 570,
    "start_time": "2023-03-16T09:36:24.223Z"
   },
   {
    "duration": 456,
    "start_time": "2023-03-16T09:38:23.016Z"
   },
   {
    "duration": 487,
    "start_time": "2023-03-16T09:40:33.813Z"
   },
   {
    "duration": 428,
    "start_time": "2023-03-16T09:40:42.268Z"
   },
   {
    "duration": 424,
    "start_time": "2023-03-16T09:41:53.408Z"
   },
   {
    "duration": 6,
    "start_time": "2023-03-16T09:42:23.044Z"
   },
   {
    "duration": 745,
    "start_time": "2023-03-16T09:42:25.369Z"
   },
   {
    "duration": 459,
    "start_time": "2023-03-16T09:42:56.573Z"
   },
   {
    "duration": 526,
    "start_time": "2023-03-16T09:43:13.116Z"
   },
   {
    "duration": 510,
    "start_time": "2023-03-16T09:43:38.523Z"
   },
   {
    "duration": 540,
    "start_time": "2023-03-16T09:43:51.440Z"
   },
   {
    "duration": 563,
    "start_time": "2023-03-16T09:44:23.554Z"
   },
   {
    "duration": 11,
    "start_time": "2023-03-16T09:45:04.972Z"
   },
   {
    "duration": 665,
    "start_time": "2023-03-16T09:45:06.884Z"
   },
   {
    "duration": 541,
    "start_time": "2023-03-16T09:45:13.923Z"
   },
   {
    "duration": 540,
    "start_time": "2023-03-16T09:45:28.114Z"
   },
   {
    "duration": 505,
    "start_time": "2023-03-16T09:45:58.703Z"
   },
   {
    "duration": 503,
    "start_time": "2023-03-16T09:46:10.604Z"
   },
   {
    "duration": 676,
    "start_time": "2023-03-16T09:46:51.019Z"
   },
   {
    "duration": 427,
    "start_time": "2023-03-16T09:46:59.516Z"
   },
   {
    "duration": 517,
    "start_time": "2023-03-16T09:47:05.703Z"
   },
   {
    "duration": 419,
    "start_time": "2023-03-16T09:47:16.500Z"
   },
   {
    "duration": 464,
    "start_time": "2023-03-16T09:47:22.503Z"
   },
   {
    "duration": 427,
    "start_time": "2023-03-16T09:48:07.927Z"
   },
   {
    "duration": 583,
    "start_time": "2023-03-16T09:48:17.744Z"
   },
   {
    "duration": 1245,
    "start_time": "2023-03-16T09:49:10.738Z"
   },
   {
    "duration": 96,
    "start_time": "2023-03-16T09:49:11.985Z"
   },
   {
    "duration": 793,
    "start_time": "2023-03-16T09:49:12.083Z"
   },
   {
    "duration": 4,
    "start_time": "2023-03-16T09:49:12.880Z"
   },
   {
    "duration": 18,
    "start_time": "2023-03-16T09:49:12.887Z"
   },
   {
    "duration": 18,
    "start_time": "2023-03-16T09:49:12.907Z"
   },
   {
    "duration": 103,
    "start_time": "2023-03-16T09:49:12.927Z"
   },
   {
    "duration": 12,
    "start_time": "2023-03-16T09:49:13.032Z"
   },
   {
    "duration": 32,
    "start_time": "2023-03-16T09:49:13.046Z"
   },
   {
    "duration": 8,
    "start_time": "2023-03-16T09:49:13.080Z"
   },
   {
    "duration": 28,
    "start_time": "2023-03-16T09:49:13.090Z"
   },
   {
    "duration": 20,
    "start_time": "2023-03-16T09:49:13.120Z"
   },
   {
    "duration": 39,
    "start_time": "2023-03-16T09:49:13.142Z"
   },
   {
    "duration": 10,
    "start_time": "2023-03-16T09:49:13.184Z"
   },
   {
    "duration": 13,
    "start_time": "2023-03-16T09:49:13.195Z"
   },
   {
    "duration": 9,
    "start_time": "2023-03-16T09:49:13.210Z"
   },
   {
    "duration": 62,
    "start_time": "2023-03-16T09:49:13.220Z"
   },
   {
    "duration": 460,
    "start_time": "2023-03-16T09:49:13.285Z"
   },
   {
    "duration": 453,
    "start_time": "2023-03-16T09:49:13.746Z"
   },
   {
    "duration": 16,
    "start_time": "2023-03-16T09:49:14.201Z"
   },
   {
    "duration": 20,
    "start_time": "2023-03-16T09:49:14.219Z"
   },
   {
    "duration": 321,
    "start_time": "2023-03-16T09:49:14.241Z"
   },
   {
    "duration": 269,
    "start_time": "2023-03-16T09:49:14.564Z"
   },
   {
    "duration": 179,
    "start_time": "2023-03-16T09:49:14.835Z"
   },
   {
    "duration": 191,
    "start_time": "2023-03-16T09:49:15.016Z"
   },
   {
    "duration": 4,
    "start_time": "2023-03-16T09:49:15.209Z"
   },
   {
    "duration": 47,
    "start_time": "2023-03-16T09:49:15.215Z"
   },
   {
    "duration": 8,
    "start_time": "2023-03-16T09:49:15.282Z"
   },
   {
    "duration": 13,
    "start_time": "2023-03-16T09:49:15.292Z"
   },
   {
    "duration": 31,
    "start_time": "2023-03-16T09:49:15.307Z"
   },
   {
    "duration": 332,
    "start_time": "2023-03-16T09:49:15.340Z"
   },
   {
    "duration": 12,
    "start_time": "2023-03-16T09:49:15.674Z"
   },
   {
    "duration": 12,
    "start_time": "2023-03-16T09:49:15.688Z"
   },
   {
    "duration": 22,
    "start_time": "2023-03-16T09:49:15.701Z"
   },
   {
    "duration": 299,
    "start_time": "2023-03-16T09:49:15.724Z"
   },
   {
    "duration": 4,
    "start_time": "2023-03-16T09:49:16.025Z"
   },
   {
    "duration": 50,
    "start_time": "2023-03-16T09:49:16.031Z"
   },
   {
    "duration": 43,
    "start_time": "2023-03-16T09:49:16.083Z"
   },
   {
    "duration": 14,
    "start_time": "2023-03-16T09:49:16.128Z"
   },
   {
    "duration": 16,
    "start_time": "2023-03-16T09:49:16.145Z"
   },
   {
    "duration": 319,
    "start_time": "2023-03-16T09:49:16.166Z"
   },
   {
    "duration": 6,
    "start_time": "2023-03-16T09:49:16.488Z"
   },
   {
    "duration": 16,
    "start_time": "2023-03-16T09:49:16.496Z"
   },
   {
    "duration": 443,
    "start_time": "2023-03-16T09:49:16.514Z"
   },
   {
    "duration": 10,
    "start_time": "2023-03-16T10:06:35.451Z"
   },
   {
    "duration": 491,
    "start_time": "2023-03-16T10:07:26.175Z"
   },
   {
    "duration": 506,
    "start_time": "2023-03-16T10:07:39.279Z"
   },
   {
    "duration": 385,
    "start_time": "2023-03-16T10:08:23.055Z"
   },
   {
    "duration": 308,
    "start_time": "2023-03-16T10:08:41.092Z"
   },
   {
    "duration": 1485,
    "start_time": "2023-03-16T15:55:46.558Z"
   },
   {
    "duration": 145,
    "start_time": "2023-03-16T15:55:48.045Z"
   },
   {
    "duration": 829,
    "start_time": "2023-03-16T15:55:48.192Z"
   },
   {
    "duration": 4,
    "start_time": "2023-03-16T15:55:49.024Z"
   },
   {
    "duration": 37,
    "start_time": "2023-03-16T15:55:49.031Z"
   },
   {
    "duration": 22,
    "start_time": "2023-03-16T15:55:49.070Z"
   },
   {
    "duration": 96,
    "start_time": "2023-03-16T15:55:49.094Z"
   },
   {
    "duration": 12,
    "start_time": "2023-03-16T15:55:49.192Z"
   },
   {
    "duration": 26,
    "start_time": "2023-03-16T15:55:49.206Z"
   },
   {
    "duration": 7,
    "start_time": "2023-03-16T15:55:49.234Z"
   },
   {
    "duration": 47,
    "start_time": "2023-03-16T15:55:49.243Z"
   },
   {
    "duration": 19,
    "start_time": "2023-03-16T15:55:49.292Z"
   },
   {
    "duration": 21,
    "start_time": "2023-03-16T15:55:49.313Z"
   },
   {
    "duration": 8,
    "start_time": "2023-03-16T15:55:49.337Z"
   },
   {
    "duration": 12,
    "start_time": "2023-03-16T15:55:49.373Z"
   },
   {
    "duration": 8,
    "start_time": "2023-03-16T15:55:49.387Z"
   },
   {
    "duration": 29,
    "start_time": "2023-03-16T15:55:49.397Z"
   },
   {
    "duration": 591,
    "start_time": "2023-03-16T15:55:49.428Z"
   },
   {
    "duration": 519,
    "start_time": "2023-03-16T15:55:50.022Z"
   },
   {
    "duration": 21,
    "start_time": "2023-03-16T15:55:50.543Z"
   },
   {
    "duration": 23,
    "start_time": "2023-03-16T15:55:50.566Z"
   },
   {
    "duration": 384,
    "start_time": "2023-03-16T15:55:50.592Z"
   },
   {
    "duration": 292,
    "start_time": "2023-03-16T15:55:50.979Z"
   },
   {
    "duration": 171,
    "start_time": "2023-03-16T15:55:51.273Z"
   },
   {
    "duration": 179,
    "start_time": "2023-03-16T15:55:51.446Z"
   },
   {
    "duration": 4,
    "start_time": "2023-03-16T15:55:51.628Z"
   },
   {
    "duration": 77,
    "start_time": "2023-03-16T15:55:51.633Z"
   },
   {
    "duration": 8,
    "start_time": "2023-03-16T15:55:51.712Z"
   },
   {
    "duration": 48,
    "start_time": "2023-03-16T15:55:51.722Z"
   },
   {
    "duration": 33,
    "start_time": "2023-03-16T15:55:51.772Z"
   },
   {
    "duration": 321,
    "start_time": "2023-03-16T15:55:51.807Z"
   },
   {
    "duration": 8,
    "start_time": "2023-03-16T15:55:52.129Z"
   },
   {
    "duration": 14,
    "start_time": "2023-03-16T15:55:52.139Z"
   },
   {
    "duration": 18,
    "start_time": "2023-03-16T15:55:52.155Z"
   },
   {
    "duration": 9,
    "start_time": "2023-03-16T15:55:52.175Z"
   },
   {
    "duration": 316,
    "start_time": "2023-03-16T15:55:52.186Z"
   },
   {
    "duration": 3,
    "start_time": "2023-03-16T15:55:52.504Z"
   },
   {
    "duration": 9,
    "start_time": "2023-03-16T15:55:52.508Z"
   },
   {
    "duration": 12,
    "start_time": "2023-03-16T15:55:52.519Z"
   },
   {
    "duration": 7,
    "start_time": "2023-03-16T15:55:52.533Z"
   },
   {
    "duration": 29,
    "start_time": "2023-03-16T15:55:52.544Z"
   },
   {
    "duration": 280,
    "start_time": "2023-03-16T15:55:52.575Z"
   },
   {
    "duration": 4,
    "start_time": "2023-03-16T15:55:52.857Z"
   },
   {
    "duration": 17,
    "start_time": "2023-03-16T15:55:52.863Z"
   },
   {
    "duration": 439,
    "start_time": "2023-03-16T15:55:52.882Z"
   },
   {
    "duration": 6,
    "start_time": "2023-03-16T15:59:30.954Z"
   },
   {
    "duration": 251,
    "start_time": "2023-03-16T15:59:32.102Z"
   },
   {
    "duration": 274,
    "start_time": "2023-03-16T16:02:10.088Z"
   },
   {
    "duration": 400,
    "start_time": "2023-03-16T16:02:17.812Z"
   },
   {
    "duration": 337,
    "start_time": "2023-03-16T16:06:03.973Z"
   },
   {
    "duration": 1233,
    "start_time": "2023-03-16T17:08:02.589Z"
   },
   {
    "duration": 88,
    "start_time": "2023-03-16T17:08:03.824Z"
   },
   {
    "duration": 765,
    "start_time": "2023-03-16T17:08:03.914Z"
   },
   {
    "duration": 3,
    "start_time": "2023-03-16T17:08:04.682Z"
   },
   {
    "duration": 21,
    "start_time": "2023-03-16T17:08:04.688Z"
   },
   {
    "duration": 30,
    "start_time": "2023-03-16T17:08:04.712Z"
   },
   {
    "duration": 97,
    "start_time": "2023-03-16T17:08:04.745Z"
   },
   {
    "duration": 11,
    "start_time": "2023-03-16T17:08:04.844Z"
   },
   {
    "duration": 19,
    "start_time": "2023-03-16T17:08:04.872Z"
   },
   {
    "duration": 7,
    "start_time": "2023-03-16T17:08:04.893Z"
   },
   {
    "duration": 21,
    "start_time": "2023-03-16T17:08:04.902Z"
   },
   {
    "duration": 50,
    "start_time": "2023-03-16T17:08:04.925Z"
   },
   {
    "duration": 26,
    "start_time": "2023-03-16T17:08:04.977Z"
   },
   {
    "duration": 14,
    "start_time": "2023-03-16T17:08:05.007Z"
   },
   {
    "duration": 14,
    "start_time": "2023-03-16T17:08:05.024Z"
   },
   {
    "duration": 48,
    "start_time": "2023-03-16T17:08:05.040Z"
   },
   {
    "duration": 33,
    "start_time": "2023-03-16T17:08:05.090Z"
   },
   {
    "duration": 527,
    "start_time": "2023-03-16T17:08:05.125Z"
   },
   {
    "duration": 474,
    "start_time": "2023-03-16T17:08:05.654Z"
   },
   {
    "duration": 15,
    "start_time": "2023-03-16T17:08:06.130Z"
   },
   {
    "duration": 20,
    "start_time": "2023-03-16T17:08:06.147Z"
   },
   {
    "duration": 351,
    "start_time": "2023-03-16T17:08:06.169Z"
   },
   {
    "duration": 277,
    "start_time": "2023-03-16T17:08:06.522Z"
   },
   {
    "duration": 183,
    "start_time": "2023-03-16T17:08:06.801Z"
   },
   {
    "duration": 174,
    "start_time": "2023-03-16T17:08:06.986Z"
   },
   {
    "duration": 3,
    "start_time": "2023-03-16T17:08:07.162Z"
   },
   {
    "duration": 42,
    "start_time": "2023-03-16T17:08:07.172Z"
   },
   {
    "duration": 6,
    "start_time": "2023-03-16T17:08:07.216Z"
   },
   {
    "duration": 18,
    "start_time": "2023-03-16T17:08:07.224Z"
   },
   {
    "duration": 52,
    "start_time": "2023-03-16T17:08:07.244Z"
   },
   {
    "duration": 355,
    "start_time": "2023-03-16T17:08:07.298Z"
   },
   {
    "duration": 19,
    "start_time": "2023-03-16T17:08:07.655Z"
   },
   {
    "duration": 27,
    "start_time": "2023-03-16T17:08:07.676Z"
   },
   {
    "duration": 15,
    "start_time": "2023-03-16T17:08:07.706Z"
   },
   {
    "duration": 318,
    "start_time": "2023-03-16T17:08:07.723Z"
   },
   {
    "duration": 3,
    "start_time": "2023-03-16T17:08:08.043Z"
   },
   {
    "duration": 12,
    "start_time": "2023-03-16T17:08:08.048Z"
   },
   {
    "duration": 24,
    "start_time": "2023-03-16T17:08:08.062Z"
   },
   {
    "duration": 10,
    "start_time": "2023-03-16T17:08:08.089Z"
   },
   {
    "duration": 19,
    "start_time": "2023-03-16T17:08:08.101Z"
   },
   {
    "duration": 346,
    "start_time": "2023-03-16T17:08:08.126Z"
   },
   {
    "duration": 4,
    "start_time": "2023-03-16T17:08:08.475Z"
   },
   {
    "duration": 12,
    "start_time": "2023-03-16T17:08:08.481Z"
   },
   {
    "duration": 487,
    "start_time": "2023-03-16T17:08:08.496Z"
   },
   {
    "duration": 80,
    "start_time": "2023-03-16T17:33:39.202Z"
   },
   {
    "duration": 123,
    "start_time": "2023-03-16T17:33:44.243Z"
   },
   {
    "duration": 12,
    "start_time": "2023-03-16T17:33:52.540Z"
   },
   {
    "duration": 11,
    "start_time": "2023-03-16T17:33:57.945Z"
   },
   {
    "duration": 69,
    "start_time": "2023-03-16T17:34:49.783Z"
   },
   {
    "duration": 175,
    "start_time": "2023-03-16T17:35:05.530Z"
   },
   {
    "duration": 117,
    "start_time": "2023-03-16T17:35:23.698Z"
   },
   {
    "duration": 8,
    "start_time": "2023-03-16T17:35:32.221Z"
   },
   {
    "duration": 9,
    "start_time": "2023-03-16T17:36:07.299Z"
   },
   {
    "duration": 9,
    "start_time": "2023-03-16T17:36:21.744Z"
   },
   {
    "duration": 3,
    "start_time": "2023-03-16T17:36:38.504Z"
   },
   {
    "duration": 19,
    "start_time": "2023-03-16T17:36:42.422Z"
   },
   {
    "duration": 68,
    "start_time": "2023-03-16T17:39:10.890Z"
   },
   {
    "duration": 5,
    "start_time": "2023-03-16T17:39:15.312Z"
   },
   {
    "duration": 11,
    "start_time": "2023-03-16T17:39:39.963Z"
   },
   {
    "duration": 6,
    "start_time": "2023-03-16T17:39:41.083Z"
   },
   {
    "duration": 14,
    "start_time": "2023-03-16T17:41:22.169Z"
   },
   {
    "duration": 13,
    "start_time": "2023-03-16T17:41:30.432Z"
   },
   {
    "duration": 9,
    "start_time": "2023-03-16T17:41:52.988Z"
   },
   {
    "duration": 75,
    "start_time": "2023-03-16T17:43:07.800Z"
   },
   {
    "duration": 15,
    "start_time": "2023-03-16T17:43:13.212Z"
   },
   {
    "duration": 5,
    "start_time": "2023-03-16T17:48:54.747Z"
   },
   {
    "duration": 6,
    "start_time": "2023-03-16T17:52:35.699Z"
   },
   {
    "duration": 10,
    "start_time": "2023-03-16T17:56:32.330Z"
   },
   {
    "duration": 5,
    "start_time": "2023-03-16T17:57:23.885Z"
   },
   {
    "duration": 13,
    "start_time": "2023-03-16T18:35:56.515Z"
   },
   {
    "duration": 84,
    "start_time": "2023-03-16T18:44:03.658Z"
   },
   {
    "duration": 1425,
    "start_time": "2023-03-17T09:26:32.108Z"
   },
   {
    "duration": 151,
    "start_time": "2023-03-17T09:26:33.535Z"
   },
   {
    "duration": 735,
    "start_time": "2023-03-17T09:26:33.688Z"
   },
   {
    "duration": 4,
    "start_time": "2023-03-17T09:26:34.426Z"
   },
   {
    "duration": 26,
    "start_time": "2023-03-17T09:26:34.432Z"
   },
   {
    "duration": 50,
    "start_time": "2023-03-17T09:26:34.460Z"
   },
   {
    "duration": 107,
    "start_time": "2023-03-17T09:26:34.512Z"
   },
   {
    "duration": 11,
    "start_time": "2023-03-17T09:26:34.621Z"
   },
   {
    "duration": 23,
    "start_time": "2023-03-17T09:26:34.634Z"
   },
   {
    "duration": 6,
    "start_time": "2023-03-17T09:26:34.658Z"
   },
   {
    "duration": 69,
    "start_time": "2023-03-17T09:26:34.665Z"
   },
   {
    "duration": 26,
    "start_time": "2023-03-17T09:26:34.736Z"
   },
   {
    "duration": 42,
    "start_time": "2023-03-17T09:26:34.764Z"
   },
   {
    "duration": 16,
    "start_time": "2023-03-17T09:26:34.810Z"
   },
   {
    "duration": 28,
    "start_time": "2023-03-17T09:26:34.828Z"
   },
   {
    "duration": 30,
    "start_time": "2023-03-17T09:26:34.859Z"
   },
   {
    "duration": 41,
    "start_time": "2023-03-17T09:26:34.891Z"
   },
   {
    "duration": 525,
    "start_time": "2023-03-17T09:26:34.933Z"
   },
   {
    "duration": 449,
    "start_time": "2023-03-17T09:26:35.461Z"
   },
   {
    "duration": 15,
    "start_time": "2023-03-17T09:26:35.912Z"
   },
   {
    "duration": 17,
    "start_time": "2023-03-17T09:26:35.929Z"
   },
   {
    "duration": 356,
    "start_time": "2023-03-17T09:26:35.948Z"
   },
   {
    "duration": 323,
    "start_time": "2023-03-17T09:26:36.306Z"
   },
   {
    "duration": 200,
    "start_time": "2023-03-17T09:26:36.631Z"
   },
   {
    "duration": 171,
    "start_time": "2023-03-17T09:26:36.833Z"
   },
   {
    "duration": 4,
    "start_time": "2023-03-17T09:26:37.006Z"
   },
   {
    "duration": 48,
    "start_time": "2023-03-17T09:26:37.011Z"
   },
   {
    "duration": 29,
    "start_time": "2023-03-17T09:26:37.061Z"
   },
   {
    "duration": 8,
    "start_time": "2023-03-17T09:26:37.092Z"
   },
   {
    "duration": 29,
    "start_time": "2023-03-17T09:26:37.101Z"
   },
   {
    "duration": 317,
    "start_time": "2023-03-17T09:26:37.132Z"
   },
   {
    "duration": 8,
    "start_time": "2023-03-17T09:26:37.451Z"
   },
   {
    "duration": 24,
    "start_time": "2023-03-17T09:26:37.461Z"
   },
   {
    "duration": 22,
    "start_time": "2023-03-17T09:26:37.487Z"
   },
   {
    "duration": 305,
    "start_time": "2023-03-17T09:26:37.511Z"
   },
   {
    "duration": 2,
    "start_time": "2023-03-17T09:26:37.818Z"
   },
   {
    "duration": 6,
    "start_time": "2023-03-17T09:26:37.822Z"
   },
   {
    "duration": 12,
    "start_time": "2023-03-17T09:26:37.829Z"
   },
   {
    "duration": 7,
    "start_time": "2023-03-17T09:26:37.843Z"
   },
   {
    "duration": 8,
    "start_time": "2023-03-17T09:26:37.852Z"
   },
   {
    "duration": 314,
    "start_time": "2023-03-17T09:26:37.892Z"
   },
   {
    "duration": 4,
    "start_time": "2023-03-17T09:26:38.208Z"
   },
   {
    "duration": 11,
    "start_time": "2023-03-17T09:26:38.214Z"
   },
   {
    "duration": 478,
    "start_time": "2023-03-17T09:26:38.226Z"
   },
   {
    "duration": 10,
    "start_time": "2023-03-17T09:26:38.705Z"
   },
   {
    "duration": 10,
    "start_time": "2023-03-17T09:26:38.717Z"
   },
   {
    "duration": 12,
    "start_time": "2023-03-17T09:26:38.728Z"
   },
   {
    "duration": 8,
    "start_time": "2023-03-17T09:26:38.741Z"
   },
   {
    "duration": 16,
    "start_time": "2023-03-17T09:30:58.510Z"
   },
   {
    "duration": 9,
    "start_time": "2023-03-17T09:31:21.640Z"
   },
   {
    "duration": 149,
    "start_time": "2023-03-17T09:35:26.355Z"
   },
   {
    "duration": 159,
    "start_time": "2023-03-17T09:35:53.098Z"
   },
   {
    "duration": 269,
    "start_time": "2023-03-17T09:36:04.264Z"
   },
   {
    "duration": 237,
    "start_time": "2023-03-17T09:36:15.482Z"
   },
   {
    "duration": 120,
    "start_time": "2023-03-17T09:36:39.864Z"
   },
   {
    "duration": 175,
    "start_time": "2023-03-17T09:36:49.389Z"
   },
   {
    "duration": 161,
    "start_time": "2023-03-17T09:37:01.281Z"
   },
   {
    "duration": 116,
    "start_time": "2023-03-17T09:39:42.509Z"
   },
   {
    "duration": 148,
    "start_time": "2023-03-17T09:39:52.036Z"
   },
   {
    "duration": 1167,
    "start_time": "2023-03-17T09:58:11.634Z"
   },
   {
    "duration": 81,
    "start_time": "2023-03-17T09:58:12.803Z"
   },
   {
    "duration": 699,
    "start_time": "2023-03-17T09:58:12.886Z"
   },
   {
    "duration": 4,
    "start_time": "2023-03-17T09:58:13.588Z"
   },
   {
    "duration": 20,
    "start_time": "2023-03-17T09:58:13.594Z"
   },
   {
    "duration": 20,
    "start_time": "2023-03-17T09:58:13.616Z"
   },
   {
    "duration": 101,
    "start_time": "2023-03-17T09:58:13.638Z"
   },
   {
    "duration": 11,
    "start_time": "2023-03-17T09:58:13.741Z"
   },
   {
    "duration": 18,
    "start_time": "2023-03-17T09:58:13.754Z"
   },
   {
    "duration": 6,
    "start_time": "2023-03-17T09:58:13.789Z"
   },
   {
    "duration": 28,
    "start_time": "2023-03-17T09:58:13.797Z"
   },
   {
    "duration": 24,
    "start_time": "2023-03-17T09:58:13.827Z"
   },
   {
    "duration": 51,
    "start_time": "2023-03-17T09:58:13.854Z"
   },
   {
    "duration": 10,
    "start_time": "2023-03-17T09:58:13.910Z"
   },
   {
    "duration": 13,
    "start_time": "2023-03-17T09:58:13.922Z"
   },
   {
    "duration": 8,
    "start_time": "2023-03-17T09:58:13.936Z"
   },
   {
    "duration": 53,
    "start_time": "2023-03-17T09:58:13.946Z"
   },
   {
    "duration": 448,
    "start_time": "2023-03-17T09:58:14.000Z"
   },
   {
    "duration": 468,
    "start_time": "2023-03-17T09:58:14.450Z"
   },
   {
    "duration": 16,
    "start_time": "2023-03-17T09:58:14.920Z"
   },
   {
    "duration": 21,
    "start_time": "2023-03-17T09:58:14.937Z"
   },
   {
    "duration": 325,
    "start_time": "2023-03-17T09:58:14.959Z"
   },
   {
    "duration": 234,
    "start_time": "2023-03-17T09:58:15.290Z"
   },
   {
    "duration": 166,
    "start_time": "2023-03-17T09:58:15.526Z"
   },
   {
    "duration": 172,
    "start_time": "2023-03-17T09:58:15.693Z"
   },
   {
    "duration": 4,
    "start_time": "2023-03-17T09:58:15.866Z"
   },
   {
    "duration": 49,
    "start_time": "2023-03-17T09:58:15.873Z"
   },
   {
    "duration": 8,
    "start_time": "2023-03-17T09:58:15.924Z"
   },
   {
    "duration": 8,
    "start_time": "2023-03-17T09:58:15.934Z"
   },
   {
    "duration": 19,
    "start_time": "2023-03-17T09:58:15.944Z"
   },
   {
    "duration": 340,
    "start_time": "2023-03-17T09:58:15.990Z"
   },
   {
    "duration": 10,
    "start_time": "2023-03-17T09:58:16.332Z"
   },
   {
    "duration": 18,
    "start_time": "2023-03-17T09:58:16.344Z"
   },
   {
    "duration": 24,
    "start_time": "2023-03-17T09:58:16.367Z"
   },
   {
    "duration": 345,
    "start_time": "2023-03-17T09:58:16.394Z"
   },
   {
    "duration": 3,
    "start_time": "2023-03-17T09:58:16.741Z"
   },
   {
    "duration": 12,
    "start_time": "2023-03-17T09:58:16.746Z"
   },
   {
    "duration": 10,
    "start_time": "2023-03-17T09:58:16.759Z"
   },
   {
    "duration": 19,
    "start_time": "2023-03-17T09:58:16.772Z"
   },
   {
    "duration": 12,
    "start_time": "2023-03-17T09:58:16.793Z"
   },
   {
    "duration": 314,
    "start_time": "2023-03-17T09:58:16.809Z"
   },
   {
    "duration": 4,
    "start_time": "2023-03-17T09:58:17.125Z"
   },
   {
    "duration": 10,
    "start_time": "2023-03-17T09:58:17.130Z"
   },
   {
    "duration": 444,
    "start_time": "2023-03-17T09:58:17.142Z"
   },
   {
    "duration": 10,
    "start_time": "2023-03-17T09:58:17.588Z"
   },
   {
    "duration": 6,
    "start_time": "2023-03-17T09:58:17.600Z"
   },
   {
    "duration": 14,
    "start_time": "2023-03-17T09:58:17.608Z"
   },
   {
    "duration": 9,
    "start_time": "2023-03-17T09:58:17.623Z"
   },
   {
    "duration": 47,
    "start_time": "2023-03-17T17:11:05.468Z"
   },
   {
    "duration": 1171,
    "start_time": "2023-03-17T17:11:09.822Z"
   },
   {
    "duration": 86,
    "start_time": "2023-03-17T17:11:10.996Z"
   },
   {
    "duration": 679,
    "start_time": "2023-03-17T17:11:11.083Z"
   },
   {
    "duration": 4,
    "start_time": "2023-03-17T17:11:11.764Z"
   },
   {
    "duration": 18,
    "start_time": "2023-03-17T17:11:11.775Z"
   },
   {
    "duration": 20,
    "start_time": "2023-03-17T17:11:11.795Z"
   },
   {
    "duration": 83,
    "start_time": "2023-03-17T17:11:11.817Z"
   },
   {
    "duration": 11,
    "start_time": "2023-03-17T17:11:11.902Z"
   },
   {
    "duration": 16,
    "start_time": "2023-03-17T17:11:11.915Z"
   },
   {
    "duration": 5,
    "start_time": "2023-03-17T17:11:11.934Z"
   },
   {
    "duration": 41,
    "start_time": "2023-03-17T17:11:11.940Z"
   },
   {
    "duration": 17,
    "start_time": "2023-03-17T17:11:11.983Z"
   },
   {
    "duration": 19,
    "start_time": "2023-03-17T17:11:12.002Z"
   },
   {
    "duration": 7,
    "start_time": "2023-03-17T17:11:12.022Z"
   },
   {
    "duration": 11,
    "start_time": "2023-03-17T17:11:12.031Z"
   },
   {
    "duration": 9,
    "start_time": "2023-03-17T17:11:12.074Z"
   },
   {
    "duration": 24,
    "start_time": "2023-03-17T17:11:12.084Z"
   },
   {
    "duration": 426,
    "start_time": "2023-03-17T17:11:12.110Z"
   },
   {
    "duration": 398,
    "start_time": "2023-03-17T17:11:12.538Z"
   },
   {
    "duration": 18,
    "start_time": "2023-03-17T17:11:12.938Z"
   },
   {
    "duration": 15,
    "start_time": "2023-03-17T17:11:12.974Z"
   },
   {
    "duration": 308,
    "start_time": "2023-03-17T17:11:12.991Z"
   },
   {
    "duration": 239,
    "start_time": "2023-03-17T17:11:13.301Z"
   },
   {
    "duration": 157,
    "start_time": "2023-03-17T17:11:13.542Z"
   },
   {
    "duration": 162,
    "start_time": "2023-03-17T17:11:13.700Z"
   },
   {
    "duration": 4,
    "start_time": "2023-03-17T17:11:13.864Z"
   },
   {
    "duration": 38,
    "start_time": "2023-03-17T17:11:13.875Z"
   },
   {
    "duration": 7,
    "start_time": "2023-03-17T17:11:13.916Z"
   },
   {
    "duration": 14,
    "start_time": "2023-03-17T17:11:13.925Z"
   },
   {
    "duration": 42,
    "start_time": "2023-03-17T17:11:13.941Z"
   },
   {
    "duration": 368,
    "start_time": "2023-03-17T17:11:13.985Z"
   },
   {
    "duration": 7,
    "start_time": "2023-03-17T17:11:14.355Z"
   },
   {
    "duration": 7,
    "start_time": "2023-03-17T17:11:14.375Z"
   },
   {
    "duration": 7,
    "start_time": "2023-03-17T17:11:14.384Z"
   },
   {
    "duration": 289,
    "start_time": "2023-03-17T17:11:14.394Z"
   },
   {
    "duration": 3,
    "start_time": "2023-03-17T17:11:14.684Z"
   },
   {
    "duration": 5,
    "start_time": "2023-03-17T17:11:14.689Z"
   },
   {
    "duration": 274,
    "start_time": "2023-03-17T17:11:14.695Z"
   },
   {
    "duration": 8,
    "start_time": "2023-03-17T17:11:14.971Z"
   },
   {
    "duration": 9,
    "start_time": "2023-03-17T17:11:14.981Z"
   },
   {
    "duration": 8,
    "start_time": "2023-03-17T17:11:14.991Z"
   },
   {
    "duration": 329,
    "start_time": "2023-03-17T17:11:15.001Z"
   },
   {
    "duration": 3,
    "start_time": "2023-03-17T17:11:15.332Z"
   },
   {
    "duration": 10,
    "start_time": "2023-03-17T17:11:15.337Z"
   },
   {
    "duration": 509,
    "start_time": "2023-03-17T17:11:15.349Z"
   },
   {
    "duration": 18,
    "start_time": "2023-03-17T17:11:15.859Z"
   },
   {
    "duration": 20,
    "start_time": "2023-03-17T17:11:15.879Z"
   },
   {
    "duration": 10,
    "start_time": "2023-03-17T17:11:15.901Z"
   },
   {
    "duration": 4,
    "start_time": "2023-03-17T17:11:15.913Z"
   },
   {
    "duration": 245,
    "start_time": "2023-03-17T17:11:46.379Z"
   },
   {
    "duration": 3,
    "start_time": "2023-03-17T17:11:55.891Z"
   },
   {
    "duration": 4,
    "start_time": "2023-03-17T17:11:59.188Z"
   },
   {
    "duration": 10,
    "start_time": "2023-03-17T17:12:18.682Z"
   },
   {
    "duration": 10,
    "start_time": "2023-03-17T17:12:21.902Z"
   },
   {
    "duration": 68,
    "start_time": "2023-03-17T17:12:40.054Z"
   },
   {
    "duration": 77,
    "start_time": "2023-03-17T17:12:47.046Z"
   },
   {
    "duration": 101,
    "start_time": "2023-03-17T17:13:00.856Z"
   },
   {
    "duration": 260,
    "start_time": "2023-03-17T17:13:06.048Z"
   },
   {
    "duration": 249,
    "start_time": "2023-03-17T17:13:11.799Z"
   },
   {
    "duration": 247,
    "start_time": "2023-03-17T17:13:59.201Z"
   },
   {
    "duration": 265,
    "start_time": "2023-03-17T17:14:04.429Z"
   },
   {
    "duration": 388,
    "start_time": "2023-03-17T17:14:45.251Z"
   },
   {
    "duration": 299,
    "start_time": "2023-03-17T17:15:16.156Z"
   },
   {
    "duration": 265,
    "start_time": "2023-03-17T17:16:00.325Z"
   },
   {
    "duration": 260,
    "start_time": "2023-03-17T17:16:24.621Z"
   },
   {
    "duration": 7,
    "start_time": "2023-03-17T17:17:19.410Z"
   },
   {
    "duration": 262,
    "start_time": "2023-03-17T17:17:59.330Z"
   },
   {
    "duration": 284,
    "start_time": "2023-03-17T17:18:19.493Z"
   },
   {
    "duration": 274,
    "start_time": "2023-03-17T17:18:36.848Z"
   },
   {
    "duration": 193,
    "start_time": "2023-03-17T17:18:40.691Z"
   },
   {
    "duration": 275,
    "start_time": "2023-03-17T17:18:41.083Z"
   },
   {
    "duration": 272,
    "start_time": "2023-03-17T17:20:08.430Z"
   },
   {
    "duration": 250,
    "start_time": "2023-03-17T17:20:23.150Z"
   },
   {
    "duration": 7,
    "start_time": "2023-03-17T17:21:04.333Z"
   },
   {
    "duration": 6,
    "start_time": "2023-03-17T17:21:05.220Z"
   },
   {
    "duration": 6,
    "start_time": "2023-03-17T17:21:05.833Z"
   },
   {
    "duration": 262,
    "start_time": "2023-03-17T17:21:13.028Z"
   },
   {
    "duration": 3,
    "start_time": "2023-03-17T17:21:38.834Z"
   },
   {
    "duration": 3,
    "start_time": "2023-03-17T17:21:45.003Z"
   },
   {
    "duration": 6,
    "start_time": "2023-03-17T17:22:28.508Z"
   },
   {
    "duration": 7,
    "start_time": "2023-03-17T17:22:29.120Z"
   },
   {
    "duration": 6,
    "start_time": "2023-03-17T17:22:29.669Z"
   },
   {
    "duration": 244,
    "start_time": "2023-03-17T17:24:09.665Z"
   },
   {
    "duration": 346,
    "start_time": "2023-03-17T17:27:09.432Z"
   },
   {
    "duration": 110,
    "start_time": "2023-03-17T17:28:49.424Z"
   },
   {
    "duration": 79,
    "start_time": "2023-03-17T17:28:57.073Z"
   },
   {
    "duration": 86,
    "start_time": "2023-03-17T18:49:52.398Z"
   },
   {
    "duration": 1588,
    "start_time": "2023-03-17T18:49:56.144Z"
   },
   {
    "duration": 178,
    "start_time": "2023-03-17T18:49:57.735Z"
   },
   {
    "duration": 824,
    "start_time": "2023-03-17T18:49:57.915Z"
   },
   {
    "duration": 4,
    "start_time": "2023-03-17T18:49:58.741Z"
   },
   {
    "duration": 33,
    "start_time": "2023-03-17T18:49:58.747Z"
   },
   {
    "duration": 68,
    "start_time": "2023-03-17T18:49:58.782Z"
   },
   {
    "duration": 87,
    "start_time": "2023-03-17T18:49:58.852Z"
   },
   {
    "duration": 13,
    "start_time": "2023-03-17T18:49:58.942Z"
   },
   {
    "duration": 74,
    "start_time": "2023-03-17T18:49:58.957Z"
   },
   {
    "duration": 20,
    "start_time": "2023-03-17T18:49:59.034Z"
   },
   {
    "duration": 33,
    "start_time": "2023-03-17T18:49:59.056Z"
   },
   {
    "duration": 46,
    "start_time": "2023-03-17T18:49:59.090Z"
   },
   {
    "duration": 24,
    "start_time": "2023-03-17T18:49:59.139Z"
   },
   {
    "duration": 175,
    "start_time": "2023-03-17T18:50:00.802Z"
   },
   {
    "duration": 20,
    "start_time": "2023-03-17T18:50:14.582Z"
   },
   {
    "duration": 109,
    "start_time": "2023-03-17T19:00:58.509Z"
   },
   {
    "duration": 1539,
    "start_time": "2023-03-17T19:01:18.655Z"
   },
   {
    "duration": 11,
    "start_time": "2023-03-17T19:05:13.417Z"
   },
   {
    "duration": 1208,
    "start_time": "2023-03-18T09:31:45.647Z"
   },
   {
    "duration": 135,
    "start_time": "2023-03-18T09:31:46.857Z"
   },
   {
    "duration": 523,
    "start_time": "2023-03-18T09:31:46.994Z"
   },
   {
    "duration": 2,
    "start_time": "2023-03-18T09:31:47.519Z"
   },
   {
    "duration": 17,
    "start_time": "2023-03-18T09:31:47.523Z"
   },
   {
    "duration": 18,
    "start_time": "2023-03-18T09:31:47.541Z"
   },
   {
    "duration": 66,
    "start_time": "2023-03-18T09:31:47.560Z"
   },
   {
    "duration": 8,
    "start_time": "2023-03-18T09:31:47.628Z"
   },
   {
    "duration": 16,
    "start_time": "2023-03-18T09:31:47.637Z"
   },
   {
    "duration": 4,
    "start_time": "2023-03-18T09:31:47.655Z"
   },
   {
    "duration": 24,
    "start_time": "2023-03-18T09:31:47.660Z"
   },
   {
    "duration": 14,
    "start_time": "2023-03-18T09:31:47.685Z"
   },
   {
    "duration": 15,
    "start_time": "2023-03-18T09:31:47.701Z"
   },
   {
    "duration": 6,
    "start_time": "2023-03-18T09:31:47.719Z"
   },
   {
    "duration": 10,
    "start_time": "2023-03-18T09:31:47.726Z"
   },
   {
    "duration": 6,
    "start_time": "2023-03-18T09:31:47.737Z"
   },
   {
    "duration": 54,
    "start_time": "2023-03-18T09:31:47.744Z"
   },
   {
    "duration": 400,
    "start_time": "2023-03-18T09:31:47.799Z"
   },
   {
    "duration": 345,
    "start_time": "2023-03-18T09:31:48.201Z"
   },
   {
    "duration": 11,
    "start_time": "2023-03-18T09:31:48.548Z"
   },
   {
    "duration": 14,
    "start_time": "2023-03-18T09:31:48.560Z"
   },
   {
    "duration": 304,
    "start_time": "2023-03-18T09:31:48.575Z"
   },
   {
    "duration": 124,
    "start_time": "2023-03-18T09:31:48.881Z"
   },
   {
    "duration": 125,
    "start_time": "2023-03-18T09:31:49.006Z"
   },
   {
    "duration": 130,
    "start_time": "2023-03-18T09:31:49.132Z"
   },
   {
    "duration": 3,
    "start_time": "2023-03-18T09:31:49.264Z"
   },
   {
    "duration": 31,
    "start_time": "2023-03-18T09:31:49.279Z"
   },
   {
    "duration": 5,
    "start_time": "2023-03-18T09:31:49.311Z"
   },
   {
    "duration": 16,
    "start_time": "2023-03-18T09:31:49.317Z"
   },
   {
    "duration": 124,
    "start_time": "2023-03-18T09:31:53.725Z"
   },
   {
    "duration": 106,
    "start_time": "2023-03-18T09:52:43.426Z"
   },
   {
    "duration": 71,
    "start_time": "2023-03-18T09:52:49.282Z"
   },
   {
    "duration": 64,
    "start_time": "2023-03-18T09:52:51.856Z"
   },
   {
    "duration": 111,
    "start_time": "2023-03-18T09:53:03.713Z"
   },
   {
    "duration": 67,
    "start_time": "2023-03-18T09:53:29.299Z"
   },
   {
    "duration": 65,
    "start_time": "2023-03-18T09:53:40.034Z"
   },
   {
    "duration": 71,
    "start_time": "2023-03-18T09:53:58.832Z"
   },
   {
    "duration": 85,
    "start_time": "2023-03-18T09:54:14.216Z"
   },
   {
    "duration": 125,
    "start_time": "2023-03-18T09:54:33.343Z"
   },
   {
    "duration": 199,
    "start_time": "2023-03-18T09:54:37.867Z"
   },
   {
    "duration": 70,
    "start_time": "2023-03-18T09:55:30.841Z"
   },
   {
    "duration": 67,
    "start_time": "2023-03-18T09:55:39.201Z"
   },
   {
    "duration": 75,
    "start_time": "2023-03-18T09:55:47.435Z"
   },
   {
    "duration": 81,
    "start_time": "2023-03-18T09:55:59.969Z"
   },
   {
    "duration": 164,
    "start_time": "2023-03-18T09:56:18.612Z"
   },
   {
    "duration": 154,
    "start_time": "2023-03-18T09:58:53.194Z"
   },
   {
    "duration": 157,
    "start_time": "2023-03-18T09:58:59.034Z"
   },
   {
    "duration": 170,
    "start_time": "2023-03-18T09:59:09.773Z"
   },
   {
    "duration": 225,
    "start_time": "2023-03-18T09:59:18.925Z"
   },
   {
    "duration": 153,
    "start_time": "2023-03-18T10:06:32.498Z"
   },
   {
    "duration": 6,
    "start_time": "2023-03-18T10:08:10.607Z"
   },
   {
    "duration": 255,
    "start_time": "2023-03-18T10:11:02.491Z"
   },
   {
    "duration": 296,
    "start_time": "2023-03-18T10:11:10.174Z"
   },
   {
    "duration": 171,
    "start_time": "2023-03-18T10:11:18.936Z"
   },
   {
    "duration": 160,
    "start_time": "2023-03-18T10:11:23.398Z"
   },
   {
    "duration": 178,
    "start_time": "2023-03-18T10:11:29.764Z"
   },
   {
    "duration": 222,
    "start_time": "2023-03-18T10:11:37.404Z"
   },
   {
    "duration": 229,
    "start_time": "2023-03-18T10:11:45.863Z"
   },
   {
    "duration": 266,
    "start_time": "2023-03-18T10:11:56.882Z"
   },
   {
    "duration": 186,
    "start_time": "2023-03-18T10:12:04.849Z"
   },
   {
    "duration": 192,
    "start_time": "2023-03-18T10:12:14.517Z"
   },
   {
    "duration": 175,
    "start_time": "2023-03-18T10:12:53.510Z"
   },
   {
    "duration": 190,
    "start_time": "2023-03-18T10:13:02.425Z"
   },
   {
    "duration": 208,
    "start_time": "2023-03-18T10:13:07.964Z"
   },
   {
    "duration": 1310,
    "start_time": "2023-03-18T18:20:32.106Z"
   },
   {
    "duration": 214,
    "start_time": "2023-03-18T18:20:33.418Z"
   },
   {
    "duration": 770,
    "start_time": "2023-03-18T18:20:33.634Z"
   },
   {
    "duration": 2,
    "start_time": "2023-03-18T18:20:34.406Z"
   },
   {
    "duration": 17,
    "start_time": "2023-03-18T18:20:34.410Z"
   },
   {
    "duration": 19,
    "start_time": "2023-03-18T18:20:34.428Z"
   },
   {
    "duration": 99,
    "start_time": "2023-03-18T18:20:34.449Z"
   },
   {
    "duration": 10,
    "start_time": "2023-03-18T18:20:34.550Z"
   },
   {
    "duration": 18,
    "start_time": "2023-03-18T18:20:34.562Z"
   },
   {
    "duration": 7,
    "start_time": "2023-03-18T18:20:34.596Z"
   },
   {
    "duration": 46,
    "start_time": "2023-03-18T18:20:34.605Z"
   },
   {
    "duration": 21,
    "start_time": "2023-03-18T18:20:34.654Z"
   },
   {
    "duration": 34,
    "start_time": "2023-03-18T18:20:34.677Z"
   },
   {
    "duration": 103,
    "start_time": "2023-03-18T18:20:37.375Z"
   },
   {
    "duration": 317,
    "start_time": "2023-03-18T18:21:32.496Z"
   },
   {
    "duration": 10,
    "start_time": "2023-03-18T18:22:06.864Z"
   },
   {
    "duration": 295,
    "start_time": "2023-03-18T18:22:12.719Z"
   },
   {
    "duration": 15,
    "start_time": "2023-03-18T18:24:15.206Z"
   },
   {
    "duration": 13,
    "start_time": "2023-03-18T18:24:19.844Z"
   },
   {
    "duration": 16,
    "start_time": "2023-03-18T18:24:24.679Z"
   },
   {
    "duration": 15,
    "start_time": "2023-03-18T18:26:10.963Z"
   },
   {
    "duration": 13,
    "start_time": "2023-03-18T18:26:16.207Z"
   },
   {
    "duration": 54,
    "start_time": "2023-03-18T18:27:03.792Z"
   },
   {
    "duration": 15,
    "start_time": "2023-03-18T18:27:12.016Z"
   },
   {
    "duration": 1145,
    "start_time": "2023-03-18T18:27:18.826Z"
   },
   {
    "duration": 82,
    "start_time": "2023-03-18T18:27:19.973Z"
   },
   {
    "duration": 681,
    "start_time": "2023-03-18T18:27:20.057Z"
   },
   {
    "duration": 3,
    "start_time": "2023-03-18T18:27:20.740Z"
   },
   {
    "duration": 56,
    "start_time": "2023-03-18T18:27:24.611Z"
   },
   {
    "duration": 354,
    "start_time": "2023-03-18T18:27:55.966Z"
   },
   {
    "duration": 110,
    "start_time": "2023-03-18T18:31:15.704Z"
   },
   {
    "duration": 4,
    "start_time": "2023-03-18T18:31:18.969Z"
   },
   {
    "duration": 80,
    "start_time": "2023-03-18T18:31:18.975Z"
   },
   {
    "duration": 726,
    "start_time": "2023-03-18T18:31:19.057Z"
   },
   {
    "duration": 11,
    "start_time": "2023-03-18T18:31:19.785Z"
   },
   {
    "duration": 19,
    "start_time": "2023-03-18T18:31:19.798Z"
   },
   {
    "duration": 16,
    "start_time": "2023-03-18T18:31:19.818Z"
   },
   {
    "duration": 87,
    "start_time": "2023-03-18T18:31:19.836Z"
   },
   {
    "duration": 11,
    "start_time": "2023-03-18T18:31:19.924Z"
   },
   {
    "duration": 21,
    "start_time": "2023-03-18T18:31:19.937Z"
   },
   {
    "duration": 5,
    "start_time": "2023-03-18T18:31:19.960Z"
   },
   {
    "duration": 43,
    "start_time": "2023-03-18T18:31:19.967Z"
   },
   {
    "duration": 19,
    "start_time": "2023-03-18T18:31:20.012Z"
   },
   {
    "duration": 20,
    "start_time": "2023-03-18T18:31:20.033Z"
   },
   {
    "duration": 14,
    "start_time": "2023-03-18T18:31:20.056Z"
   },
   {
    "duration": 342,
    "start_time": "2023-03-18T18:31:20.072Z"
   },
   {
    "duration": 12,
    "start_time": "2023-03-18T18:31:20.416Z"
   },
   {
    "duration": 8,
    "start_time": "2023-03-18T18:31:20.430Z"
   },
   {
    "duration": 26,
    "start_time": "2023-03-18T18:31:20.439Z"
   },
   {
    "duration": 477,
    "start_time": "2023-03-18T18:31:20.467Z"
   },
   {
    "duration": 429,
    "start_time": "2023-03-18T18:31:20.946Z"
   },
   {
    "duration": 15,
    "start_time": "2023-03-18T18:31:21.377Z"
   },
   {
    "duration": 13,
    "start_time": "2023-03-18T18:31:21.394Z"
   },
   {
    "duration": 316,
    "start_time": "2023-03-18T18:31:21.409Z"
   },
   {
    "duration": 149,
    "start_time": "2023-03-18T18:31:21.727Z"
   },
   {
    "duration": 163,
    "start_time": "2023-03-18T18:31:21.877Z"
   },
   {
    "duration": 162,
    "start_time": "2023-03-18T18:31:22.041Z"
   },
   {
    "duration": 4,
    "start_time": "2023-03-18T18:31:22.205Z"
   },
   {
    "duration": 43,
    "start_time": "2023-03-18T18:31:22.210Z"
   },
   {
    "duration": 8,
    "start_time": "2023-03-18T18:31:22.254Z"
   },
   {
    "duration": 32,
    "start_time": "2023-03-18T18:31:22.263Z"
   },
   {
    "duration": 323,
    "start_time": "2023-03-18T18:31:22.297Z"
   },
   {
    "duration": 270,
    "start_time": "2023-03-18T18:31:23.873Z"
   },
   {
    "duration": 20,
    "start_time": "2023-03-18T18:32:12.008Z"
   },
   {
    "duration": 377,
    "start_time": "2023-03-18T18:32:13.747Z"
   },
   {
    "duration": 45,
    "start_time": "2023-03-18T18:47:05.742Z"
   },
   {
    "duration": 10,
    "start_time": "2023-03-18T18:47:27.430Z"
   },
   {
    "duration": 8,
    "start_time": "2023-03-18T18:48:17.748Z"
   },
   {
    "duration": 47,
    "start_time": "2023-03-18T18:48:29.427Z"
   },
   {
    "duration": 37,
    "start_time": "2023-03-18T18:49:52.268Z"
   },
   {
    "duration": 48,
    "start_time": "2023-03-18T18:49:58.159Z"
   },
   {
    "duration": 50,
    "start_time": "2023-03-18T18:59:11.315Z"
   },
   {
    "duration": 1295,
    "start_time": "2023-03-18T18:59:53.176Z"
   },
   {
    "duration": 85,
    "start_time": "2023-03-18T18:59:54.473Z"
   },
   {
    "duration": 682,
    "start_time": "2023-03-18T18:59:54.560Z"
   },
   {
    "duration": 3,
    "start_time": "2023-03-18T18:59:55.244Z"
   },
   {
    "duration": 62,
    "start_time": "2023-03-18T18:59:55.249Z"
   },
   {
    "duration": 19,
    "start_time": "2023-03-18T18:59:55.312Z"
   },
   {
    "duration": 101,
    "start_time": "2023-03-18T18:59:55.333Z"
   },
   {
    "duration": 12,
    "start_time": "2023-03-18T18:59:55.435Z"
   },
   {
    "duration": 17,
    "start_time": "2023-03-18T18:59:55.449Z"
   },
   {
    "duration": 5,
    "start_time": "2023-03-18T18:59:55.468Z"
   },
   {
    "duration": 20,
    "start_time": "2023-03-18T18:59:55.495Z"
   },
   {
    "duration": 24,
    "start_time": "2023-03-18T18:59:55.516Z"
   },
   {
    "duration": 33,
    "start_time": "2023-03-18T18:59:55.542Z"
   },
   {
    "duration": 15,
    "start_time": "2023-03-18T18:59:55.578Z"
   },
   {
    "duration": 309,
    "start_time": "2023-03-18T18:59:55.595Z"
   },
   {
    "duration": 10,
    "start_time": "2023-03-18T18:59:55.906Z"
   },
   {
    "duration": 8,
    "start_time": "2023-03-18T18:59:55.918Z"
   },
   {
    "duration": 38,
    "start_time": "2023-03-18T18:59:55.927Z"
   },
   {
    "duration": 469,
    "start_time": "2023-03-18T18:59:55.967Z"
   },
   {
    "duration": 502,
    "start_time": "2023-03-18T18:59:56.438Z"
   },
   {
    "duration": 15,
    "start_time": "2023-03-18T18:59:56.942Z"
   },
   {
    "duration": 14,
    "start_time": "2023-03-18T18:59:56.958Z"
   },
   {
    "duration": 296,
    "start_time": "2023-03-18T18:59:56.977Z"
   },
   {
    "duration": 150,
    "start_time": "2023-03-18T18:59:57.275Z"
   },
   {
    "duration": 154,
    "start_time": "2023-03-18T18:59:57.427Z"
   },
   {
    "duration": 177,
    "start_time": "2023-03-18T18:59:57.583Z"
   },
   {
    "duration": 3,
    "start_time": "2023-03-18T18:59:57.762Z"
   },
   {
    "duration": 53,
    "start_time": "2023-03-18T18:59:57.767Z"
   },
   {
    "duration": 7,
    "start_time": "2023-03-18T18:59:57.822Z"
   },
   {
    "duration": 9,
    "start_time": "2023-03-18T18:59:57.833Z"
   },
   {
    "duration": 68,
    "start_time": "2023-03-18T18:59:57.843Z"
   },
   {
    "duration": 222,
    "start_time": "2023-03-18T18:59:57.913Z"
   },
   {
    "duration": 20,
    "start_time": "2023-03-18T18:59:58.137Z"
   },
   {
    "duration": 324,
    "start_time": "2023-03-18T18:59:58.159Z"
   },
   {
    "duration": 16,
    "start_time": "2023-03-18T18:59:58.485Z"
   },
   {
    "duration": 11,
    "start_time": "2023-03-18T18:59:58.503Z"
   },
   {
    "duration": 10,
    "start_time": "2023-03-18T18:59:58.515Z"
   },
   {
    "duration": 309,
    "start_time": "2023-03-18T18:59:58.527Z"
   },
   {
    "duration": 2,
    "start_time": "2023-03-18T18:59:58.838Z"
   },
   {
    "duration": 7,
    "start_time": "2023-03-18T18:59:58.842Z"
   },
   {
    "duration": 349,
    "start_time": "2023-03-18T18:59:58.852Z"
   },
   {
    "duration": 7,
    "start_time": "2023-03-18T18:59:59.203Z"
   },
   {
    "duration": 9,
    "start_time": "2023-03-18T18:59:59.212Z"
   },
   {
    "duration": 8,
    "start_time": "2023-03-18T18:59:59.223Z"
   },
   {
    "duration": 309,
    "start_time": "2023-03-18T18:59:59.232Z"
   },
   {
    "duration": 4,
    "start_time": "2023-03-18T18:59:59.543Z"
   },
   {
    "duration": 12,
    "start_time": "2023-03-18T18:59:59.549Z"
   },
   {
    "duration": 420,
    "start_time": "2023-03-18T18:59:59.563Z"
   },
   {
    "duration": 16,
    "start_time": "2023-03-18T18:59:59.984Z"
   },
   {
    "duration": 19,
    "start_time": "2023-03-18T19:00:00.001Z"
   },
   {
    "duration": 17,
    "start_time": "2023-03-18T19:00:00.022Z"
   },
   {
    "duration": 6,
    "start_time": "2023-03-18T19:00:00.041Z"
   },
   {
    "duration": 75,
    "start_time": "2023-03-18T20:39:34.843Z"
   },
   {
    "duration": 47,
    "start_time": "2023-03-19T10:13:41.990Z"
   },
   {
    "duration": 1370,
    "start_time": "2023-08-14T19:33:31.430Z"
   },
   {
    "duration": 223,
    "start_time": "2023-08-14T19:33:32.802Z"
   },
   {
    "duration": 621,
    "start_time": "2023-08-14T19:33:33.027Z"
   },
   {
    "duration": 4,
    "start_time": "2023-08-14T19:33:33.650Z"
   },
   {
    "duration": 69,
    "start_time": "2023-08-14T19:33:33.656Z"
   },
   {
    "duration": 15,
    "start_time": "2023-08-14T19:33:33.727Z"
   },
   {
    "duration": 83,
    "start_time": "2023-08-14T19:33:33.743Z"
   },
   {
    "duration": 14,
    "start_time": "2023-08-14T19:33:33.828Z"
   },
   {
    "duration": 45,
    "start_time": "2023-08-14T19:33:33.844Z"
   },
   {
    "duration": 12,
    "start_time": "2023-08-14T19:33:33.891Z"
   },
   {
    "duration": 27,
    "start_time": "2023-08-14T19:33:33.905Z"
   },
   {
    "duration": 15,
    "start_time": "2023-08-14T19:33:33.934Z"
   },
   {
    "duration": 26,
    "start_time": "2023-08-14T19:33:33.950Z"
   },
   {
    "duration": 18,
    "start_time": "2023-08-14T19:33:33.979Z"
   },
   {
    "duration": 306,
    "start_time": "2023-08-14T19:33:33.999Z"
   },
   {
    "duration": 10,
    "start_time": "2023-08-14T19:33:34.307Z"
   },
   {
    "duration": 6,
    "start_time": "2023-08-14T19:33:34.319Z"
   },
   {
    "duration": 25,
    "start_time": "2023-08-14T19:33:34.326Z"
   },
   {
    "duration": 483,
    "start_time": "2023-08-14T19:33:34.352Z"
   },
   {
    "duration": 462,
    "start_time": "2023-08-14T19:33:34.837Z"
   },
   {
    "duration": 12,
    "start_time": "2023-08-14T19:33:35.301Z"
   },
   {
    "duration": 33,
    "start_time": "2023-08-14T19:33:35.314Z"
   },
   {
    "duration": 336,
    "start_time": "2023-08-14T19:33:35.349Z"
   },
   {
    "duration": 148,
    "start_time": "2023-08-14T19:33:35.687Z"
   },
   {
    "duration": 151,
    "start_time": "2023-08-14T19:33:35.837Z"
   },
   {
    "duration": 153,
    "start_time": "2023-08-14T19:33:35.990Z"
   },
   {
    "duration": 4,
    "start_time": "2023-08-14T19:33:36.144Z"
   },
   {
    "duration": 61,
    "start_time": "2023-08-14T19:33:36.150Z"
   },
   {
    "duration": 6,
    "start_time": "2023-08-14T19:33:36.213Z"
   },
   {
    "duration": 12,
    "start_time": "2023-08-14T19:33:36.220Z"
   },
   {
    "duration": 63,
    "start_time": "2023-08-14T19:33:36.233Z"
   },
   {
    "duration": 219,
    "start_time": "2023-08-14T19:33:36.298Z"
   },
   {
    "duration": 23,
    "start_time": "2023-08-14T19:33:36.519Z"
   },
   {
    "duration": 304,
    "start_time": "2023-08-14T19:33:36.544Z"
   },
   {
    "duration": 6,
    "start_time": "2023-08-14T19:33:36.850Z"
   },
   {
    "duration": 17,
    "start_time": "2023-08-14T19:33:36.857Z"
   },
   {
    "duration": 6,
    "start_time": "2023-08-14T19:33:36.876Z"
   },
   {
    "duration": 277,
    "start_time": "2023-08-14T19:33:36.884Z"
   },
   {
    "duration": 2,
    "start_time": "2023-08-14T19:33:37.163Z"
   },
   {
    "duration": 2,
    "start_time": "2023-08-14T19:33:37.174Z"
   },
   {
    "duration": 323,
    "start_time": "2023-08-14T19:33:37.180Z"
   },
   {
    "duration": 7,
    "start_time": "2023-08-14T19:33:37.505Z"
   },
   {
    "duration": 26,
    "start_time": "2023-08-14T19:33:37.514Z"
   },
   {
    "duration": 14,
    "start_time": "2023-08-14T19:33:37.542Z"
   },
   {
    "duration": 298,
    "start_time": "2023-08-14T19:33:37.557Z"
   },
   {
    "duration": 4,
    "start_time": "2023-08-14T19:33:37.856Z"
   },
   {
    "duration": 19,
    "start_time": "2023-08-14T19:33:37.862Z"
   },
   {
    "duration": 445,
    "start_time": "2023-08-14T19:33:37.883Z"
   },
   {
    "duration": 10,
    "start_time": "2023-08-14T19:33:38.330Z"
   },
   {
    "duration": 13,
    "start_time": "2023-08-14T19:33:38.342Z"
   },
   {
    "duration": 23,
    "start_time": "2023-08-14T19:33:38.357Z"
   },
   {
    "duration": 22,
    "start_time": "2023-08-14T19:33:38.382Z"
   }
  ],
  "kernelspec": {
   "display_name": "Python 3 (ipykernel)",
   "language": "python",
   "name": "python3"
  },
  "language_info": {
   "codemirror_mode": {
    "name": "ipython",
    "version": 3
   },
   "file_extension": ".py",
   "mimetype": "text/x-python",
   "name": "python",
   "nbconvert_exporter": "python",
   "pygments_lexer": "ipython3",
   "version": "3.9.5"
  },
  "toc": {
   "base_numbering": 1,
   "nav_menu": {},
   "number_sections": true,
   "sideBar": true,
   "skip_h1_title": true,
   "title_cell": "Table of Contents",
   "title_sidebar": "Contents",
   "toc_cell": false,
   "toc_position": {},
   "toc_section_display": true,
   "toc_window_display": true
  }
 },
 "nbformat": 4,
 "nbformat_minor": 2
}
